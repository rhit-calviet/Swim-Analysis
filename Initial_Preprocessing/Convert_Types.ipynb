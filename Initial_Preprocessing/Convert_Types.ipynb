{
 "cells": [
  {
   "cell_type": "code",
   "execution_count": 1,
   "id": "76b98c7e-6ddc-4424-a33c-e7a566483f94",
   "metadata": {},
   "outputs": [],
   "source": [
    "import pandas as pd"
   ]
  },
  {
   "cell_type": "code",
   "execution_count": 2,
   "id": "08c07fc2-8a37-4e14-b9a3-1d0a8ecd2ae4",
   "metadata": {},
   "outputs": [
    {
     "data": {
      "text/html": [
       "<div>\n",
       "<style scoped>\n",
       "    .dataframe tbody tr th:only-of-type {\n",
       "        vertical-align: middle;\n",
       "    }\n",
       "\n",
       "    .dataframe tbody tr th {\n",
       "        vertical-align: top;\n",
       "    }\n",
       "\n",
       "    .dataframe thead th {\n",
       "        text-align: right;\n",
       "    }\n",
       "</style>\n",
       "<table border=\"1\" class=\"dataframe\">\n",
       "  <thead>\n",
       "    <tr style=\"text-align: right;\">\n",
       "      <th></th>\n",
       "      <th>Event</th>\n",
       "      <th>Swim Time</th>\n",
       "      <th>Age</th>\n",
       "      <th>Points</th>\n",
       "      <th>Time Standard</th>\n",
       "      <th>Meet</th>\n",
       "      <th>LSC</th>\n",
       "      <th>Team</th>\n",
       "      <th>Swim Date</th>\n",
       "      <th>PersonKey</th>\n",
       "      <th>SwimEventKey</th>\n",
       "      <th>MeetKey</th>\n",
       "      <th>SortKey</th>\n",
       "      <th>UsasSwimTimeKey</th>\n",
       "    </tr>\n",
       "  </thead>\n",
       "  <tbody>\n",
       "    <tr>\n",
       "      <th>0</th>\n",
       "      <td>50 FR SCY</td>\n",
       "      <td>30.17</td>\n",
       "      <td>14</td>\n",
       "      <td>170</td>\n",
       "      <td>2012-2016 B</td>\n",
       "      <td>2016 NT LAC BB and Under</td>\n",
       "      <td>NT</td>\n",
       "      <td>Lakeside Aquatic Club</td>\n",
       "      <td>01/10/2016</td>\n",
       "      <td>325517</td>\n",
       "      <td>1</td>\n",
       "      <td>94456</td>\n",
       "      <td>2.010003e+09</td>\n",
       "      <td>117238640</td>\n",
       "    </tr>\n",
       "    <tr>\n",
       "      <th>1</th>\n",
       "      <td>50 FR SCY</td>\n",
       "      <td>30.73</td>\n",
       "      <td>13</td>\n",
       "      <td>210</td>\n",
       "      <td>\"Slower than B\"</td>\n",
       "      <td>2015 NT NTN December \"BB\" and</td>\n",
       "      <td>NT</td>\n",
       "      <td>Lakeside Aquatic Club</td>\n",
       "      <td>12/12/2015</td>\n",
       "      <td>325517</td>\n",
       "      <td>1</td>\n",
       "      <td>87425</td>\n",
       "      <td>2.010003e+09</td>\n",
       "      <td>101373752</td>\n",
       "    </tr>\n",
       "    <tr>\n",
       "      <th>2</th>\n",
       "      <td>50 FR SCY</td>\n",
       "      <td>32.31</td>\n",
       "      <td>13</td>\n",
       "      <td>113</td>\n",
       "      <td>\"Slower than B\"</td>\n",
       "      <td>2O15 NT MARS D2 L3 Invitational</td>\n",
       "      <td>NT</td>\n",
       "      <td>Lakeside Aquatic Club</td>\n",
       "      <td>05/31/2015</td>\n",
       "      <td>325517</td>\n",
       "      <td>1</td>\n",
       "      <td>119551</td>\n",
       "      <td>2.010003e+09</td>\n",
       "      <td>126543334</td>\n",
       "    </tr>\n",
       "    <tr>\n",
       "      <th>3</th>\n",
       "      <td>50 FR SCY</td>\n",
       "      <td>32.63</td>\n",
       "      <td>13</td>\n",
       "      <td>95</td>\n",
       "      <td>\"Slower than B\"</td>\n",
       "      <td>2015 NT MARS D2 L3 Invitational</td>\n",
       "      <td>NT</td>\n",
       "      <td>Lakeside Aquatic Club</td>\n",
       "      <td>07/19/2015</td>\n",
       "      <td>325517</td>\n",
       "      <td>1</td>\n",
       "      <td>79314</td>\n",
       "      <td>2.010003e+09</td>\n",
       "      <td>109403838</td>\n",
       "    </tr>\n",
       "    <tr>\n",
       "      <th>4</th>\n",
       "      <td>100 FR SCY</td>\n",
       "      <td>1:09.82</td>\n",
       "      <td>13</td>\n",
       "      <td>90</td>\n",
       "      <td>\"Slower than B\"</td>\n",
       "      <td>2015 NT LAC Intrasquad Meet</td>\n",
       "      <td>NT</td>\n",
       "      <td>Lakeside Aquatic Club</td>\n",
       "      <td>10/10/2015</td>\n",
       "      <td>325517</td>\n",
       "      <td>2</td>\n",
       "      <td>26123</td>\n",
       "      <td>2.020007e+09</td>\n",
       "      <td>140552299</td>\n",
       "    </tr>\n",
       "  </tbody>\n",
       "</table>\n",
       "</div>"
      ],
      "text/plain": [
       "        Event Swim Time  Age Points    Time Standard  \\\n",
       "0   50 FR SCY     30.17   14    170      2012-2016 B   \n",
       "1   50 FR SCY     30.73   13    210  \"Slower than B\"   \n",
       "2   50 FR SCY     32.31   13    113  \"Slower than B\"   \n",
       "3   50 FR SCY     32.63   13     95  \"Slower than B\"   \n",
       "4  100 FR SCY   1:09.82   13     90  \"Slower than B\"   \n",
       "\n",
       "                               Meet LSC                   Team   Swim Date  \\\n",
       "0          2016 NT LAC BB and Under  NT  Lakeside Aquatic Club  01/10/2016   \n",
       "1     2015 NT NTN December \"BB\" and  NT  Lakeside Aquatic Club  12/12/2015   \n",
       "2  2O15 NT MARS D2 L3 Invitational   NT  Lakeside Aquatic Club  05/31/2015   \n",
       "3   2015 NT MARS D2 L3 Invitational  NT  Lakeside Aquatic Club  07/19/2015   \n",
       "4       2015 NT LAC Intrasquad Meet  NT  Lakeside Aquatic Club  10/10/2015   \n",
       "\n",
       "   PersonKey  SwimEventKey  MeetKey       SortKey  UsasSwimTimeKey  \n",
       "0     325517             1    94456  2.010003e+09        117238640  \n",
       "1     325517             1    87425  2.010003e+09        101373752  \n",
       "2     325517             1   119551  2.010003e+09        126543334  \n",
       "3     325517             1    79314  2.010003e+09        109403838  \n",
       "4     325517             2    26123  2.020007e+09        140552299  "
      ]
     },
     "execution_count": 2,
     "metadata": {},
     "output_type": "execute_result"
    }
   ],
   "source": [
    "df = pd.read_csv('5000_swimmers.csv')\n",
    "df.head()"
   ]
  },
  {
   "cell_type": "code",
   "execution_count": 3,
   "id": "31c5c70c-25ed-496c-9188-302195772d84",
   "metadata": {},
   "outputs": [
    {
     "name": "stdout",
     "output_type": "stream",
     "text": [
      "<class 'pandas.core.frame.DataFrame'>\n",
      "RangeIndex: 444243 entries, 0 to 444242\n",
      "Data columns (total 14 columns):\n",
      " #   Column           Non-Null Count   Dtype  \n",
      "---  ------           --------------   -----  \n",
      " 0   Event            444243 non-null  object \n",
      " 1   Swim Time        444243 non-null  object \n",
      " 2   Age              444243 non-null  int64  \n",
      " 3   Points           444243 non-null  object \n",
      " 4   Time Standard    444243 non-null  object \n",
      " 5   Meet             444243 non-null  object \n",
      " 6   LSC              444243 non-null  object \n",
      " 7   Team             444243 non-null  object \n",
      " 8   Swim Date        444243 non-null  object \n",
      " 9   PersonKey        444243 non-null  int64  \n",
      " 10  SwimEventKey     444243 non-null  int64  \n",
      " 11  MeetKey          444243 non-null  int64  \n",
      " 12  SortKey          444243 non-null  float64\n",
      " 13  UsasSwimTimeKey  444243 non-null  int64  \n",
      "dtypes: float64(1), int64(5), object(8)\n",
      "memory usage: 47.5+ MB\n"
     ]
    }
   ],
   "source": [
    "df.info()"
   ]
  },
  {
   "cell_type": "code",
   "execution_count": 4,
   "id": "a6250fc5-711d-42c9-9e58-1f85ab656e87",
   "metadata": {},
   "outputs": [
    {
     "name": "stdout",
     "output_type": "stream",
     "text": [
      "<class 'pandas.core.frame.DataFrame'>\n",
      "RangeIndex: 444243 entries, 0 to 444242\n",
      "Data columns (total 14 columns):\n",
      " #   Column           Non-Null Count   Dtype         \n",
      "---  ------           --------------   -----         \n",
      " 0   Event            444243 non-null  category      \n",
      " 1   Swim Time        444243 non-null  object        \n",
      " 2   Age              444243 non-null  int64         \n",
      " 3   Points           444243 non-null  int64         \n",
      " 4   Time Standard    444243 non-null  object        \n",
      " 5   Meet             444243 non-null  category      \n",
      " 6   LSC              444243 non-null  category      \n",
      " 7   Team             444243 non-null  category      \n",
      " 8   Swim Date        444243 non-null  datetime64[ns]\n",
      " 9   PersonKey        444243 non-null  int64         \n",
      " 10  SwimEventKey     444243 non-null  int64         \n",
      " 11  MeetKey          444243 non-null  int64         \n",
      " 12  SortKey          444243 non-null  float64       \n",
      " 13  UsasSwimTimeKey  444243 non-null  int64         \n",
      "dtypes: category(4), datetime64[ns](1), float64(1), int64(6), object(2)\n",
      "memory usage: 39.8+ MB\n"
     ]
    }
   ],
   "source": [
    "df.Event = df.Event.astype('category')\n",
    "df['Points'] = df['Points'].replace('N\\\\A', 0)\n",
    "df.Points = df.Points.astype('int')\n",
    "df.Meet = df.Meet.astype('category')\n",
    "df.LSC = df.LSC.astype('category')\n",
    "df.Team = df.Team.astype('category')\n",
    "df['Swim Date'] = pd.to_datetime(df['Swim Date'])\n",
    "df.info()"
   ]
  },
  {
   "cell_type": "code",
   "execution_count": 5,
   "id": "f9d409d7-9377-42f4-aada-96a8c0f51861",
   "metadata": {},
   "outputs": [
    {
     "name": "stdout",
     "output_type": "stream",
     "text": [
      "<class 'pandas.core.frame.DataFrame'>\n",
      "RangeIndex: 444243 entries, 0 to 444242\n",
      "Data columns (total 14 columns):\n",
      " #   Column           Non-Null Count   Dtype          \n",
      "---  ------           --------------   -----          \n",
      " 0   Event            444243 non-null  category       \n",
      " 1   Swim Time        444243 non-null  timedelta64[ns]\n",
      " 2   Age              444243 non-null  int64          \n",
      " 3   Points           444243 non-null  int64          \n",
      " 4   Time Standard    444243 non-null  object         \n",
      " 5   Meet             444243 non-null  category       \n",
      " 6   LSC              444243 non-null  category       \n",
      " 7   Team             444243 non-null  category       \n",
      " 8   Swim Date        444243 non-null  datetime64[ns] \n",
      " 9   PersonKey        444243 non-null  int64          \n",
      " 10  SwimEventKey     444243 non-null  int64          \n",
      " 11  MeetKey          444243 non-null  int64          \n",
      " 12  SortKey          444243 non-null  float64        \n",
      " 13  UsasSwimTimeKey  444243 non-null  int64          \n",
      "dtypes: category(4), datetime64[ns](1), float64(1), int64(6), object(1), timedelta64[ns](1)\n",
      "memory usage: 39.8+ MB\n"
     ]
    }
   ],
   "source": [
    "def parse_swim_time_to_timedelta(time_str):\n",
    "    # Case 1: Time in format s.cc (seconds.centiseconds)\n",
    "    if '.' in time_str and ':' not in time_str:\n",
    "        return pd.to_timedelta(float(time_str), unit='s')\n",
    "    \n",
    "    # Case 2: Time in format ss.cc (seconds.centiseconds)\n",
    "    elif '.' in time_str and time_str.count(':') == 0:\n",
    "        return pd.to_timedelta(float(time_str), unit='s')\n",
    "    \n",
    "    # Case 3: Time in format m:ss.cc (minutes:seconds.centiseconds)\n",
    "    elif ':' in time_str and time_str.count(':') == 1:\n",
    "        minutes, seconds = time_str.split(':')\n",
    "        return pd.to_timedelta(int(minutes) * 60 + float(seconds), unit='s')\n",
    "    \n",
    "    # Case 4: Time in format mm:ss.cc (minutes:seconds.centiseconds)\n",
    "    elif ':' in time_str and time_str.count(':') == 1:\n",
    "        minutes, seconds = time_str.split(':')\n",
    "        return pd.to_timedelta(int(minutes) * 60 + float(seconds), unit='s')\n",
    "\n",
    "# Apply the function to convert the 'Swim Time' column to timedelta\n",
    "df['Swim Time'] = df['Swim Time'].str.strip('r')\n",
    "df['Swim Time'] = df['Swim Time'].apply(parse_swim_time_to_timedelta)\n",
    "df.info()"
   ]
  },
  {
   "cell_type": "code",
   "execution_count": 6,
   "id": "bcffde63-40d4-4e9c-904e-b5d1c30715bd",
   "metadata": {},
   "outputs": [
    {
     "data": {
      "text/plain": [
       "261528   0 days 00:00:18.790000\n",
       "261529   0 days 00:00:18.950000\n",
       "261530   0 days 00:00:19.050000\n",
       "261531   0 days 00:00:19.090000\n",
       "261532   0 days 00:00:19.130000\n",
       "                  ...          \n",
       "60270    0 days 00:27:44.830000\n",
       "49693    0 days 00:28:43.790000\n",
       "38106    0 days 00:29:14.860000\n",
       "269467   0 days 00:30:17.800000\n",
       "178292   0 days 00:34:33.840000\n",
       "Name: Swim Time, Length: 444243, dtype: timedelta64[ns]"
      ]
     },
     "execution_count": 6,
     "metadata": {},
     "output_type": "execute_result"
    }
   ],
   "source": [
    "df['Swim Time'].sort_values()"
   ]
  },
  {
   "cell_type": "code",
   "execution_count": 7,
   "id": "b3450b9a-1819-4382-a79c-3904c7d7e06d",
   "metadata": {},
   "outputs": [
    {
     "data": {
      "text/plain": [
       "Time Standard\n",
       "\"Slower than B\"                101846\n",
       "2020-2024 BB                    37361\n",
       "2016-2020 BB                    33515\n",
       "2020-2024 A                     23257\n",
       "2020-2024 AA                    21603\n",
       "                                ...  \n",
       "2013 Summer Nationals (LCM)         2\n",
       "2008 Winter Juniors (SCY)           2\n",
       "2016 Summer US Open                 2\n",
       "2016 Olympic Trials                 1\n",
       "2009 Summer US Open                 1\n",
       "Name: count, Length: 140, dtype: int64"
      ]
     },
     "execution_count": 7,
     "metadata": {},
     "output_type": "execute_result"
    }
   ],
   "source": [
    "df['Time Standard'].value_counts()"
   ]
  },
  {
   "cell_type": "code",
   "execution_count": 8,
   "id": "e148c66d-e96f-4032-bfa3-f740daa3fc82",
   "metadata": {},
   "outputs": [],
   "source": [
    "# Too difficult to sort all of these, would've been easy with standardized BB, B, A, AA, AAA, AAAA"
   ]
  },
  {
   "cell_type": "code",
   "execution_count": 9,
   "id": "4976776b-f829-46e2-9354-c14386a30481",
   "metadata": {},
   "outputs": [],
   "source": [
    "df['Time Standard'] = df['Time Standard'].astype('category')"
   ]
  },
  {
   "cell_type": "code",
   "execution_count": 10,
   "id": "78c9f2e2-b510-4716-94e7-f9134b58c892",
   "metadata": {},
   "outputs": [
    {
     "name": "stdout",
     "output_type": "stream",
     "text": [
      "<class 'pandas.core.frame.DataFrame'>\n",
      "RangeIndex: 444243 entries, 0 to 444242\n",
      "Data columns (total 14 columns):\n",
      " #   Column           Non-Null Count   Dtype          \n",
      "---  ------           --------------   -----          \n",
      " 0   Event            444243 non-null  category       \n",
      " 1   Swim Time        444243 non-null  timedelta64[ns]\n",
      " 2   Age              444243 non-null  int64          \n",
      " 3   Points           444243 non-null  int64          \n",
      " 4   Time Standard    444243 non-null  category       \n",
      " 5   Meet             444243 non-null  category       \n",
      " 6   LSC              444243 non-null  category       \n",
      " 7   Team             444243 non-null  category       \n",
      " 8   Swim Date        444243 non-null  datetime64[ns] \n",
      " 9   PersonKey        444243 non-null  int64          \n",
      " 10  SwimEventKey     444243 non-null  int64          \n",
      " 11  MeetKey          444243 non-null  int64          \n",
      " 12  SortKey          444243 non-null  float64        \n",
      " 13  UsasSwimTimeKey  444243 non-null  int64          \n",
      "dtypes: category(5), datetime64[ns](1), float64(1), int64(6), timedelta64[ns](1)\n",
      "memory usage: 37.3 MB\n"
     ]
    }
   ],
   "source": [
    "df.info()"
   ]
  },
  {
   "cell_type": "code",
   "execution_count": 11,
   "id": "884d751e-df85-4588-9553-36e9234add82",
   "metadata": {},
   "outputs": [],
   "source": [
    "df.to_csv('dtypes_5000_swimmers.csv', index=False) "
   ]
  }
 ],
 "metadata": {
  "kernelspec": {
   "display_name": "Python 3 (ipykernel)",
   "language": "python",
   "name": "python3"
  },
  "language_info": {
   "codemirror_mode": {
    "name": "ipython",
    "version": 3
   },
   "file_extension": ".py",
   "mimetype": "text/x-python",
   "name": "python",
   "nbconvert_exporter": "python",
   "pygments_lexer": "ipython3",
   "version": "3.11.10"
  }
 },
 "nbformat": 4,
 "nbformat_minor": 5
}
