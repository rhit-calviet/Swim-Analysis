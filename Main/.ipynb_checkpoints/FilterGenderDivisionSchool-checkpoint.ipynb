{
 "cells": [
  {
   "cell_type": "code",
   "execution_count": null,
   "id": "4bbe3ef2-f010-4e3d-8d0f-791f98a95421",
   "metadata": {},
   "outputs": [],
   "source": [
    "import pandas as pd\n",
    "import matplotlib.pyplot as plt\n",
    "import warnings"
   ]
  },
  {
   "cell_type": "code",
   "execution_count": null,
   "id": "7e5fe149-a5aa-497f-88c7-5797973a403f",
   "metadata": {},
   "outputs": [],
   "source": [
    "warnings.filterwarnings(\"ignore\")"
   ]
  },
  {
   "cell_type": "code",
   "execution_count": null,
   "id": "d5e4266a-2cf3-47bb-93d1-4e8e019f94f1",
   "metadata": {},
   "outputs": [],
   "source": [
    "df = pd.read_parquet('CLEANED_SWIM_DATA.parquet')"
   ]
  },
  {
   "cell_type": "code",
   "execution_count": null,
   "id": "2a91c70c-33c7-4c7d-a9e8-daf1dceb0a92",
   "metadata": {},
   "outputs": [],
   "source": [
    "df.head()"
   ]
  },
  {
   "cell_type": "code",
   "execution_count": null,
   "id": "e10e5b31-ae36-4c58-b7c6-ab08887b8e0c",
   "metadata": {},
   "outputs": [],
   "source": [
    "df.dtypes"
   ]
  },
  {
   "cell_type": "code",
   "execution_count": null,
   "id": "2e3c4914-99ea-4aee-bdd4-a09ba73bbf4e",
   "metadata": {},
   "outputs": [],
   "source": [
    "df.loc[:,'isHS'] = df.loc[:,'Division'] == 'HS'\n"
   ]
  },
  {
   "cell_type": "code",
   "execution_count": null,
   "id": "afe2d5f6-c43f-48b1-aaad-6609b195dc01",
   "metadata": {},
   "outputs": [],
   "source": [
    "df[df.Name=='Vineet Ranade']"
   ]
  },
  {
   "cell_type": "code",
   "execution_count": null,
   "id": "213063ad-afde-41d4-b2b9-fa30dc560f4e",
   "metadata": {},
   "outputs": [],
   "source": [
    "# Number of unique swimmers\n",
    "df.ID.nunique()"
   ]
  },
  {
   "cell_type": "code",
   "execution_count": null,
   "id": "ac2da8e3-2898-4fa2-9816-c83158e72409",
   "metadata": {},
   "outputs": [],
   "source": [
    "df.shape"
   ]
  },
  {
   "cell_type": "markdown",
   "id": "c402e312-2490-4375-a790-e8e13abc1326",
   "metadata": {},
   "source": [
    "## Comparing All Events"
   ]
  },
  {
   "cell_type": "code",
   "execution_count": null,
   "id": "856a9aa1-26c8-4dda-a869-5482963d76f7",
   "metadata": {},
   "outputs": [],
   "source": [
    "college_high_school_all_events = df.pivot_table(values='Points', index='ID', columns='isHS', aggfunc='mean')\n",
    "\n",
    "# Add a new column for the difference between False and True averages\n",
    "college_high_school_all_events['Difference'] = college_high_school_all_events[False] - college_high_school_all_events[True]\n",
    "\n",
    "# Display the pivot table with the new 'Difference' column\n",
    "college_high_school_all_events"
   ]
  },
  {
   "cell_type": "code",
   "execution_count": null,
   "id": "a06a2bd1-a680-460d-a4cd-212384d2686b",
   "metadata": {},
   "outputs": [],
   "source": [
    "# For specific swimmer Vineet\n",
    "college_high_school_all_events.loc[418728]"
   ]
  },
  {
   "cell_type": "code",
   "execution_count": null,
   "id": "6b4438d0-2896-4878-be69-c57976b41dc0",
   "metadata": {},
   "outputs": [],
   "source": [
    "# Filtering out the infinity values and Na values"
   ]
  },
  {
   "cell_type": "code",
   "execution_count": null,
   "id": "fe00de7a-76ee-4901-84b0-b71b3a603e6a",
   "metadata": {},
   "outputs": [],
   "source": [
    "college_high_school_all_events['Difference'].isin([float('inf'), -float('inf')]).sum()"
   ]
  },
  {
   "cell_type": "code",
   "execution_count": null,
   "id": "ce0597ed-a2fd-47d2-bfd9-de0c8349bc68",
   "metadata": {},
   "outputs": [],
   "source": [
    "college_high_school_all_events['Difference'] = college_high_school_all_events['Difference'].replace([float('inf'), -float('inf')], float('nan'))"
   ]
  },
  {
   "cell_type": "code",
   "execution_count": null,
   "id": "a4026f50-92e8-4505-886f-4ec72c32f585",
   "metadata": {},
   "outputs": [],
   "source": [
    "college_high_school_all_events['Difference'].isna().sum()"
   ]
  },
  {
   "cell_type": "code",
   "execution_count": null,
   "id": "6b4ee127-eb82-4a4a-9a21-ec6b5274d3c5",
   "metadata": {},
   "outputs": [],
   "source": [
    "college_high_school_all_events = college_high_school_all_events.dropna(subset=['Difference'])"
   ]
  },
  {
   "cell_type": "markdown",
   "id": "c1bbb1a8-dc81-4266-98e3-0dc06894c40e",
   "metadata": {},
   "source": [
    "Positive values are betters -> Indicates improvement in college\n",
    "Negative values are worse -> Indicates not improving in college"
   ]
  },
  {
   "cell_type": "code",
   "execution_count": null,
   "id": "57d3f902-2555-485b-bb71-8a445c14574b",
   "metadata": {},
   "outputs": [],
   "source": [
    "mean_difference = college_high_school_all_events['Difference'].mean()\n",
    "mean_difference"
   ]
  },
  {
   "cell_type": "code",
   "execution_count": null,
   "id": "619ccde6-4355-4086-8bd7-119aa699b280",
   "metadata": {},
   "outputs": [],
   "source": [
    "college_high_school_all_events['Difference'].median()"
   ]
  },
  {
   "cell_type": "code",
   "execution_count": null,
   "id": "9e30a69f-70f0-47c2-b966-bb604801c4d9",
   "metadata": {},
   "outputs": [],
   "source": [
    "college_high_school_all_events['Difference'].std()"
   ]
  },
  {
   "cell_type": "code",
   "execution_count": null,
   "id": "5f636828-a7c7-4c3f-a5af-f1883cc19709",
   "metadata": {},
   "outputs": [],
   "source": [
    "data = {\n",
    "    'Category': ['High School', 'College'],\n",
    "    'Mean Improvement': [college_high_school_all_events[True].mean(), college_high_school_all_events[False].mean()],\n",
    "    'Standard Error': [\n",
    "        college_high_school_all_events[True].std() / (len(college_high_school_all_events[True]) ** 0.5),\n",
    "        college_high_school_all_events[False].std() / (len(college_high_school_all_events[False]) ** 0.5)\n",
    "    ]\n",
    "}\n",
    "\n",
    "# Calculate 95% CI (1.96 * Standard Error)\n",
    "data['CI Lower'] = [mean - 1.96 * se for mean, se in zip(data['Mean Improvement'], data['Standard Error'])]\n",
    "data['CI Upper'] = [mean + 1.96 * se for mean, se in zip(data['Mean Improvement'], data['Standard Error'])]\n",
    "\n",
    "# Create a pandas DataFrame\n",
    "df_plot = pd.DataFrame(data)\n"
   ]
  },
  {
   "cell_type": "code",
   "execution_count": null,
   "id": "592efc01-8c79-4cb1-9d70-138db7edce1d",
   "metadata": {},
   "outputs": [],
   "source": [
    "# Plot\n",
    "plt.figure(figsize=(8, 5))\n",
    "\n",
    "# Bar plot with error bars for standard error\n",
    "plt.bar(df_plot['Category'], df_plot['Mean Improvement'], color='skyblue', alpha=0.8)\n",
    "\n",
    "# Add 95% CI error bars\n",
    "plt.errorbar(df_plot['Category'], df_plot['Mean Improvement'], \n",
    "             yerr=[df_plot['Mean Improvement'] - df_plot['CI Lower'], df_plot['CI Upper'] - df_plot['Mean Improvement']], \n",
    "             fmt='none', color='black', capsize=5)\n",
    "\n",
    "# Add labels and title\n",
    "plt.xlabel('Competition')\n",
    "plt.ylabel('Total Average Points')\n",
    "plt.title('All Events Point Average High School Vs College')\n",
    "\n",
    "# Show the plot\n",
    "plt.tight_layout()\n",
    "plt.show()"
   ]
  },
  {
   "cell_type": "markdown",
   "id": "dd9d08e5-2d1b-4452-9211-f83ca60e2e00",
   "metadata": {},
   "source": [
    "## Comparing Top 5 Events"
   ]
  },
  {
   "cell_type": "code",
   "execution_count": null,
   "id": "68e11304-760f-4197-a95f-bbb2ad007fd9",
   "metadata": {},
   "outputs": [],
   "source": [
    "def mean_of_top_5(series):\n",
    "    return series.nlargest(5).mean()\n",
    "\n",
    "# Create the pivot table with the custom aggregation function\n",
    "college_high_school_top_5 = df.pivot_table(values='Points', index='ID', columns='isHS', aggfunc=mean_of_top_5)\n",
    "\n",
    "# Add a new column for the difference between False and True averages\n",
    "college_high_school_top_5['Difference'] = college_high_school_top_5[False] - college_high_school_top_5[True]\n",
    "\n",
    "# Display the pivot table with the new 'Difference' column\n",
    "college_high_school_top_5"
   ]
  },
  {
   "cell_type": "code",
   "execution_count": null,
   "id": "dfdef720-90b7-4275-aecd-876cf5df91de",
   "metadata": {},
   "outputs": [],
   "source": [
    "college_high_school_top_5.loc[418728]"
   ]
  },
  {
   "cell_type": "code",
   "execution_count": null,
   "id": "b42fbd08-42a2-437a-a419-b8d4eec28dd0",
   "metadata": {},
   "outputs": [],
   "source": [
    "college_high_school_top_5['Difference'] = college_high_school_top_5['Difference'].replace([float('inf'), -float('inf')], float('nan'))\n",
    "college_high_school_top_5 = college_high_school_top_5.dropna(subset=['Difference'])\n",
    "mean_difference = college_high_school_top_5['Difference'].mean()\n",
    "mean_difference"
   ]
  },
  {
   "cell_type": "code",
   "execution_count": null,
   "id": "58a8ed86-b0a6-4d6a-b59a-d25fc1992b5a",
   "metadata": {},
   "outputs": [],
   "source": [
    "college_high_school_top_5['Difference'].median()"
   ]
  },
  {
   "cell_type": "code",
   "execution_count": null,
   "id": "f1fdc74c-4192-4d33-86fd-204859f69899",
   "metadata": {},
   "outputs": [],
   "source": [
    "college_high_school_top_5['Difference'].std()"
   ]
  },
  {
   "cell_type": "code",
   "execution_count": null,
   "id": "3f1baed2-3471-4c8f-aa23-b1f3ab819ab8",
   "metadata": {},
   "outputs": [],
   "source": [
    "data = {\n",
    "    'Category': ['High School', 'College'],\n",
    "    'Mean Improvement': [college_high_school_top_5[True].mean(), college_high_school_top_5[False].mean()],\n",
    "    'Standard Deviation': [college_high_school_top_5[True].std(), college_high_school_top_5[False].std()],\n",
    "}\n",
    "\n",
    "# Calculate 95% CI (1.96 * Standard Deviation / sqrt(n))\n",
    "n_high_school = len(college_high_school_top_5[True])\n",
    "n_college = len(college_high_school_top_5[False])\n",
    "data['CI Lower'] = [\n",
    "    data['Mean Improvement'][0] - 1.96 * (data['Standard Deviation'][0] / (n_high_school ** 0.5)),\n",
    "    data['Mean Improvement'][1] - 1.96 * (data['Standard Deviation'][1] / (n_college ** 0.5))\n",
    "]\n",
    "data['CI Upper'] = [\n",
    "    data['Mean Improvement'][0] + 1.96 * (data['Standard Deviation'][0] / (n_high_school ** 0.5)),\n",
    "    data['Mean Improvement'][1] + 1.96 * (data['Standard Deviation'][1] / (n_college ** 0.5))\n",
    "]\n"
   ]
  },
  {
   "cell_type": "code",
   "execution_count": null,
   "id": "424262f3-c17f-4e5e-8820-4cea686e11c1",
   "metadata": {},
   "outputs": [],
   "source": [
    "plt.figure(figsize=(8, 5))\n",
    "\n",
    "# Bar plot with error bars for standard error\n",
    "plt.bar(df_plot['Category'], df_plot['Mean Improvement'], color='skyblue', alpha=0.8)\n",
    "\n",
    "# Add 95% CI error bars\n",
    "plt.errorbar(df_plot['Category'], df_plot['Mean Improvement'],\n",
    "             yerr=[df_plot['Mean Improvement'] - df_plot['CI Lower'], df_plot['CI Upper'] - df_plot['Mean Improvement']],\n",
    "             fmt='none', color='black', capsize=5)\n",
    "\n",
    "# Add labels and title\n",
    "plt.xlabel('Competition')\n",
    "plt.ylabel('Top 5 Points Average')\n",
    "plt.title('Top 5 Points Average High School vs College')\n",
    "\n",
    "# Show the plot\n",
    "plt.tight_layout()\n",
    "plt.show()"
   ]
  },
  {
   "cell_type": "markdown",
   "id": "c1b918da-9dcc-464e-a867-7f7a7e147d5a",
   "metadata": {},
   "source": [
    "## Comparing Through Division"
   ]
  },
  {
   "cell_type": "code",
   "execution_count": null,
   "id": "dba1d363-0f09-4f43-a219-fa926969e511",
   "metadata": {},
   "outputs": [],
   "source": [
    "mean_improvement = []\n",
    "std_improvement = []"
   ]
  },
  {
   "cell_type": "code",
   "execution_count": null,
   "id": "7b8bcd8e-c184-42bd-85a5-23572d777ff7",
   "metadata": {},
   "outputs": [],
   "source": [
    "comparing_division = df.pivot_table(values='Points', index='ID', columns='Division', aggfunc=mean_of_top_5)\n",
    "comparing_division.head(8)"
   ]
  },
  {
   "cell_type": "markdown",
   "id": "f69d61ab-da90-41b6-b916-251b6db07073",
   "metadata": {},
   "source": [
    "### Division 3"
   ]
  },
  {
   "cell_type": "code",
   "execution_count": null,
   "id": "a5051196-7f3e-4336-ab8c-6619028e4783",
   "metadata": {},
   "outputs": [],
   "source": [
    "comparing_division_d3 = comparing_division.dropna(subset=[\"III\"])\n",
    "comparing_division_d3.head()"
   ]
  },
  {
   "cell_type": "code",
   "execution_count": null,
   "id": "acc3d09d-ec8d-4131-a9a2-0bea107e115f",
   "metadata": {},
   "outputs": [],
   "source": [
    "comparing_division_d3['Difference'] = comparing_division_d3['III'] - comparing_division_d3['HS']\n",
    "comparing_division_d3.head()"
   ]
  },
  {
   "cell_type": "code",
   "execution_count": null,
   "id": "d3d8e66d-5a90-4cb6-b80d-7413d5ab72fc",
   "metadata": {},
   "outputs": [],
   "source": [
    "comparing_division_d3['Difference'] = comparing_division_d3['Difference'].replace([float('inf'), -float('inf')], float('nan'))\n",
    "comparing_division_d3 = comparing_division_d3.dropna(subset=['Difference'])\n",
    "mean_difference = comparing_division_d3['Difference'].mean()\n",
    "mean_improvement.append(mean_difference)\n",
    "mean_difference"
   ]
  },
  {
   "cell_type": "code",
   "execution_count": null,
   "id": "3efd058f-39b4-4327-9d8b-4e438c678475",
   "metadata": {},
   "outputs": [],
   "source": [
    "n3 = comparing_division_d3.shape[0]\n",
    "n3"
   ]
  },
  {
   "cell_type": "code",
   "execution_count": null,
   "id": "427b70a7-d332-43e6-8b2b-bafc968d7a02",
   "metadata": {},
   "outputs": [],
   "source": [
    "comparing_division_d3['Difference'].median()"
   ]
  },
  {
   "cell_type": "code",
   "execution_count": null,
   "id": "bf49f5df-8c81-4be6-91e9-bd2da8ca1a26",
   "metadata": {},
   "outputs": [],
   "source": [
    "std_improvement.append(comparing_division_d3['Difference'].std())\n",
    "comparing_division_d3['Difference'].std()"
   ]
  },
  {
   "cell_type": "markdown",
   "id": "0ac66d9c-a8d8-403e-a725-cd29ebc2d13e",
   "metadata": {},
   "source": [
    "### Division 2"
   ]
  },
  {
   "cell_type": "code",
   "execution_count": null,
   "id": "574013c7-efd8-4890-b2f3-24563481a1de",
   "metadata": {},
   "outputs": [],
   "source": [
    "comparing_division_d2 = comparing_division.dropna(subset=[\"II\"])\n",
    "comparing_division_d2['Difference'] = comparing_division_d2['II'] - comparing_division_d2['HS']\n",
    "comparing_division_d2['Difference'] = comparing_division_d2['Difference'].replace([float('inf'), -float('inf')], float('nan'))\n",
    "comparing_division_d2 = comparing_division_d2.dropna(subset=['Difference'])\n",
    "mean_difference = comparing_division_d2['Difference'].mean()\n",
    "mean_improvement.append(mean_difference)\n",
    "mean_difference"
   ]
  },
  {
   "cell_type": "code",
   "execution_count": null,
   "id": "621e4bae-17c0-468c-802f-a24154eeacf7",
   "metadata": {},
   "outputs": [],
   "source": [
    "n2 = comparing_division_d2.shape[0]\n",
    "n2"
   ]
  },
  {
   "cell_type": "code",
   "execution_count": null,
   "id": "680906cf-23f0-4146-b8c1-844eb2abf9ea",
   "metadata": {},
   "outputs": [],
   "source": [
    "comparing_division_d2['Difference'].median()"
   ]
  },
  {
   "cell_type": "code",
   "execution_count": null,
   "id": "00350651-cbd7-40f6-a094-f7fb473dd044",
   "metadata": {},
   "outputs": [],
   "source": [
    "std_improvement.append(comparing_division_d2['Difference'].std())\n",
    "comparing_division_d2['Difference'].std()"
   ]
  },
  {
   "cell_type": "markdown",
   "id": "a58d8cf2-9ea3-42d5-83ca-3a4b789053f4",
   "metadata": {},
   "source": [
    "### Division 1"
   ]
  },
  {
   "cell_type": "code",
   "execution_count": null,
   "id": "4a16c28d-acf5-4d0a-940d-cda1e7fbafda",
   "metadata": {},
   "outputs": [],
   "source": [
    "comparing_division_d1 = comparing_division.dropna(subset=[\"I\"])\n",
    "comparing_division_d1['Difference'] = comparing_division_d1['I'] - comparing_division_d2['HS']\n",
    "comparing_division_d1['Difference'] = comparing_division_d1['Difference'].replace([float('inf'), -float('inf')], float('nan'))\n",
    "comparing_division_d1 = comparing_division_d1.dropna(subset=['Difference'])\n",
    "mean_difference = comparing_division_d1['Difference'].mean()\n",
    "mean_improvement.append(mean_difference)\n",
    "mean_difference"
   ]
  },
  {
   "cell_type": "code",
   "execution_count": null,
   "id": "e61d2d0e-6447-4c4f-b8e6-093a24a4fb0b",
   "metadata": {},
   "outputs": [],
   "source": [
    "n1 = comparing_division_d1.shape[0]\n",
    "n1"
   ]
  },
  {
   "cell_type": "code",
   "execution_count": null,
   "id": "8b7d3a60-9835-40a7-ad27-1479cd9a6855",
   "metadata": {},
   "outputs": [],
   "source": [
    "comparing_division_d1['Difference'].median()"
   ]
  },
  {
   "cell_type": "code",
   "execution_count": null,
   "id": "d84e409e-a044-45f9-94a3-5bbfc59e12a3",
   "metadata": {},
   "outputs": [],
   "source": [
    "std_improvement.append(comparing_division_d1['Difference'].std())\n",
    "comparing_division_d1['Difference'].std()"
   ]
  },
  {
   "cell_type": "code",
   "execution_count": null,
   "id": "f50ea26c-f5a2-4273-bb9e-bf433a4b79f6",
   "metadata": {},
   "outputs": [],
   "source": [
    "data = {\n",
    "    'Category': ['III', 'II', 'I'],\n",
    "    'Mean Improvement': mean_improvement,\n",
    "    'Standard Deviation': std_improvement \n",
    "}\n",
    "\n",
    "data['CI Lower'] = [\n",
    "    data['Mean Improvement'][0] - 1.96 * (data['Standard Deviation'][0] / (n3 ** 0.5)),\n",
    "    data['Mean Improvement'][1] - 1.96 * (data['Standard Deviation'][1] / (n2 ** 0.5)),\n",
    "    data['Mean Improvement'][2] - 1.96 * (data['Standard Deviation'][2] / (n1 ** 0.5))\n",
    "]\n",
    "data['CI Upper'] = [\n",
    "    data['Mean Improvement'][0] + 1.96 * (data['Standard Deviation'][0] / (n3 ** 0.5)),\n",
    "    data['Mean Improvement'][1] + 1.96 * (data['Standard Deviation'][1] / (n2 ** 0.5)),\n",
    "    data['Mean Improvement'][2] + 1.96 * (data['Standard Deviation'][2] / (n1 ** 0.5))\n",
    "]\n",
    "# Create a pandas DataFrame\n",
    "df_plot = pd.DataFrame(data)"
   ]
  },
  {
   "cell_type": "code",
   "execution_count": null,
   "id": "b37bff32-caf2-4be6-b297-568f6dbdc044",
   "metadata": {},
   "outputs": [],
   "source": [
    "plt.figure(figsize=(8, 5))\n",
    "\n",
    "# Bar plot with error bars for standard deviation\n",
    "plt.bar(df_plot['Category'], df_plot['Mean Improvement'], color='skyblue', alpha=0.8)\n",
    "\n",
    "# Add 95% CI error bars\n",
    "plt.errorbar(df_plot['Category'], df_plot['Mean Improvement'],\n",
    "             yerr=[df_plot['Mean Improvement'] - df_plot['CI Lower'], df_plot['CI Upper'] - df_plot['Mean Improvement']],\n",
    "             fmt='none', color='black', capsize=5)\n",
    "\n",
    "# Add labels and title\n",
    "plt.xlabel('Division')\n",
    "plt.ylabel('Mean Improvement')\n",
    "plt.title('Division Improvement')\n",
    "\n",
    "# Show the plot\n",
    "plt.tight_layout()\n",
    "plt.show()"
   ]
  },
  {
   "cell_type": "markdown",
   "id": "49000dd5-ee91-4f83-af22-43488cd0c2cd",
   "metadata": {},
   "source": [
    "## Comparing Through Gender"
   ]
  },
  {
   "cell_type": "code",
   "execution_count": null,
   "id": "5d5388e5-864f-4aaf-bbd2-4806892ea0d9",
   "metadata": {},
   "outputs": [],
   "source": [
    "mean_improvement = []\n",
    "std_improvement = []"
   ]
  },
  {
   "cell_type": "markdown",
   "id": "5b16b031-816d-4f89-a61a-5d42569472e8",
   "metadata": {},
   "source": [
    "#### Male"
   ]
  },
  {
   "cell_type": "code",
   "execution_count": null,
   "id": "aed6291f-5b38-42dc-813d-0d16c2227ecc",
   "metadata": {},
   "outputs": [],
   "source": [
    "comparing_male= df[df[\"Gender\"] == \"M\"].pivot_table(values='Points', index='ID', columns='isHS', aggfunc=mean_of_top_5)\n",
    "comparing_male.head(8)"
   ]
  },
  {
   "cell_type": "code",
   "execution_count": null,
   "id": "a996b12e-c0fb-4dd8-8c85-8e42a01448ab",
   "metadata": {},
   "outputs": [],
   "source": [
    "comparing_male['Difference'] = comparing_male[False] - comparing_male[True]\n",
    "comparing_male['Difference'] = comparing_male['Difference'].replace([float('inf'), -float('inf')], float('nan'))\n",
    "comparing_male = comparing_male.dropna(subset=['Difference'])\n",
    "mean_difference = comparing_male['Difference'].mean()\n",
    "mean_improvement.append(mean_difference)\n",
    "mean_difference"
   ]
  },
  {
   "cell_type": "code",
   "execution_count": null,
   "id": "53803df0-71b6-4c06-ba77-9a48dfd5ab58",
   "metadata": {},
   "outputs": [],
   "source": [
    "nM = comparing_male.shape[0]\n",
    "nM"
   ]
  },
  {
   "cell_type": "code",
   "execution_count": null,
   "id": "4864921d-aeda-4f4e-837f-a00114c86879",
   "metadata": {},
   "outputs": [],
   "source": [
    "comparing_male['Difference'].median()"
   ]
  },
  {
   "cell_type": "code",
   "execution_count": null,
   "id": "1f665329-7309-43e2-a736-dd06367f1bd8",
   "metadata": {},
   "outputs": [],
   "source": [
    "std_improvement.append(comparing_male['Difference'].std())\n",
    "comparing_male['Difference'].std()"
   ]
  },
  {
   "cell_type": "markdown",
   "id": "510bbd4b-7511-4d3c-9745-c6889ce2f206",
   "metadata": {},
   "source": [
    "#### Female"
   ]
  },
  {
   "cell_type": "code",
   "execution_count": null,
   "id": "2f27b7a2-892a-4982-b536-bf30610e9a3f",
   "metadata": {},
   "outputs": [],
   "source": [
    "comparing_female= df[df[\"Gender\"] == \"F\"].pivot_table(values='Points', index='ID', columns='isHS', aggfunc=mean_of_top_5)\n",
    "comparing_female['Difference'] = comparing_female[False] - comparing_female[True]\n",
    "comparing_female['Difference'] = comparing_female['Difference'].replace([float('inf'), -float('inf')], float('nan'))\n",
    "comparing_female = comparing_female.dropna(subset=['Difference'])\n",
    "mean_difference = comparing_female['Difference'].mean()\n",
    "mean_improvement.append(mean_difference)\n",
    "mean_difference"
   ]
  },
  {
   "cell_type": "code",
   "execution_count": null,
   "id": "1e8dab7b-e54b-4da9-92d3-ec71a5a6c76b",
   "metadata": {},
   "outputs": [],
   "source": [
    "comparing_female['Difference'].median()"
   ]
  },
  {
   "cell_type": "code",
   "execution_count": null,
   "id": "fae41193-8bf9-47e1-afbe-b07032b931c2",
   "metadata": {},
   "outputs": [],
   "source": [
    "nF = comparing_female.shape[0]\n",
    "nF"
   ]
  },
  {
   "cell_type": "code",
   "execution_count": null,
   "id": "e9bb4f85-f54e-459d-a3af-22de11c7a4f7",
   "metadata": {},
   "outputs": [],
   "source": [
    "std_improvement.append(comparing_female['Difference'].std())\n",
    "comparing_female['Difference'].std()"
   ]
  },
  {
   "cell_type": "code",
   "execution_count": null,
   "id": "99e4931b-7785-4bab-965a-a0890b4869db",
   "metadata": {},
   "outputs": [],
   "source": [
    "data = {\n",
    "    'Category': ['Male', 'Female'],\n",
    "    'Mean Improvement': mean_improvement,\n",
    "    'Standard Deviation': std_improvement \n",
    "}\n",
    "\n",
    "data['CI Lower'] = [\n",
    "    data['Mean Improvement'][0] - 1.96 * (data['Standard Deviation'][0] / (nM ** 0.5)),\n",
    "    data['Mean Improvement'][1] - 1.96 * (data['Standard Deviation'][1] / (nF ** 0.5)),\n",
    "]\n",
    "data['CI Upper'] = [\n",
    "    data['Mean Improvement'][0] + 1.96 * (data['Standard Deviation'][0] / (nM ** 0.5)),\n",
    "    data['Mean Improvement'][1] + 1.96 * (data['Standard Deviation'][1] / (nF ** 0.5)),\n",
    "]\n",
    "# Create a pandas DataFrame\n",
    "df_plot = pd.DataFrame(data)"
   ]
  },
  {
   "cell_type": "code",
   "execution_count": null,
   "id": "4e128fb1-87e9-4eb1-b2c9-d9766d4e8435",
   "metadata": {},
   "outputs": [],
   "source": [
    "plt.figure(figsize=(8, 5))\n",
    "\n",
    "# Bar plot with error bars for standard deviation\n",
    "plt.bar(df_plot['Category'], df_plot['Mean Improvement'], color='skyblue', alpha=0.8)\n",
    "\n",
    "# Add 95% CI error bars\n",
    "plt.errorbar(df_plot['Category'], df_plot['Mean Improvement'],\n",
    "             yerr=[df_plot['Mean Improvement'] - df_plot['CI Lower'], df_plot['CI Upper'] - df_plot['Mean Improvement']],\n",
    "             fmt='none', color='black', capsize=5)\n",
    "\n",
    "# Add labels and title\n",
    "plt.xlabel('Gender')\n",
    "plt.ylabel('Mean Improvement')\n",
    "plt.title('Gender Improvement')\n",
    "\n",
    "# Show the plot\n",
    "plt.tight_layout()\n",
    "plt.show()"
   ]
  },
  {
   "cell_type": "markdown",
   "id": "cb19fcc2-0459-4699-a7de-76a60e8d72a2",
   "metadata": {},
   "source": [
    "## Comparing Through School"
   ]
  },
  {
   "cell_type": "code",
   "execution_count": null,
   "id": "a98cdd5c-16de-4a17-b421-58305fb3bb2d",
   "metadata": {},
   "outputs": [],
   "source": [
    "comparing_schools = df.pivot_table(values='Points', index=['ID', 'School'], columns='isHS', aggfunc=mean_of_top_5)\n",
    "comparing_schools"
   ]
  },
  {
   "cell_type": "code",
   "execution_count": null,
   "id": "c2178a63-3c47-47c4-9968-b27b45113089",
   "metadata": {},
   "outputs": [],
   "source": [
    "comparing_schools = comparing_schools.groupby(\"School\").mean()\n",
    "comparing_schools"
   ]
  },
  {
   "cell_type": "code",
   "execution_count": null,
   "id": "7f62b501-cc92-4474-aa17-f26d32bfdfbb",
   "metadata": {},
   "outputs": [],
   "source": [
    "comparing_schools['Difference'] = comparing_schools[False] - comparing_schools[True]\n",
    "comparing_schools['Difference'] = comparing_schools['Difference'].replace([float('inf'), -float('inf')], float('nan'))\n",
    "comparing_schools = comparing_schools.dropna(subset=['Difference'])\n",
    "mean_difference = comparing_schools['Difference'].mean()\n",
    "mean_difference"
   ]
  },
  {
   "cell_type": "code",
   "execution_count": null,
   "id": "7fc886ea-f5e8-464e-84db-7e8be47ebe68",
   "metadata": {},
   "outputs": [],
   "source": [
    "comparing_schools['Difference'].median()"
   ]
  },
  {
   "cell_type": "code",
   "execution_count": null,
   "id": "f012a572-fc3e-46db-806a-6a5484df4651",
   "metadata": {},
   "outputs": [],
   "source": [
    "comparing_schools['Difference'].std()"
   ]
  },
  {
   "cell_type": "code",
   "execution_count": null,
   "id": "3339fefc-3ff2-4678-a1cb-da71ff167bc9",
   "metadata": {},
   "outputs": [],
   "source": [
    "comparing_schools.loc['Rose-Hulman Institute of Technology']"
   ]
  },
  {
   "cell_type": "code",
   "execution_count": null,
   "id": "71dc0e50-06e8-49ae-9e78-f25261a77ba7",
   "metadata": {},
   "outputs": [],
   "source": [
    "comparing_schools = comparing_schools.sort_values(by='Difference', ascending=True)"
   ]
  },
  {
   "cell_type": "code",
   "execution_count": null,
   "id": "05708dab-8cbf-4166-aaf2-d79fbe6ffbbb",
   "metadata": {},
   "outputs": [],
   "source": [
    "# The worst schools \n",
    "comparing_schools.head(10)"
   ]
  },
  {
   "cell_type": "code",
   "execution_count": null,
   "id": "80874fe0-2cb9-4a00-a3e9-ddee33396c93",
   "metadata": {},
   "outputs": [],
   "source": [
    "# The best schools\n",
    "comparing_schools = comparing_schools.sort_values(by='Difference', ascending=False)\n",
    "comparing_schools.head(10)"
   ]
  }
 ],
 "metadata": {
  "kernelspec": {
   "display_name": "Python 3 (ipykernel)",
   "language": "python",
   "name": "python3"
  },
  "language_info": {
   "codemirror_mode": {
    "name": "ipython",
    "version": 3
   },
   "file_extension": ".py",
   "mimetype": "text/x-python",
   "name": "python",
   "nbconvert_exporter": "python",
   "pygments_lexer": "ipython3",
   "version": "3.11.10"
  }
 },
 "nbformat": 4,
 "nbformat_minor": 5
}
