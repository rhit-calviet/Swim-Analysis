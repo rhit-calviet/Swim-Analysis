{
 "cells": [
  {
   "cell_type": "code",
   "execution_count": 29,
   "id": "d196f18c-a00a-474a-83a4-a140c79db982",
   "metadata": {},
   "outputs": [],
   "source": [
    "import pandas as pd\n",
    "import matplotlib.pyplot as plt\n",
    "import warnings"
   ]
  },
  {
   "cell_type": "code",
   "execution_count": 2,
   "id": "f269c491-301e-4a77-ac52-f6d68a2b63dc",
   "metadata": {},
   "outputs": [],
   "source": [
    "warnings.filterwarnings(\"ignore\")"
   ]
  },
  {
   "cell_type": "code",
   "execution_count": 3,
   "id": "ce9018bc-60d6-480b-9c02-193aaf5d1164",
   "metadata": {},
   "outputs": [
    {
     "data": {
      "text/html": [
       "<div>\n",
       "<style scoped>\n",
       "    .dataframe tbody tr th:only-of-type {\n",
       "        vertical-align: middle;\n",
       "    }\n",
       "\n",
       "    .dataframe tbody tr th {\n",
       "        vertical-align: top;\n",
       "    }\n",
       "\n",
       "    .dataframe thead th {\n",
       "        text-align: right;\n",
       "    }\n",
       "</style>\n",
       "<table border=\"1\" class=\"dataframe\">\n",
       "  <thead>\n",
       "    <tr style=\"text-align: right;\">\n",
       "      <th></th>\n",
       "      <th>Event</th>\n",
       "      <th>Conf_Rank</th>\n",
       "      <th>Time</th>\n",
       "      <th>Name</th>\n",
       "      <th>School</th>\n",
       "      <th>Standard</th>\n",
       "      <th>Date</th>\n",
       "      <th>Gender</th>\n",
       "      <th>Division</th>\n",
       "      <th>Season</th>\n",
       "      <th>SeasonYear</th>\n",
       "      <th>Time_Adj</th>\n",
       "      <th>Time_Sec</th>\n",
       "      <th>Div_Rank</th>\n",
       "      <th>NCAA_Rank</th>\n",
       "      <th>ID</th>\n",
       "      <th>Power_Tot</th>\n",
       "      <th>Power</th>\n",
       "      <th>Record</th>\n",
       "      <th>Points</th>\n",
       "    </tr>\n",
       "  </thead>\n",
       "  <tbody>\n",
       "    <tr>\n",
       "      <th>0</th>\n",
       "      <td>50 Freestyle SCY Male</td>\n",
       "      <td>-1</td>\n",
       "      <td>21.22</td>\n",
       "      <td>Ben Beldner</td>\n",
       "      <td>Binghamton</td>\n",
       "      <td>NA</td>\n",
       "      <td>2000-01-01</td>\n",
       "      <td>M</td>\n",
       "      <td>HS</td>\n",
       "      <td>00_01</td>\n",
       "      <td>2001</td>\n",
       "      <td>0 days 00:00:21.220000</td>\n",
       "      <td>21.22</td>\n",
       "      <td>-1</td>\n",
       "      <td>-1</td>\n",
       "      <td>394588</td>\n",
       "      <td>22.71</td>\n",
       "      <td>20.52</td>\n",
       "      <td>17.63</td>\n",
       "      <td>573.483330</td>\n",
       "    </tr>\n",
       "    <tr>\n",
       "      <th>1</th>\n",
       "      <td>50 Freestyle SCY Male</td>\n",
       "      <td>-1</td>\n",
       "      <td>20.87</td>\n",
       "      <td>Justin Meyn</td>\n",
       "      <td>Binghamton</td>\n",
       "      <td>NA</td>\n",
       "      <td>2000-01-01</td>\n",
       "      <td>M</td>\n",
       "      <td>HS</td>\n",
       "      <td>00_01</td>\n",
       "      <td>2001</td>\n",
       "      <td>0 days 00:00:20.870000</td>\n",
       "      <td>20.87</td>\n",
       "      <td>-1</td>\n",
       "      <td>-1</td>\n",
       "      <td>471360</td>\n",
       "      <td>10.06</td>\n",
       "      <td>20.80</td>\n",
       "      <td>17.63</td>\n",
       "      <td>602.822689</td>\n",
       "    </tr>\n",
       "    <tr>\n",
       "      <th>2</th>\n",
       "      <td>50 Freestyle SCY Male</td>\n",
       "      <td>-1</td>\n",
       "      <td>21.31</td>\n",
       "      <td>Joshua Franco</td>\n",
       "      <td>New Jersey Institute of Technology</td>\n",
       "      <td>NA</td>\n",
       "      <td>2000-01-01</td>\n",
       "      <td>M</td>\n",
       "      <td>HS</td>\n",
       "      <td>00_01</td>\n",
       "      <td>2001</td>\n",
       "      <td>0 days 00:00:21.310000</td>\n",
       "      <td>21.31</td>\n",
       "      <td>-1</td>\n",
       "      <td>-1</td>\n",
       "      <td>395308</td>\n",
       "      <td>12.40</td>\n",
       "      <td>22.05</td>\n",
       "      <td>17.63</td>\n",
       "      <td>566.247878</td>\n",
       "    </tr>\n",
       "    <tr>\n",
       "      <th>3</th>\n",
       "      <td>50 Freestyle SCY Male</td>\n",
       "      <td>-1</td>\n",
       "      <td>21.05</td>\n",
       "      <td>Gabe Laracuente</td>\n",
       "      <td>UMBC</td>\n",
       "      <td>NA</td>\n",
       "      <td>2000-01-01</td>\n",
       "      <td>M</td>\n",
       "      <td>HS</td>\n",
       "      <td>00_01</td>\n",
       "      <td>2001</td>\n",
       "      <td>0 days 00:00:21.050000</td>\n",
       "      <td>21.05</td>\n",
       "      <td>-1</td>\n",
       "      <td>-1</td>\n",
       "      <td>404642</td>\n",
       "      <td>13.77</td>\n",
       "      <td>23.93</td>\n",
       "      <td>17.63</td>\n",
       "      <td>587.490213</td>\n",
       "    </tr>\n",
       "    <tr>\n",
       "      <th>4</th>\n",
       "      <td>50 Freestyle SCY Male</td>\n",
       "      <td>-1</td>\n",
       "      <td>21.70</td>\n",
       "      <td>Ryan Board</td>\n",
       "      <td>Binghamton</td>\n",
       "      <td>NA</td>\n",
       "      <td>2000-01-01</td>\n",
       "      <td>M</td>\n",
       "      <td>HS</td>\n",
       "      <td>00_01</td>\n",
       "      <td>2001</td>\n",
       "      <td>0 days 00:00:21.700000</td>\n",
       "      <td>21.70</td>\n",
       "      <td>-1</td>\n",
       "      <td>-1</td>\n",
       "      <td>422211</td>\n",
       "      <td>18.21</td>\n",
       "      <td>28.82</td>\n",
       "      <td>17.63</td>\n",
       "      <td>536.262879</td>\n",
       "    </tr>\n",
       "  </tbody>\n",
       "</table>\n",
       "</div>"
      ],
      "text/plain": [
       "                   Event  Conf_Rank   Time             Name  \\\n",
       "0  50 Freestyle SCY Male         -1  21.22      Ben Beldner   \n",
       "1  50 Freestyle SCY Male         -1  20.87      Justin Meyn   \n",
       "2  50 Freestyle SCY Male         -1  21.31    Joshua Franco   \n",
       "3  50 Freestyle SCY Male         -1  21.05  Gabe Laracuente   \n",
       "4  50 Freestyle SCY Male         -1  21.70       Ryan Board   \n",
       "\n",
       "                               School Standard       Date Gender Division  \\\n",
       "0                          Binghamton       NA 2000-01-01      M       HS   \n",
       "1                          Binghamton       NA 2000-01-01      M       HS   \n",
       "2  New Jersey Institute of Technology       NA 2000-01-01      M       HS   \n",
       "3                                UMBC       NA 2000-01-01      M       HS   \n",
       "4                          Binghamton       NA 2000-01-01      M       HS   \n",
       "\n",
       "  Season  SeasonYear               Time_Adj  Time_Sec  Div_Rank  NCAA_Rank  \\\n",
       "0  00_01        2001 0 days 00:00:21.220000     21.22        -1         -1   \n",
       "1  00_01        2001 0 days 00:00:20.870000     20.87        -1         -1   \n",
       "2  00_01        2001 0 days 00:00:21.310000     21.31        -1         -1   \n",
       "3  00_01        2001 0 days 00:00:21.050000     21.05        -1         -1   \n",
       "4  00_01        2001 0 days 00:00:21.700000     21.70        -1         -1   \n",
       "\n",
       "       ID  Power_Tot  Power  Record      Points  \n",
       "0  394588      22.71  20.52   17.63  573.483330  \n",
       "1  471360      10.06  20.80   17.63  602.822689  \n",
       "2  395308      12.40  22.05   17.63  566.247878  \n",
       "3  404642      13.77  23.93   17.63  587.490213  \n",
       "4  422211      18.21  28.82   17.63  536.262879  "
      ]
     },
     "execution_count": 3,
     "metadata": {},
     "output_type": "execute_result"
    }
   ],
   "source": [
    "df = pd.read_parquet('CLEANED_SWIM_DATA.parquet')\n",
    "df.head()"
   ]
  },
  {
   "cell_type": "code",
   "execution_count": 4,
   "id": "65d3392b-4433-4332-9749-cdf199605fe5",
   "metadata": {},
   "outputs": [],
   "source": [
    "df.loc[:,'isHS'] = df.loc[:,'Division'] == 'HS'"
   ]
  },
  {
   "cell_type": "markdown",
   "id": "c39232cb-6cf8-43c0-bd30-6643bd429dc7",
   "metadata": {},
   "source": [
    "## Comparing Through Stroke"
   ]
  },
  {
   "cell_type": "markdown",
   "id": "9153d685-f422-4378-b588-955f66cfc680",
   "metadata": {},
   "source": [
    "### Freestyle"
   ]
  },
  {
   "cell_type": "code",
   "execution_count": 5,
   "id": "51f7a185-f3dc-4d7a-8d8e-7a76fa040eba",
   "metadata": {},
   "outputs": [],
   "source": [
    "mean_improvement = []\n",
    "std_improvement = []"
   ]
  },
  {
   "cell_type": "code",
   "execution_count": 6,
   "id": "b1faf9d5-f35b-41cb-b884-b3eba0c2de45",
   "metadata": {},
   "outputs": [
    {
     "data": {
      "text/html": [
       "<div>\n",
       "<style scoped>\n",
       "    .dataframe tbody tr th:only-of-type {\n",
       "        vertical-align: middle;\n",
       "    }\n",
       "\n",
       "    .dataframe tbody tr th {\n",
       "        vertical-align: top;\n",
       "    }\n",
       "\n",
       "    .dataframe thead th {\n",
       "        text-align: right;\n",
       "    }\n",
       "</style>\n",
       "<table border=\"1\" class=\"dataframe\">\n",
       "  <thead>\n",
       "    <tr style=\"text-align: right;\">\n",
       "      <th>isHS</th>\n",
       "      <th>False</th>\n",
       "      <th>True</th>\n",
       "    </tr>\n",
       "    <tr>\n",
       "      <th>ID</th>\n",
       "      <th></th>\n",
       "      <th></th>\n",
       "    </tr>\n",
       "  </thead>\n",
       "  <tbody>\n",
       "    <tr>\n",
       "      <th>2870</th>\n",
       "      <td>504.241363</td>\n",
       "      <td>346.525958</td>\n",
       "    </tr>\n",
       "    <tr>\n",
       "      <th>3480</th>\n",
       "      <td>427.144723</td>\n",
       "      <td>584.847697</td>\n",
       "    </tr>\n",
       "    <tr>\n",
       "      <th>7361</th>\n",
       "      <td>480.005872</td>\n",
       "      <td>629.240396</td>\n",
       "    </tr>\n",
       "    <tr>\n",
       "      <th>31849</th>\n",
       "      <td>499.981747</td>\n",
       "      <td>598.562896</td>\n",
       "    </tr>\n",
       "    <tr>\n",
       "      <th>55500</th>\n",
       "      <td>481.182479</td>\n",
       "      <td>616.667631</td>\n",
       "    </tr>\n",
       "    <tr>\n",
       "      <th>...</th>\n",
       "      <td>...</td>\n",
       "      <td>...</td>\n",
       "    </tr>\n",
       "    <tr>\n",
       "      <th>2961793</th>\n",
       "      <td>542.029515</td>\n",
       "      <td>206.839532</td>\n",
       "    </tr>\n",
       "    <tr>\n",
       "      <th>3008853</th>\n",
       "      <td>471.848461</td>\n",
       "      <td>224.746739</td>\n",
       "    </tr>\n",
       "    <tr>\n",
       "      <th>3017695</th>\n",
       "      <td>546.009002</td>\n",
       "      <td>172.140176</td>\n",
       "    </tr>\n",
       "    <tr>\n",
       "      <th>3036513</th>\n",
       "      <td>366.795820</td>\n",
       "      <td>150.443217</td>\n",
       "    </tr>\n",
       "    <tr>\n",
       "      <th>3040113</th>\n",
       "      <td>657.219483</td>\n",
       "      <td>229.142408</td>\n",
       "    </tr>\n",
       "  </tbody>\n",
       "</table>\n",
       "<p>6872 rows × 2 columns</p>\n",
       "</div>"
      ],
      "text/plain": [
       "isHS          False       True \n",
       "ID                             \n",
       "2870     504.241363  346.525958\n",
       "3480     427.144723  584.847697\n",
       "7361     480.005872  629.240396\n",
       "31849    499.981747  598.562896\n",
       "55500    481.182479  616.667631\n",
       "...             ...         ...\n",
       "2961793  542.029515  206.839532\n",
       "3008853  471.848461  224.746739\n",
       "3017695  546.009002  172.140176\n",
       "3036513  366.795820  150.443217\n",
       "3040113  657.219483  229.142408\n",
       "\n",
       "[6872 rows x 2 columns]"
      ]
     },
     "execution_count": 6,
     "metadata": {},
     "output_type": "execute_result"
    }
   ],
   "source": [
    "# Step 1: Group by swimmer ID and find their top 4 events by Points\n",
    "top_4_per_swimmer = (\n",
    "    df.groupby('ID')\n",
    "    .apply(lambda group: group.nlargest(4, 'Points'))\n",
    "    .reset_index(drop=True)\n",
    ")\n",
    "\n",
    "# Step 2: Identify swimmers with at least 2 freestyle events in their top 4\n",
    "freestyle_ids = (\n",
    "    top_4_per_swimmer[top_4_per_swimmer['Event'].str.contains('freestyle', case=False)]\n",
    "    .groupby('ID')\n",
    "    .size()  # Count the number of freestyle events in the top 4\n",
    "    .loc[lambda x: x >= 2]  # Keep swimmers with at least 2 freestyle events\n",
    "    .index\n",
    ")\n",
    "\n",
    "# Step 3: Filter the original dataset to only include these swimmers\n",
    "freestyle_filtered_df = df[df['ID'].isin(freestyle_ids)]\n",
    "\n",
    "# Step 4: For these swimmers, keep only their freestyle events\n",
    "freestyle_only = freestyle_filtered_df[\n",
    "    freestyle_filtered_df['Event'].str.contains('freestyle', case=False)\n",
    "]\n",
    "\n",
    "# Step 5: Create the pivot table, averaging the top 5 Points\n",
    "college_freestyler = freestyle_only.pivot_table(\n",
    "    values='Points', \n",
    "    index='ID', \n",
    "    columns='isHS', \n",
    "    aggfunc='mean'\n",
    ")\n",
    "\n",
    "# Display the final pivot table\n",
    "college_freestyler"
   ]
  },
  {
   "cell_type": "code",
   "execution_count": 7,
   "id": "04c8c35f-7eea-4d6a-b202-95bca3e77fde",
   "metadata": {},
   "outputs": [
    {
     "data": {
      "text/html": [
       "<div>\n",
       "<style scoped>\n",
       "    .dataframe tbody tr th:only-of-type {\n",
       "        vertical-align: middle;\n",
       "    }\n",
       "\n",
       "    .dataframe tbody tr th {\n",
       "        vertical-align: top;\n",
       "    }\n",
       "\n",
       "    .dataframe thead th {\n",
       "        text-align: right;\n",
       "    }\n",
       "</style>\n",
       "<table border=\"1\" class=\"dataframe\">\n",
       "  <thead>\n",
       "    <tr style=\"text-align: right;\">\n",
       "      <th>isHS</th>\n",
       "      <th>False</th>\n",
       "      <th>True</th>\n",
       "      <th>Difference</th>\n",
       "    </tr>\n",
       "    <tr>\n",
       "      <th>ID</th>\n",
       "      <th></th>\n",
       "      <th></th>\n",
       "      <th></th>\n",
       "    </tr>\n",
       "  </thead>\n",
       "  <tbody>\n",
       "    <tr>\n",
       "      <th>2870</th>\n",
       "      <td>504.241363</td>\n",
       "      <td>346.525958</td>\n",
       "      <td>157.715405</td>\n",
       "    </tr>\n",
       "    <tr>\n",
       "      <th>3480</th>\n",
       "      <td>427.144723</td>\n",
       "      <td>584.847697</td>\n",
       "      <td>-157.702974</td>\n",
       "    </tr>\n",
       "    <tr>\n",
       "      <th>7361</th>\n",
       "      <td>480.005872</td>\n",
       "      <td>629.240396</td>\n",
       "      <td>-149.234524</td>\n",
       "    </tr>\n",
       "    <tr>\n",
       "      <th>31849</th>\n",
       "      <td>499.981747</td>\n",
       "      <td>598.562896</td>\n",
       "      <td>-98.581149</td>\n",
       "    </tr>\n",
       "    <tr>\n",
       "      <th>55500</th>\n",
       "      <td>481.182479</td>\n",
       "      <td>616.667631</td>\n",
       "      <td>-135.485152</td>\n",
       "    </tr>\n",
       "    <tr>\n",
       "      <th>...</th>\n",
       "      <td>...</td>\n",
       "      <td>...</td>\n",
       "      <td>...</td>\n",
       "    </tr>\n",
       "    <tr>\n",
       "      <th>2961793</th>\n",
       "      <td>542.029515</td>\n",
       "      <td>206.839532</td>\n",
       "      <td>335.189983</td>\n",
       "    </tr>\n",
       "    <tr>\n",
       "      <th>3008853</th>\n",
       "      <td>471.848461</td>\n",
       "      <td>224.746739</td>\n",
       "      <td>247.101722</td>\n",
       "    </tr>\n",
       "    <tr>\n",
       "      <th>3017695</th>\n",
       "      <td>546.009002</td>\n",
       "      <td>172.140176</td>\n",
       "      <td>373.868826</td>\n",
       "    </tr>\n",
       "    <tr>\n",
       "      <th>3036513</th>\n",
       "      <td>366.795820</td>\n",
       "      <td>150.443217</td>\n",
       "      <td>216.352603</td>\n",
       "    </tr>\n",
       "    <tr>\n",
       "      <th>3040113</th>\n",
       "      <td>657.219483</td>\n",
       "      <td>229.142408</td>\n",
       "      <td>428.077074</td>\n",
       "    </tr>\n",
       "  </tbody>\n",
       "</table>\n",
       "<p>6794 rows × 3 columns</p>\n",
       "</div>"
      ],
      "text/plain": [
       "isHS          False        True  Difference\n",
       "ID                                         \n",
       "2870     504.241363  346.525958  157.715405\n",
       "3480     427.144723  584.847697 -157.702974\n",
       "7361     480.005872  629.240396 -149.234524\n",
       "31849    499.981747  598.562896  -98.581149\n",
       "55500    481.182479  616.667631 -135.485152\n",
       "...             ...         ...         ...\n",
       "2961793  542.029515  206.839532  335.189983\n",
       "3008853  471.848461  224.746739  247.101722\n",
       "3017695  546.009002  172.140176  373.868826\n",
       "3036513  366.795820  150.443217  216.352603\n",
       "3040113  657.219483  229.142408  428.077074\n",
       "\n",
       "[6794 rows x 3 columns]"
      ]
     },
     "execution_count": 7,
     "metadata": {},
     "output_type": "execute_result"
    }
   ],
   "source": [
    "college_freestyler['Difference'] = college_freestyler[False] - college_freestyler[True]\n",
    "college_freestyler['Difference'] = college_freestyler['Difference'].replace([float('inf'), -float('inf')], float('nan'))\n",
    "college_freestyler = college_freestyler.dropna(subset=['Difference'])\n",
    "college_freestyler"
   ]
  },
  {
   "cell_type": "code",
   "execution_count": 8,
   "id": "ae47a63c-556e-450c-a8b0-f90f2eac5a0c",
   "metadata": {},
   "outputs": [
    {
     "data": {
      "text/plain": [
       "11.071615668002927"
      ]
     },
     "execution_count": 8,
     "metadata": {},
     "output_type": "execute_result"
    }
   ],
   "source": [
    "mean = college_freestyler['Difference'].mean()\n",
    "mean_improvement.append(mean)\n",
    "mean"
   ]
  },
  {
   "cell_type": "code",
   "execution_count": 9,
   "id": "72d0af69-2119-4d5b-9a19-b94f49c2f551",
   "metadata": {},
   "outputs": [
    {
     "data": {
      "text/plain": [
       "7.988047703670304"
      ]
     },
     "execution_count": 9,
     "metadata": {},
     "output_type": "execute_result"
    }
   ],
   "source": [
    "college_freestyler['Difference'].median()"
   ]
  },
  {
   "cell_type": "code",
   "execution_count": 10,
   "id": "bef616c8-eaf3-484c-8fb8-0b67fc803a24",
   "metadata": {},
   "outputs": [
    {
     "data": {
      "text/plain": [
       "70.73138172014912"
      ]
     },
     "execution_count": 10,
     "metadata": {},
     "output_type": "execute_result"
    }
   ],
   "source": [
    "std = college_freestyler['Difference'].std()\n",
    "std_improvement.append(std)\n",
    "std"
   ]
  },
  {
   "cell_type": "markdown",
   "id": "8dffbee9-f144-440c-90fa-94924fcacf13",
   "metadata": {},
   "source": [
    "### Backstroke"
   ]
  },
  {
   "cell_type": "code",
   "execution_count": 11,
   "id": "079d1a18-1496-4b51-ae01-0433336c5c51",
   "metadata": {},
   "outputs": [
    {
     "data": {
      "text/html": [
       "<div>\n",
       "<style scoped>\n",
       "    .dataframe tbody tr th:only-of-type {\n",
       "        vertical-align: middle;\n",
       "    }\n",
       "\n",
       "    .dataframe tbody tr th {\n",
       "        vertical-align: top;\n",
       "    }\n",
       "\n",
       "    .dataframe thead th {\n",
       "        text-align: right;\n",
       "    }\n",
       "</style>\n",
       "<table border=\"1\" class=\"dataframe\">\n",
       "  <thead>\n",
       "    <tr style=\"text-align: right;\">\n",
       "      <th>isHS</th>\n",
       "      <th>False</th>\n",
       "      <th>True</th>\n",
       "    </tr>\n",
       "    <tr>\n",
       "      <th>ID</th>\n",
       "      <th></th>\n",
       "      <th></th>\n",
       "    </tr>\n",
       "  </thead>\n",
       "  <tbody>\n",
       "    <tr>\n",
       "      <th>76046</th>\n",
       "      <td>480.787974</td>\n",
       "      <td>409.599669</td>\n",
       "    </tr>\n",
       "    <tr>\n",
       "      <th>98286</th>\n",
       "      <td>NaN</td>\n",
       "      <td>487.360744</td>\n",
       "    </tr>\n",
       "    <tr>\n",
       "      <th>180883</th>\n",
       "      <td>448.126881</td>\n",
       "      <td>609.669374</td>\n",
       "    </tr>\n",
       "    <tr>\n",
       "      <th>182847</th>\n",
       "      <td>556.059482</td>\n",
       "      <td>645.956225</td>\n",
       "    </tr>\n",
       "    <tr>\n",
       "      <th>187695</th>\n",
       "      <td>386.915652</td>\n",
       "      <td>NaN</td>\n",
       "    </tr>\n",
       "    <tr>\n",
       "      <th>...</th>\n",
       "      <td>...</td>\n",
       "      <td>...</td>\n",
       "    </tr>\n",
       "    <tr>\n",
       "      <th>2692774</th>\n",
       "      <td>456.134473</td>\n",
       "      <td>494.905434</td>\n",
       "    </tr>\n",
       "    <tr>\n",
       "      <th>2721776</th>\n",
       "      <td>489.747648</td>\n",
       "      <td>472.052285</td>\n",
       "    </tr>\n",
       "    <tr>\n",
       "      <th>2742149</th>\n",
       "      <td>225.565902</td>\n",
       "      <td>537.069322</td>\n",
       "    </tr>\n",
       "    <tr>\n",
       "      <th>2819636</th>\n",
       "      <td>447.394298</td>\n",
       "      <td>656.787141</td>\n",
       "    </tr>\n",
       "    <tr>\n",
       "      <th>2937083</th>\n",
       "      <td>441.557694</td>\n",
       "      <td>NaN</td>\n",
       "    </tr>\n",
       "  </tbody>\n",
       "</table>\n",
       "<p>1402 rows × 2 columns</p>\n",
       "</div>"
      ],
      "text/plain": [
       "isHS          False       True \n",
       "ID                             \n",
       "76046    480.787974  409.599669\n",
       "98286           NaN  487.360744\n",
       "180883   448.126881  609.669374\n",
       "182847   556.059482  645.956225\n",
       "187695   386.915652         NaN\n",
       "...             ...         ...\n",
       "2692774  456.134473  494.905434\n",
       "2721776  489.747648  472.052285\n",
       "2742149  225.565902  537.069322\n",
       "2819636  447.394298  656.787141\n",
       "2937083  441.557694         NaN\n",
       "\n",
       "[1402 rows x 2 columns]"
      ]
     },
     "execution_count": 11,
     "metadata": {},
     "output_type": "execute_result"
    }
   ],
   "source": [
    "# Step 1: Group by swimmer ID and find their top 4 events by Points\n",
    "top_4_per_swimmer = (\n",
    "    df.groupby('ID')\n",
    "    .apply(lambda group: group.nlargest(4, 'Points'))\n",
    "    .reset_index(drop=True)\n",
    ")\n",
    "\n",
    "# Step 2: Identify swimmers with at least 2 freestyle events in their top 4\n",
    "freestyle_ids = (\n",
    "    top_4_per_swimmer[top_4_per_swimmer['Event'].str.contains('backstroke', case=False)]\n",
    "    .groupby('ID')\n",
    "    .size()  # Count the number of freestyle events in the top 4\n",
    "    .loc[lambda x: x >= 2]  # Keep swimmers with at least 2 freestyle events\n",
    "    .index\n",
    ")\n",
    "\n",
    "# Step 3: Filter the original dataset to only include these swimmers\n",
    "freestyle_filtered_df = df[df['ID'].isin(freestyle_ids)]\n",
    "\n",
    "# Step 4: For these swimmers, keep only their freestyle events\n",
    "freestyle_only = freestyle_filtered_df[\n",
    "    freestyle_filtered_df['Event'].str.contains('backstroke', case=False)\n",
    "]\n",
    "\n",
    "# Step 5: Create the pivot table, averaging the top 5 Points\n",
    "college_freestyler = freestyle_only.pivot_table(\n",
    "    values='Points', \n",
    "    index='ID', \n",
    "    columns='isHS', \n",
    "    aggfunc='mean'\n",
    ")\n",
    "\n",
    "# Display the final pivot table\n",
    "college_freestyler"
   ]
  },
  {
   "cell_type": "code",
   "execution_count": 12,
   "id": "3cf09554-757a-4f93-b049-5513fab09a3c",
   "metadata": {},
   "outputs": [
    {
     "data": {
      "text/plain": [
       "-52.634006626155774"
      ]
     },
     "execution_count": 12,
     "metadata": {},
     "output_type": "execute_result"
    }
   ],
   "source": [
    "college_freestyler['Difference'] = college_freestyler[False] - college_freestyler[True]\n",
    "college_freestyler['Difference'] = college_freestyler['Difference'].replace([float('inf'), -float('inf')], float('nan'))\n",
    "college_freestyler = college_freestyler.dropna(subset=['Difference'])\n",
    "mean = college_freestyler['Difference'].mean()\n",
    "mean_improvement.append(mean)\n",
    "mean"
   ]
  },
  {
   "cell_type": "code",
   "execution_count": 13,
   "id": "5d7016e7-a481-4e81-9eab-d8e4333a0009",
   "metadata": {},
   "outputs": [
    {
     "data": {
      "text/plain": [
       "-69.79853082904663"
      ]
     },
     "execution_count": 13,
     "metadata": {},
     "output_type": "execute_result"
    }
   ],
   "source": [
    "college_freestyler['Difference'].median()"
   ]
  },
  {
   "cell_type": "code",
   "execution_count": 14,
   "id": "d77ba9db-4d39-4d8e-a8ec-c9d9025e35ea",
   "metadata": {},
   "outputs": [
    {
     "data": {
      "text/plain": [
       "102.87196775403424"
      ]
     },
     "execution_count": 14,
     "metadata": {},
     "output_type": "execute_result"
    }
   ],
   "source": [
    "std = college_freestyler['Difference'].std()\n",
    "std_improvement.append(std)\n",
    "std"
   ]
  },
  {
   "cell_type": "code",
   "execution_count": 15,
   "id": "32c8654d-7787-439f-8c59-690504c3395a",
   "metadata": {},
   "outputs": [],
   "source": [
    "### Breaststroke"
   ]
  },
  {
   "cell_type": "code",
   "execution_count": 16,
   "id": "8cf9ade8-2e4e-474a-8990-6098d318b2f0",
   "metadata": {},
   "outputs": [
    {
     "data": {
      "text/html": [
       "<div>\n",
       "<style scoped>\n",
       "    .dataframe tbody tr th:only-of-type {\n",
       "        vertical-align: middle;\n",
       "    }\n",
       "\n",
       "    .dataframe tbody tr th {\n",
       "        vertical-align: top;\n",
       "    }\n",
       "\n",
       "    .dataframe thead th {\n",
       "        text-align: right;\n",
       "    }\n",
       "</style>\n",
       "<table border=\"1\" class=\"dataframe\">\n",
       "  <thead>\n",
       "    <tr style=\"text-align: right;\">\n",
       "      <th>isHS</th>\n",
       "      <th>False</th>\n",
       "      <th>True</th>\n",
       "    </tr>\n",
       "    <tr>\n",
       "      <th>ID</th>\n",
       "      <th></th>\n",
       "      <th></th>\n",
       "    </tr>\n",
       "  </thead>\n",
       "  <tbody>\n",
       "    <tr>\n",
       "      <th>19185</th>\n",
       "      <td>NaN</td>\n",
       "      <td>969.298323</td>\n",
       "    </tr>\n",
       "    <tr>\n",
       "      <th>57813</th>\n",
       "      <td>497.069940</td>\n",
       "      <td>NaN</td>\n",
       "    </tr>\n",
       "    <tr>\n",
       "      <th>106626</th>\n",
       "      <td>411.789353</td>\n",
       "      <td>638.677132</td>\n",
       "    </tr>\n",
       "    <tr>\n",
       "      <th>114236</th>\n",
       "      <td>594.401834</td>\n",
       "      <td>NaN</td>\n",
       "    </tr>\n",
       "    <tr>\n",
       "      <th>117612</th>\n",
       "      <td>666.279368</td>\n",
       "      <td>380.333916</td>\n",
       "    </tr>\n",
       "    <tr>\n",
       "      <th>...</th>\n",
       "      <td>...</td>\n",
       "      <td>...</td>\n",
       "    </tr>\n",
       "    <tr>\n",
       "      <th>2685500</th>\n",
       "      <td>635.838441</td>\n",
       "      <td>617.865718</td>\n",
       "    </tr>\n",
       "    <tr>\n",
       "      <th>2821522</th>\n",
       "      <td>465.991307</td>\n",
       "      <td>599.108535</td>\n",
       "    </tr>\n",
       "    <tr>\n",
       "      <th>2886611</th>\n",
       "      <td>713.588714</td>\n",
       "      <td>580.573480</td>\n",
       "    </tr>\n",
       "    <tr>\n",
       "      <th>2939294</th>\n",
       "      <td>435.466065</td>\n",
       "      <td>301.030275</td>\n",
       "    </tr>\n",
       "    <tr>\n",
       "      <th>2968147</th>\n",
       "      <td>442.363795</td>\n",
       "      <td>235.756806</td>\n",
       "    </tr>\n",
       "  </tbody>\n",
       "</table>\n",
       "<p>1755 rows × 2 columns</p>\n",
       "</div>"
      ],
      "text/plain": [
       "isHS          False       True \n",
       "ID                             \n",
       "19185           NaN  969.298323\n",
       "57813    497.069940         NaN\n",
       "106626   411.789353  638.677132\n",
       "114236   594.401834         NaN\n",
       "117612   666.279368  380.333916\n",
       "...             ...         ...\n",
       "2685500  635.838441  617.865718\n",
       "2821522  465.991307  599.108535\n",
       "2886611  713.588714  580.573480\n",
       "2939294  435.466065  301.030275\n",
       "2968147  442.363795  235.756806\n",
       "\n",
       "[1755 rows x 2 columns]"
      ]
     },
     "execution_count": 16,
     "metadata": {},
     "output_type": "execute_result"
    }
   ],
   "source": [
    "# Step 1: Group by swimmer ID and find their top 4 events by Points\n",
    "top_4_per_swimmer = (\n",
    "    df.groupby('ID')\n",
    "    .apply(lambda group: group.nlargest(4, 'Points'))\n",
    "    .reset_index(drop=True)\n",
    ")\n",
    "\n",
    "# Step 2: Identify swimmers with at least 2 freestyle events in their top 4\n",
    "freestyle_ids = (\n",
    "    top_4_per_swimmer[top_4_per_swimmer['Event'].str.contains('breaststroke', case=False)]\n",
    "    .groupby('ID')\n",
    "    .size()  # Count the number of freestyle events in the top 4\n",
    "    .loc[lambda x: x >= 2]  # Keep swimmers with at least 2 freestyle events\n",
    "    .index\n",
    ")\n",
    "\n",
    "# Step 3: Filter the original dataset to only include these swimmers\n",
    "freestyle_filtered_df = df[df['ID'].isin(freestyle_ids)]\n",
    "\n",
    "# Step 4: For these swimmers, keep only their freestyle events\n",
    "freestyle_only = freestyle_filtered_df[\n",
    "    freestyle_filtered_df['Event'].str.contains('breaststroke', case=False)\n",
    "]\n",
    "\n",
    "# Step 5: Create the pivot table, averaging the top 5 Points\n",
    "college_freestyler = freestyle_only.pivot_table(\n",
    "    values='Points', \n",
    "    index='ID', \n",
    "    columns='isHS', \n",
    "    aggfunc='mean'\n",
    ")\n",
    "\n",
    "# Display the final pivot table\n",
    "college_freestyler"
   ]
  },
  {
   "cell_type": "code",
   "execution_count": 17,
   "id": "a7d16e0b-ffe1-41fa-9a6a-c7fd31d5cfc8",
   "metadata": {},
   "outputs": [
    {
     "data": {
      "text/plain": [
       "21.282892906266387"
      ]
     },
     "execution_count": 17,
     "metadata": {},
     "output_type": "execute_result"
    }
   ],
   "source": [
    "college_freestyler['Difference'] = college_freestyler[False] - college_freestyler[True]\n",
    "college_freestyler['Difference'] = college_freestyler['Difference'].replace([float('inf'), -float('inf')], float('nan'))\n",
    "college_freestyler = college_freestyler.dropna(subset=['Difference'])\n",
    "mean = college_freestyler['Difference'].mean()\n",
    "mean_improvement.append(mean)\n",
    "mean"
   ]
  },
  {
   "cell_type": "code",
   "execution_count": 18,
   "id": "6dd83053-6f15-47b1-b6b3-469c028495dc",
   "metadata": {},
   "outputs": [
    {
     "data": {
      "text/plain": [
       "19.168990804858964"
      ]
     },
     "execution_count": 18,
     "metadata": {},
     "output_type": "execute_result"
    }
   ],
   "source": [
    "college_freestyler['Difference'].median()"
   ]
  },
  {
   "cell_type": "code",
   "execution_count": 19,
   "id": "14c4323e-1433-4b8b-9331-00edaf0eaa82",
   "metadata": {},
   "outputs": [
    {
     "data": {
      "text/plain": [
       "75.70364135655907"
      ]
     },
     "execution_count": 19,
     "metadata": {},
     "output_type": "execute_result"
    }
   ],
   "source": [
    "std = college_freestyler['Difference'].std()\n",
    "std_improvement.append(std)\n",
    "std"
   ]
  },
  {
   "cell_type": "markdown",
   "id": "be4c7233-01cc-4a5d-a23c-8ea3adff2c01",
   "metadata": {},
   "source": [
    "### Butterfly"
   ]
  },
  {
   "cell_type": "code",
   "execution_count": 20,
   "id": "3fc90b09-737f-488d-98a4-13b97157de21",
   "metadata": {},
   "outputs": [
    {
     "data": {
      "text/html": [
       "<div>\n",
       "<style scoped>\n",
       "    .dataframe tbody tr th:only-of-type {\n",
       "        vertical-align: middle;\n",
       "    }\n",
       "\n",
       "    .dataframe tbody tr th {\n",
       "        vertical-align: top;\n",
       "    }\n",
       "\n",
       "    .dataframe thead th {\n",
       "        text-align: right;\n",
       "    }\n",
       "</style>\n",
       "<table border=\"1\" class=\"dataframe\">\n",
       "  <thead>\n",
       "    <tr style=\"text-align: right;\">\n",
       "      <th>isHS</th>\n",
       "      <th>False</th>\n",
       "      <th>True</th>\n",
       "    </tr>\n",
       "    <tr>\n",
       "      <th>ID</th>\n",
       "      <th></th>\n",
       "      <th></th>\n",
       "    </tr>\n",
       "  </thead>\n",
       "  <tbody>\n",
       "    <tr>\n",
       "      <th>86833</th>\n",
       "      <td>436.741272</td>\n",
       "      <td>377.950547</td>\n",
       "    </tr>\n",
       "    <tr>\n",
       "      <th>88551</th>\n",
       "      <td>372.530564</td>\n",
       "      <td>NaN</td>\n",
       "    </tr>\n",
       "    <tr>\n",
       "      <th>93211</th>\n",
       "      <td>388.055648</td>\n",
       "      <td>618.327907</td>\n",
       "    </tr>\n",
       "    <tr>\n",
       "      <th>104506</th>\n",
       "      <td>590.159875</td>\n",
       "      <td>NaN</td>\n",
       "    </tr>\n",
       "    <tr>\n",
       "      <th>121324</th>\n",
       "      <td>452.028819</td>\n",
       "      <td>611.166766</td>\n",
       "    </tr>\n",
       "    <tr>\n",
       "      <th>...</th>\n",
       "      <td>...</td>\n",
       "      <td>...</td>\n",
       "    </tr>\n",
       "    <tr>\n",
       "      <th>2537757</th>\n",
       "      <td>629.867516</td>\n",
       "      <td>NaN</td>\n",
       "    </tr>\n",
       "    <tr>\n",
       "      <th>2694511</th>\n",
       "      <td>572.272647</td>\n",
       "      <td>352.300642</td>\n",
       "    </tr>\n",
       "    <tr>\n",
       "      <th>2749205</th>\n",
       "      <td>301.526194</td>\n",
       "      <td>769.626866</td>\n",
       "    </tr>\n",
       "    <tr>\n",
       "      <th>2809413</th>\n",
       "      <td>777.685482</td>\n",
       "      <td>705.148476</td>\n",
       "    </tr>\n",
       "    <tr>\n",
       "      <th>2904504</th>\n",
       "      <td>355.607049</td>\n",
       "      <td>311.368164</td>\n",
       "    </tr>\n",
       "  </tbody>\n",
       "</table>\n",
       "<p>1496 rows × 2 columns</p>\n",
       "</div>"
      ],
      "text/plain": [
       "isHS          False       True \n",
       "ID                             \n",
       "86833    436.741272  377.950547\n",
       "88551    372.530564         NaN\n",
       "93211    388.055648  618.327907\n",
       "104506   590.159875         NaN\n",
       "121324   452.028819  611.166766\n",
       "...             ...         ...\n",
       "2537757  629.867516         NaN\n",
       "2694511  572.272647  352.300642\n",
       "2749205  301.526194  769.626866\n",
       "2809413  777.685482  705.148476\n",
       "2904504  355.607049  311.368164\n",
       "\n",
       "[1496 rows x 2 columns]"
      ]
     },
     "execution_count": 20,
     "metadata": {},
     "output_type": "execute_result"
    }
   ],
   "source": [
    "# Step 1: Group by swimmer ID and find their top 4 events by Points\n",
    "top_4_per_swimmer = (\n",
    "    df.groupby('ID')\n",
    "    .apply(lambda group: group.nlargest(4, 'Points'))\n",
    "    .reset_index(drop=True)\n",
    ")\n",
    "\n",
    "# Step 2: Identify swimmers with at least 2 freestyle events in their top 4\n",
    "freestyle_ids = (\n",
    "    top_4_per_swimmer[top_4_per_swimmer['Event'].str.contains('butterfly', case=False)]\n",
    "    .groupby('ID')\n",
    "    .size()  # Count the number of freestyle events in the top 4\n",
    "    .loc[lambda x: x >= 2]  # Keep swimmers with at least 2 freestyle events\n",
    "    .index\n",
    ")\n",
    "\n",
    "# Step 3: Filter the original dataset to only include these swimmers\n",
    "freestyle_filtered_df = df[df['ID'].isin(freestyle_ids)]\n",
    "\n",
    "# Step 4: For these swimmers, keep only their freestyle events\n",
    "freestyle_only = freestyle_filtered_df[\n",
    "    freestyle_filtered_df['Event'].str.contains('butterfly', case=False)\n",
    "]\n",
    "\n",
    "# Step 5: Create the pivot table, averaging the top 5 Points\n",
    "college_freestyler = freestyle_only.pivot_table(\n",
    "    values='Points', \n",
    "    index='ID', \n",
    "    columns='isHS', \n",
    "    aggfunc='mean'\n",
    ")\n",
    "\n",
    "# Display the final pivot table\n",
    "college_freestyler"
   ]
  },
  {
   "cell_type": "code",
   "execution_count": 21,
   "id": "65252751-e9d9-44f9-a7a2-e88f2009066a",
   "metadata": {},
   "outputs": [
    {
     "data": {
      "text/plain": [
       "15.330597792855688"
      ]
     },
     "execution_count": 21,
     "metadata": {},
     "output_type": "execute_result"
    }
   ],
   "source": [
    "college_freestyler['Difference'] = college_freestyler[False] - college_freestyler[True]\n",
    "college_freestyler['Difference'] = college_freestyler['Difference'].replace([float('inf'), -float('inf')], float('nan'))\n",
    "college_freestyler = college_freestyler.dropna(subset=['Difference'])\n",
    "mean = college_freestyler['Difference'].mean()\n",
    "mean_improvement.append(mean)\n",
    "mean"
   ]
  },
  {
   "cell_type": "code",
   "execution_count": 22,
   "id": "861410e1-b3a2-4af8-aa52-f483308fea0d",
   "metadata": {},
   "outputs": [
    {
     "data": {
      "text/plain": [
       "71.40840665564686"
      ]
     },
     "execution_count": 22,
     "metadata": {},
     "output_type": "execute_result"
    }
   ],
   "source": [
    "std = college_freestyler['Difference'].std()\n",
    "std_improvement.append(std)\n",
    "std"
   ]
  },
  {
   "cell_type": "code",
   "execution_count": 23,
   "id": "e14a103b-b836-440b-bf63-490eae857df4",
   "metadata": {},
   "outputs": [
    {
     "data": {
      "text/plain": [
       "8.845710185146913"
      ]
     },
     "execution_count": 23,
     "metadata": {},
     "output_type": "execute_result"
    }
   ],
   "source": [
    "college_freestyler['Difference'].median()"
   ]
  },
  {
   "cell_type": "markdown",
   "id": "8dd4aa01-43eb-44f5-88fe-ea1d4c8c0c91",
   "metadata": {},
   "source": [
    "### IM"
   ]
  },
  {
   "cell_type": "code",
   "execution_count": 24,
   "id": "3e6a7ebd-7279-4af2-9e87-b8cf81cc36bf",
   "metadata": {},
   "outputs": [
    {
     "data": {
      "text/html": [
       "<div>\n",
       "<style scoped>\n",
       "    .dataframe tbody tr th:only-of-type {\n",
       "        vertical-align: middle;\n",
       "    }\n",
       "\n",
       "    .dataframe tbody tr th {\n",
       "        vertical-align: top;\n",
       "    }\n",
       "\n",
       "    .dataframe thead th {\n",
       "        text-align: right;\n",
       "    }\n",
       "</style>\n",
       "<table border=\"1\" class=\"dataframe\">\n",
       "  <thead>\n",
       "    <tr style=\"text-align: right;\">\n",
       "      <th>isHS</th>\n",
       "      <th>False</th>\n",
       "      <th>True</th>\n",
       "    </tr>\n",
       "    <tr>\n",
       "      <th>ID</th>\n",
       "      <th></th>\n",
       "      <th></th>\n",
       "    </tr>\n",
       "  </thead>\n",
       "  <tbody>\n",
       "    <tr>\n",
       "      <th>7361</th>\n",
       "      <td>NaN</td>\n",
       "      <td>710.065738</td>\n",
       "    </tr>\n",
       "    <tr>\n",
       "      <th>113456</th>\n",
       "      <td>452.160939</td>\n",
       "      <td>498.877205</td>\n",
       "    </tr>\n",
       "    <tr>\n",
       "      <th>114434</th>\n",
       "      <td>477.704212</td>\n",
       "      <td>543.496277</td>\n",
       "    </tr>\n",
       "    <tr>\n",
       "      <th>121324</th>\n",
       "      <td>497.953849</td>\n",
       "      <td>446.727485</td>\n",
       "    </tr>\n",
       "    <tr>\n",
       "      <th>148125</th>\n",
       "      <td>511.844714</td>\n",
       "      <td>495.011233</td>\n",
       "    </tr>\n",
       "    <tr>\n",
       "      <th>...</th>\n",
       "      <td>...</td>\n",
       "      <td>...</td>\n",
       "    </tr>\n",
       "    <tr>\n",
       "      <th>2692553</th>\n",
       "      <td>420.607499</td>\n",
       "      <td>359.499423</td>\n",
       "    </tr>\n",
       "    <tr>\n",
       "      <th>2692774</th>\n",
       "      <td>539.120381</td>\n",
       "      <td>468.731589</td>\n",
       "    </tr>\n",
       "    <tr>\n",
       "      <th>2809413</th>\n",
       "      <td>777.604034</td>\n",
       "      <td>610.522999</td>\n",
       "    </tr>\n",
       "    <tr>\n",
       "      <th>2833757</th>\n",
       "      <td>604.270282</td>\n",
       "      <td>484.702748</td>\n",
       "    </tr>\n",
       "    <tr>\n",
       "      <th>2876709</th>\n",
       "      <td>488.639430</td>\n",
       "      <td>NaN</td>\n",
       "    </tr>\n",
       "  </tbody>\n",
       "</table>\n",
       "<p>1154 rows × 2 columns</p>\n",
       "</div>"
      ],
      "text/plain": [
       "isHS          False       True \n",
       "ID                             \n",
       "7361            NaN  710.065738\n",
       "113456   452.160939  498.877205\n",
       "114434   477.704212  543.496277\n",
       "121324   497.953849  446.727485\n",
       "148125   511.844714  495.011233\n",
       "...             ...         ...\n",
       "2692553  420.607499  359.499423\n",
       "2692774  539.120381  468.731589\n",
       "2809413  777.604034  610.522999\n",
       "2833757  604.270282  484.702748\n",
       "2876709  488.639430         NaN\n",
       "\n",
       "[1154 rows x 2 columns]"
      ]
     },
     "execution_count": 24,
     "metadata": {},
     "output_type": "execute_result"
    }
   ],
   "source": [
    "# Step 1: Group by swimmer ID and find their top 4 events by Points\n",
    "top_4_per_swimmer = (\n",
    "    df.groupby('ID')\n",
    "    .apply(lambda group: group.nlargest(4, 'Points'))\n",
    "    .reset_index(drop=True)\n",
    ")\n",
    "\n",
    "# Step 2: Identify swimmers with at least 2 freestyle events in their top 4\n",
    "freestyle_ids = (\n",
    "    top_4_per_swimmer[top_4_per_swimmer['Event'].str.contains('medley', case=False)]\n",
    "    .groupby('ID')\n",
    "    .size()  # Count the number of freestyle events in the top 4\n",
    "    .loc[lambda x: x >= 2]  # Keep swimmers with at least 2 freestyle events\n",
    "    .index\n",
    ")\n",
    "\n",
    "# Step 3: Filter the original dataset to only include these swimmers\n",
    "freestyle_filtered_df = df[df['ID'].isin(freestyle_ids)]\n",
    "\n",
    "# Step 4: For these swimmers, keep only their freestyle events\n",
    "freestyle_only = freestyle_filtered_df[\n",
    "    freestyle_filtered_df['Event'].str.contains('medley', case=False)\n",
    "]\n",
    "\n",
    "# Step 5: Create the pivot table, averaging the top 5 Points\n",
    "college_freestyler = freestyle_only.pivot_table(\n",
    "    values='Points', \n",
    "    index='ID', \n",
    "    columns='isHS', \n",
    "    aggfunc='mean'\n",
    ")\n",
    "\n",
    "# Display the final pivot table\n",
    "college_freestyler"
   ]
  },
  {
   "cell_type": "code",
   "execution_count": 25,
   "id": "6097e70a-5bac-43e5-a65e-ae88e474322b",
   "metadata": {},
   "outputs": [
    {
     "data": {
      "text/plain": [
       "38.19066171810139"
      ]
     },
     "execution_count": 25,
     "metadata": {},
     "output_type": "execute_result"
    }
   ],
   "source": [
    "college_freestyler['Difference'] = college_freestyler[False] - college_freestyler[True]\n",
    "college_freestyler['Difference'] = college_freestyler['Difference'].replace([float('inf'), -float('inf')], float('nan'))\n",
    "college_freestyler = college_freestyler.dropna(subset=['Difference'])\n",
    "mean = college_freestyler['Difference'].mean()\n",
    "mean_improvement.append(mean)\n",
    "mean"
   ]
  },
  {
   "cell_type": "code",
   "execution_count": 26,
   "id": "9444a910-61bb-43f2-beee-e56a6eb735f5",
   "metadata": {},
   "outputs": [
    {
     "data": {
      "text/plain": [
       "83.11750668674296"
      ]
     },
     "execution_count": 26,
     "metadata": {},
     "output_type": "execute_result"
    }
   ],
   "source": [
    "std = college_freestyler['Difference'].std()\n",
    "std_improvement.append(std)\n",
    "std"
   ]
  },
  {
   "cell_type": "code",
   "execution_count": 27,
   "id": "420e86e2-a9b0-4222-94b3-caabcf54ca28",
   "metadata": {},
   "outputs": [
    {
     "data": {
      "text/plain": [
       "33.10106225760023"
      ]
     },
     "execution_count": 27,
     "metadata": {},
     "output_type": "execute_result"
    }
   ],
   "source": [
    "college_freestyler['Difference'].median()"
   ]
  },
  {
   "cell_type": "code",
   "execution_count": 28,
   "id": "189f0d3e-7868-4bad-8852-62c11279f4db",
   "metadata": {},
   "outputs": [],
   "source": [
    "data = {\n",
    "    'Category': ['Freestyle', 'Backstroke', 'Breaststroke', 'Butterfly', 'IM'],\n",
    "    'Mean Improvement': mean_improvement,\n",
    "    'Standard Deviation': std_improvement \n",
    "}\n",
    "\n",
    "# Create a pandas DataFrame\n",
    "df = pd.DataFrame(data)"
   ]
  },
  {
   "cell_type": "code",
   "execution_count": 31,
   "id": "df2f570b-a97a-423f-b2e6-0d6c02ba070a",
   "metadata": {},
   "outputs": [
    {
     "data": {
      "image/png": "[encoded data removed]",
      "text/plain": [
       "<Figure size 800x500 with 1 Axes>"
      ]
     },
     "metadata": {},
     "output_type": "display_data"
    }
   ],
   "source": [
    "plt.figure(figsize=(8, 5))\n",
    "plt.bar(df['Category'], df['Mean Improvement'], yerr=df['Standard Deviation'], capsize=5, color='skyblue', alpha=0.8)\n",
    "\n",
    "# Add labels and title\n",
    "plt.xlabel('Stroke')\n",
    "plt.ylabel('Mean Improvement')\n",
    "plt.title('Stroke Specialty Improvement')\n",
    "\n",
    "# Show the plot\n",
    "plt.tight_layout()\n",
    "plt.show()"
   ]
  },
  {
   "cell_type": "code",
   "execution_count": null,
   "id": "f6954bcf-5577-485c-be7a-3ce9dc72a092",
   "metadata": {},
   "outputs": [],
   "source": []
  }
 ],
 "metadata": {
  "kernelspec": {
   "display_name": "Python 3 (ipykernel)",
   "language": "python",
   "name": "python3"
  },
  "language_info": {
   "codemirror_mode": {
    "name": "ipython",
    "version": 3
   },
   "file_extension": ".py",
   "mimetype": "text/x-python",
   "name": "python",
   "nbconvert_exporter": "python",
   "pygments_lexer": "ipython3",
   "version": "3.11.10"
  }
 },
 "nbformat": 4,
 "nbformat_minor": 5
}
