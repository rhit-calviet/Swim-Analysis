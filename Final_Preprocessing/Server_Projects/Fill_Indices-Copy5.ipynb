{
 "cells": [
  {
   "cell_type": "code",
   "execution_count": 1,
   "id": "067069e9-cb24-4920-aaa7-e80dc7824412",
   "metadata": {},
   "outputs": [],
   "source": [
    "import pandas as pd\n",
    "from IPython.display import clear_output\n",
    "import pandas as pd"
   ]
  },
  {
   "cell_type": "code",
   "execution_count": 2,
   "id": "5d12b5a1-b3fe-4b9e-81ec-d1eacbbf27b3",
   "metadata": {},
   "outputs": [],
   "source": [
    "import time\n",
    "import random"
   ]
  },
  {
   "cell_type": "code",
   "execution_count": 3,
   "id": "7eea3d96-f8f8-428c-8fc8-41ad999d6e98",
   "metadata": {},
   "outputs": [
    {
     "data": {
      "text/html": [
       "<div>\n",
       "<style scoped>\n",
       "    .dataframe tbody tr th:only-of-type {\n",
       "        vertical-align: middle;\n",
       "    }\n",
       "\n",
       "    .dataframe tbody tr th {\n",
       "        vertical-align: top;\n",
       "    }\n",
       "\n",
       "    .dataframe thead th {\n",
       "        text-align: right;\n",
       "    }\n",
       "</style>\n",
       "<table border=\"1\" class=\"dataframe\">\n",
       "  <thead>\n",
       "    <tr style=\"text-align: right;\">\n",
       "      <th></th>\n",
       "      <th>Name</th>\n",
       "      <th>School</th>\n",
       "      <th>Power</th>\n",
       "      <th>Link</th>\n",
       "      <th>Hometown</th>\n",
       "    </tr>\n",
       "  </thead>\n",
       "  <tbody>\n",
       "    <tr>\n",
       "      <th>0</th>\n",
       "      <td>Tiago ASAKAWA</td>\n",
       "      <td>UMBC</td>\n",
       "      <td>-1.0</td>\n",
       "      <td>/swimmer/515075</td>\n",
       "      <td></td>\n",
       "    </tr>\n",
       "    <tr>\n",
       "      <th>1</th>\n",
       "      <td>Niklas Weigelt</td>\n",
       "      <td>UMBC</td>\n",
       "      <td>-1.0</td>\n",
       "      <td>/swimmer/413265</td>\n",
       "      <td></td>\n",
       "    </tr>\n",
       "  </tbody>\n",
       "</table>\n",
       "</div>"
      ],
      "text/plain": [
       "             Name School  Power             Link Hometown\n",
       "0   Tiago ASAKAWA   UMBC   -1.0  /swimmer/515075         \n",
       "1  Niklas Weigelt   UMBC   -1.0  /swimmer/413265         "
      ]
     },
     "execution_count": 3,
     "metadata": {},
     "output_type": "execute_result"
    }
   ],
   "source": [
    "name_info = pd.read_parquet('./3more_name_info_dtypes.parquet')\n",
    "name_info.head(2)"
   ]
  },
  {
   "cell_type": "code",
   "execution_count": 4,
   "id": "ae51dace-b3a9-4342-8133-754597f87ab4",
   "metadata": {},
   "outputs": [],
   "source": [
    "import requests\n",
    "import csv\n",
    "from bs4 import BeautifulSoup as bs\n",
    "import pandas as pd\n",
    "import time as _time\n",
    "from selenium import webdriver\n",
    "from selenium.webdriver.common.by import By\n",
    "from selenium.webdriver.support.ui import WebDriverWait\n",
    "from selenium.webdriver.support import expected_conditions as EC\n",
    "from selenium.webdriver.support.ui import Select\n",
    "from selenium.webdriver.chrome.options import Options\n",
    "from selenium.common.exceptions import TimeoutException\n",
    "from selenium.common.exceptions import NoSuchElementException\n",
    "from selenium.common.exceptions import StaleElementReferenceException\n",
    "from selenium.webdriver.common.action_chains import ActionChains\n",
    "import re\n",
    "\n",
    "def getpi(swimmer_name):\n",
    "    swimmer_name_url = 'https://swimcloud.com/recruiting/rankings/?name='+swimmer_name.replace(' ','+')\n",
    "    name_url = requests.get(swimmer_name_url, headers = {'User-Agent': 'Mozilla/5.0 (Windows NT 10.0; Win64; x64) AppleWebKit/537.36 (KHTML, like Gecko) Chrome/81.0.4044.138 Safari/537.36', 'Referer' : 'https://google.com/'})\n",
    "    name_url.encoding = 'utf-8'\n",
    "    name_soup = bs(name_url.text, 'html.parser')\n",
    "    # print(name_soup)\n",
    "    # print(name_soup)\n",
    "    # print(name_url.text)\n",
    "    names=[]\n",
    "    links=[]\n",
    "    idxs=[]\n",
    "    teams=[]\n",
    "    if (name_soup.find('tbody') == None):\n",
    "        # print('No tbody')\n",
    "        return None\n",
    "    swimmer_list = name_soup.find('tbody').find_all('tr')\n",
    "    i=0\n",
    "    for swimmer in swimmer_list:\n",
    "        if len(name_soup.find_all('td', {'class' : 'u-text-end'})) == 0:\n",
    "            # print('No idx found')\n",
    "            break\n",
    "        name = swimmer.find(class_='u-text-semi')\n",
    "        name_str = str(name)\n",
    "        start = name_str.find('>') + 1\n",
    "        end = name_str.find('</a>')\n",
    "        # Extract the text between '>' and '<'\n",
    "        name_raw = name_str[start:end]\n",
    "        if (name_raw.lower() == swimmer_name.lower() or name_raw.split(' ')[-1].lower() == swimmer_name.lower()):\n",
    "            names.append(name_raw)\n",
    "            swimmer_link = name['href'] if name else ''\n",
    "            links.append(swimmer_link)\n",
    "            # if (swimmer_name == 'Reese Samuel'):\n",
    "            #     print(i)\n",
    "            #     print(name_soup.find_all('td', {'class' : 'u-text-end'})[i])\n",
    "            if (len(name_soup.find_all('td', {'class' : 'u-text-end'})) == 0):\n",
    "                return None\n",
    "            idxs.append(float(name_soup.find_all('td', {'class' : 'u-text-end'})[i].text.strip()))\n",
    "            team_td = swimmer.find_all('td', class_='u-text-center hidden-xs')[0]\n",
    "            # Find the <img> tag within the <td>\n",
    "            img_tag = team_td.find('img')\n",
    "            if img_tag == None:\n",
    "                # teams.append('')\n",
    "                names.pop()\n",
    "                links.pop()\n",
    "                idxs.pop()\n",
    "                # print('None team')\n",
    "            else:\n",
    "                # Extract the 'alt' attribute value, which contains the team name\n",
    "                team_name = img_tag['alt'][:-5]\n",
    "                teams.append(team_name)\n",
    "        i = i + 1\n",
    "    # print(names)\n",
    "    # print(links)\n",
    "    # print(hometowns)\n",
    "    return [names,links,idxs,teams,hometowns]\n"
   ]
  },
  {
   "cell_type": "code",
   "execution_count": 5,
   "id": "094fa3c2-3849-4fd7-abbe-b98f485a4ba2",
   "metadata": {},
   "outputs": [
    {
     "data": {
      "text/plain": [
       "Power\n",
       "-1.00      10668\n",
       " 100.00      146\n",
       " 2.51          6\n",
       " 27.78         6\n",
       " 40.27         6\n",
       "           ...  \n",
       " 35.40         1\n",
       " 48.95         1\n",
       " 16.77         1\n",
       " 20.48         1\n",
       " 15.99         1\n",
       "Name: count, Length: 1350, dtype: int64"
      ]
     },
     "execution_count": 5,
     "metadata": {},
     "output_type": "execute_result"
    }
   ],
   "source": [
    "name_info.Power.value_counts()"
   ]
  },
  {
   "cell_type": "code",
   "execution_count": 6,
   "id": "d628e7ba-f648-40ea-923d-30bd9e4551f1",
   "metadata": {},
   "outputs": [],
   "source": [
    "import time\n",
    "\n",
    "def getPowerIndex(swimmer_ID):\n",
    "\tswimmer_url = 'https://swimcloud.com/swimmer/' + str(swimmer_ID)\n",
    "\n",
    "\turl = requests.get(swimmer_url, headers = {'User-Agent': 'Mozilla/5.0 (Windows NT 10.0; Win64; x64) AppleWebKit/537.36 (KHTML, like Gecko) Chrome/81.0.4044.138 Safari/537.36', 'Referer' : 'https://google.com/'})\n",
    "\turl.encoding = 'utf-8'\n",
    "\t\n",
    "\tif url.status_code == 404:\n",
    "\t\traise ValueError(f\"The swimmer {swimmer_ID} was not found\")\n",
    "\n",
    "\tsoup = bs(url.text, 'html.parser')\n",
    "\t\n",
    "\n",
    "\tdata_array = soup.find_all('li', {'class' : 'c-list-bar__item'}) # returns the container items containing headers for recruiting stats\n",
    "\tfor d in data_array:\n",
    "\t\tif d.find(class_='c-list-bar__subheader').get('title') == 'Power index':\n",
    "\t\t\t\treturn float(d.find(class_='c-list-bar__description').text.strip())\n",
    "\tif soup.find('h1', {'class' : 'c-toolbar__title'}) == None:\n",
    "\t\t\t\ttime.sleep(20)\n",
    "\t\t\t\treturn -1.0\n",
    "\tswimmer_name = soup.find('h1', {'class' : 'c-toolbar__title'}).text.strip()\n",
    "\n",
    "\tswimmer_name_url = 'https://swimcloud.com/recruiting/rankings/?name=' + swimmer_name.replace(' ', '+')\n",
    "\n",
    "\tname_url = requests.get(swimmer_name_url, headers = {'User-Agent': 'Mozilla/5.0 (Windows NT 10.0; Win64; x64) AppleWebKit/537.36 (KHTML, like Gecko) Chrome/81.0.4044.138 Safari/537.36', 'Referer' : 'https://google.com/'})\n",
    "\n",
    "\tname_url.encoding = 'utf-8'\n",
    "\n",
    "\tname_soup = bs(name_url.text, 'html.parser')\n",
    "\n",
    "\tif name_soup.find('tbody') == None:\n",
    "\t\t\t\ttime.sleep(20)\n",
    "\t\t\t\treturn -1.0\n",
    "\tswimmer_list = name_soup.find('tbody').find_all('tr')\n",
    "\t\n",
    "\tfor swimmer in swimmer_list:\n",
    "\t\t#check if this is the correct swimmer by looking to see if the link matches their id\n",
    "\t\tname = swimmer.find(class_='u-text-semi')\n",
    "\t\tswimmer_link = name['href'] if name else ''\n",
    "\t\tif(swimmer_link == \"/swimmer/\" + str(swimmer_ID)):\n",
    "\t\t\t#a power index was found for the specified swimmer_ID!\n",
    "\t\t\treturn float(name_soup.find('td', {'class' : 'u-text-end'}).text.strip())\n",
    "\n",
    "\treturn -1.0 #if no swimmer is found with the correct swimmer ID #, return -1"
   ]
  },
  {
   "cell_type": "code",
   "execution_count": 9,
   "id": "c940844d-69fb-472a-93f3-9eccefd6ad9b",
   "metadata": {},
   "outputs": [],
   "source": [
    "import requests\n",
    "import csv\n",
    "from bs4 import BeautifulSoup as bs\n",
    "import pandas as pd\n",
    "import time as _time\n",
    "from selenium import webdriver\n",
    "from selenium.webdriver.common.by import By\n",
    "from selenium.webdriver.support.ui import WebDriverWait\n",
    "from selenium.webdriver.support import expected_conditions as EC\n",
    "from selenium.webdriver.support.ui import Select\n",
    "from selenium.webdriver.chrome.options import Options\n",
    "from selenium.common.exceptions import TimeoutException\n",
    "from selenium.common.exceptions import NoSuchElementException\n",
    "from selenium.common.exceptions import StaleElementReferenceException\n",
    "from selenium.webdriver.common.action_chains import ActionChains\n",
    "import re\n",
    "\n",
    "def getpi(swimmer_name,swimmer_id):\n",
    "    swimmer_name_url = 'https://swimcloud.com/recruiting/rankings/?name='+swimmer_name.replace(' ','+')\n",
    "    name_url = requests.get(swimmer_name_url, headers = {'User-Agent': 'Mozilla/5.0 (Windows NT 10.0; Win64; x64) AppleWebKit/537.36 (KHTML, like Gecko) Chrome/81.0.4044.138 Safari/537.36', 'Referer' : 'https://google.com/'})\n",
    "    name_url.encoding = 'utf-8'\n",
    "    name_soup = bs(name_url.text, 'html.parser')\n",
    "    names=[]\n",
    "    links=[]\n",
    "    idxs=[]\n",
    "    teams=[]\n",
    "    if (name_soup.find('tbody') == None):\n",
    "        # print('No tbody')\n",
    "        time.sleep(20)\n",
    "        return getPowerIndex(swimmer_id)\n",
    "    swimmer_list = name_soup.find('tbody').find_all('tr')\n",
    "    i=0\n",
    "    for swimmer in swimmer_list:\n",
    "        if len(name_soup.find_all('td', {'class' : 'u-text-end'})) == 0:\n",
    "            # print('No idx found')\n",
    "            break\n",
    "        name = swimmer.find(class_='u-text-semi')\n",
    "        name_str = str(name)\n",
    "        start = name_str.find('>') + 1\n",
    "        end = name_str.find('</a>')\n",
    "        # Extract the text between '>' and '<'\n",
    "        name_raw = name_str[start:end]\n",
    "        if (name_raw.lower() == swimmer_name.lower() or name_raw.split(' ')[-1].lower() == swimmer_name.lower()):\n",
    "            names.append(name_raw)\n",
    "            swimmer_link = name['href'] if name else ''\n",
    "            links.append(swimmer_link)\n",
    "            if (len(name_soup.find_all('td', {'class' : 'u-text-end'})) == 0):\n",
    "                time.sleep(20)\n",
    "                return getPowerIndex(swimmer_id)\n",
    "            idxs.append(float(name_soup.find_all('td', {'class' : 'u-text-end'})[i].text.strip()))\n",
    "        i = i + 1\n",
    "    print(names)\n",
    "    # print(links)\n",
    "    # print(hometowns)\n",
    "    if (len(names) == 1):\n",
    "        print(\"returning \" + str(idxs[0]))\n",
    "        return idxs[0]\n",
    "    else:  \n",
    "        return getPowerIndex(swimmer_id)\n"
   ]
  },
  {
   "cell_type": "code",
   "execution_count": 16,
   "id": "f2b39e7f-5d9f-4fe4-9934-8c1547d05289",
   "metadata": {},
   "outputs": [
    {
     "name": "stdout",
     "output_type": "stream",
     "text": [
      "['Hannah Hamilton', 'Hannah Hamilton', 'Hannah Hamilton']\n",
      "-1.0\n",
      "Power\n",
      "100.0    928\n",
      "1.0       19\n",
      "Name: count, dtype: int64\n",
      "['Lauren Rohde', 'Lauren Rohde']\n",
      "-1.0\n",
      "Power\n",
      "100.0    928\n",
      "1.0       19\n",
      "Name: count, dtype: int64\n"
     ]
    }
   ],
   "source": [
    "import random\n",
    "from IPython.display import clear_output\n",
    "\n",
    "for i in range(len(name_info)):\n",
    "    idx = name_info.at[i, 'Power']\n",
    "    if idx != -1.0:\n",
    "        # print('Skipped')\n",
    "        continue\n",
    "    else:\n",
    "        swimmer_ID = name_info.at[i, 'Link'].split('/')[-1]\n",
    "        name_info.at[i, 'Power'] = getpi(name_info.at[i, 'Name'], swimmer_ID)\n",
    "        print(name_info.at[i, 'Power'])\n",
    "        random_number = random.randint(1, 3)\n",
    "        if random_number == 1:\n",
    "            clear_output()\n",
    "        else:\n",
    "            print(name_info.Power.value_counts().head(2))"
   ]
  },
  {
   "cell_type": "code",
   "execution_count": 14,
   "id": "9a60f7b8-d424-4814-842d-9ef2760be532",
   "metadata": {},
   "outputs": [
    {
     "data": {
      "text/plain": [
       "Power\n",
       "100.00    928\n",
       "1.00       19\n",
       "100.95     12\n",
       "17.95      10\n",
       "22.86      10\n",
       "         ... \n",
       "64.82       1\n",
       "41.48       1\n",
       "43.57       1\n",
       "32.08       1\n",
       "40.77       1\n",
       "Name: count, Length: 5546, dtype: int64"
      ]
     },
     "execution_count": 14,
     "metadata": {},
     "output_type": "execute_result"
    }
   ],
   "source": [
    "name_info.Power.value_counts()"
   ]
  },
  {
   "cell_type": "code",
   "execution_count": 15,
   "id": "950f3770-3466-4605-8968-ffdcc07e9c19",
   "metadata": {},
   "outputs": [
    {
     "data": {
      "text/html": [
       "<div>\n",
       "<style scoped>\n",
       "    .dataframe tbody tr th:only-of-type {\n",
       "        vertical-align: middle;\n",
       "    }\n",
       "\n",
       "    .dataframe tbody tr th {\n",
       "        vertical-align: top;\n",
       "    }\n",
       "\n",
       "    .dataframe thead th {\n",
       "        text-align: right;\n",
       "    }\n",
       "</style>\n",
       "<table border=\"1\" class=\"dataframe\">\n",
       "  <thead>\n",
       "    <tr style=\"text-align: right;\">\n",
       "      <th></th>\n",
       "      <th>Name</th>\n",
       "      <th>School</th>\n",
       "      <th>Power</th>\n",
       "      <th>Link</th>\n",
       "      <th>Hometown</th>\n",
       "    </tr>\n",
       "  </thead>\n",
       "  <tbody>\n",
       "    <tr>\n",
       "      <th>11454</th>\n",
       "      <td>Hannah Hamilton</td>\n",
       "      <td>Puget Sound</td>\n",
       "      <td>-1.0</td>\n",
       "      <td>/swimmer/1330912</td>\n",
       "      <td></td>\n",
       "    </tr>\n",
       "    <tr>\n",
       "      <th>11695</th>\n",
       "      <td>Lauren Rohde</td>\n",
       "      <td>Swarthmore</td>\n",
       "      <td>-1.0</td>\n",
       "      <td>/swimmer/1803500</td>\n",
       "      <td></td>\n",
       "    </tr>\n",
       "  </tbody>\n",
       "</table>\n",
       "</div>"
      ],
      "text/plain": [
       "                  Name       School  Power              Link Hometown\n",
       "11454  Hannah Hamilton  Puget Sound   -1.0  /swimmer/1330912         \n",
       "11695     Lauren Rohde   Swarthmore   -1.0  /swimmer/1803500         "
      ]
     },
     "execution_count": 15,
     "metadata": {},
     "output_type": "execute_result"
    }
   ],
   "source": [
    "name_info[name_info.Power==-1]"
   ]
  },
  {
   "cell_type": "code",
   "execution_count": 18,
   "id": "39f1eaab-7d58-48dd-a6b6-19052ded32c5",
   "metadata": {},
   "outputs": [],
   "source": [
    "name_info.loc[11454,'Power']=62.04\n",
    "name_info.loc[11695,'Power']=44.82"
   ]
  },
  {
   "cell_type": "code",
   "execution_count": 19,
   "id": "3422ff88-49a4-4a58-9670-092a606112f8",
   "metadata": {},
   "outputs": [
    {
     "data": {
      "text/html": [
       "<div>\n",
       "<style scoped>\n",
       "    .dataframe tbody tr th:only-of-type {\n",
       "        vertical-align: middle;\n",
       "    }\n",
       "\n",
       "    .dataframe tbody tr th {\n",
       "        vertical-align: top;\n",
       "    }\n",
       "\n",
       "    .dataframe thead th {\n",
       "        text-align: right;\n",
       "    }\n",
       "</style>\n",
       "<table border=\"1\" class=\"dataframe\">\n",
       "  <thead>\n",
       "    <tr style=\"text-align: right;\">\n",
       "      <th></th>\n",
       "      <th>Name</th>\n",
       "      <th>School</th>\n",
       "      <th>Power</th>\n",
       "      <th>Link</th>\n",
       "      <th>Hometown</th>\n",
       "    </tr>\n",
       "  </thead>\n",
       "  <tbody>\n",
       "  </tbody>\n",
       "</table>\n",
       "</div>"
      ],
      "text/plain": [
       "Empty DataFrame\n",
       "Columns: [Name, School, Power, Link, Hometown]\n",
       "Index: []"
      ]
     },
     "execution_count": 19,
     "metadata": {},
     "output_type": "execute_result"
    }
   ],
   "source": [
    "name_info[name_info.Power==-1]"
   ]
  },
  {
   "cell_type": "code",
   "execution_count": 20,
   "id": "16d33e87-fc29-4dcc-896d-7b1e12a20a20",
   "metadata": {},
   "outputs": [],
   "source": [
    "name_info = name_info.drop('Hometown',axis=1)"
   ]
  },
  {
   "cell_type": "code",
   "execution_count": 21,
   "id": "5547caaa-cee4-4785-b1a9-28a62860efb6",
   "metadata": {},
   "outputs": [],
   "source": [
    "name_info.to_parquet('4more_name_info_dtypes.parquet', index=False)"
   ]
  },
  {
   "cell_type": "code",
   "execution_count": null,
   "id": "af6f5821-e3f3-4538-93c8-dadac90bea43",
   "metadata": {},
   "outputs": [],
   "source": []
  }
 ],
 "metadata": {
  "kernelspec": {
   "display_name": "Python 3 (ipykernel)",
   "language": "python",
   "name": "python3"
  },
  "language_info": {
   "codemirror_mode": {
    "name": "ipython",
    "version": 3
   },
   "file_extension": ".py",
   "mimetype": "text/x-python",
   "name": "python",
   "nbconvert_exporter": "python",
   "pygments_lexer": "ipython3",
   "version": "3.11.10"
  }
 },
 "nbformat": 4,
 "nbformat_minor": 5
}
