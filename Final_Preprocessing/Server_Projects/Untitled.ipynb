{
 "cells": [
  {
   "cell_type": "code",
   "execution_count": 1,
   "id": "dc1b98aa-44c2-43d0-b242-3c709f615a49",
   "metadata": {},
   "outputs": [],
   "source": [
    "import requests\n",
    "import csv\n",
    "from bs4 import BeautifulSoup as bs\n",
    "import pandas as pd\n",
    "import time as _time\n",
    "from selenium import webdriver\n",
    "from selenium.webdriver.common.by import By\n",
    "from selenium.webdriver.support.ui import WebDriverWait\n",
    "from selenium.webdriver.support import expected_conditions as EC\n",
    "from selenium.webdriver.support.ui import Select\n",
    "from selenium.webdriver.chrome.options import Options\n",
    "from selenium.common.exceptions import TimeoutException\n",
    "from selenium.common.exceptions import NoSuchElementException\n",
    "from selenium.common.exceptions import StaleElementReferenceException\n",
    "from selenium.webdriver.common.action_chains import ActionChains\n",
    "\n",
    "teams = pd.read_csv('https://raw.githubusercontent.com/maflancer/SwimScraper/main/src/SwimScraper/collegeSwimmingTeams.csv')\n",
    "\n",
    "events = {'25 Y Free' : '125Y', '25 Y Back' : '225 Y', '25 Y Breast' : '325Y', '25 Y Fly' : '425Y', '50 Y Free' : '150Y', '75 Y Free' : '175Y', '100 Y Free' : '1100Y', '125 Y Free' : '1125Y', '200 Y Free' : '1200Y', '400 Y Free' : '1400Y', '500 Y Free' : '1500Y', '800 Y Free' : '1800Y', '1000 Y Free' : '11000Y', '1500 Y Free' : '11500Y', '1650 Y Free' : '11650Y', '50 Y Back' : '250Y', '100 Y Back': '2100Y', '200 Y Back' : '2200Y', '50 Y Breast' : '350Y', '100 Y Breast' : '3100Y', '200 Y Breast' : '3200Y', '50 Y Fly' : '450Y', '100 Y Fly' : '4100Y', '200 Y Fly' : '4200Y', '100 Y IM' : '5100Y', '200 Y IM' : '5200Y', '400 Y IM' : '5400Y', '200 Free Relay' : 6200, '400 Free Relay' : 6400, '800 Free Relay' : 6800, '200 Medley Relay' : 7200, '400 Medley Relay' : 7400, '1 M Diving' : 'H1', '1 M Diving (6 dives)' : 'H16', '3 M Diving ' : 'H3', '3 M Diving (6 dives)' : 'H36', '7M Diving' : 'H75', '7M Diving (5 dives)' : 'H75Y','Platform Diving' : 'H2', '50 Individual' : 'H50', '100 Individual' : 'H100', '200 Individual' : 'H200', \n",
    "'25 S Free' : '125S', '25 S Back' : '225 S', '25 S Breast' : '325S', '25 S Fly' : '425S', '50 S Free' : '150S', '75 S Free' : '175S', '100 S Free' : '1100S', '125 S Free' : '1125S', '200 S Free' : '1200S', '400 S Free' : '1400S', '500 S Free' : '1500S', '800 S Free' : '1800S', '1000 S Free' : '11000S', '1500 S Free' : '11500S', '1650 S Free' : '11650S', '50 S Back' : '250S', '100 S Back': '2100S', '200 S Back' : '2200S', '50 S Breast' : '350S', '100 S Breast' : '3100S', '200 S Breast' : '3200S', '50 S Fly' : '450S', '100 S Fly' : '4100S', '200 S Fly' : '4200S', '100 S IM' : '5100S', '200 S IM' : '5200S', '400 S IM' : '5400S',\n",
    "'50 L Free' : '150L', '100 L Free' : '1100L', '200 L Free' : '1200L', '400 L Free' : '1400L', '500 L Free' : '1500L', '800 L Free' : '1800L', '1000 L Free' : '11000L', '1500 L Free' : '11500L', '1650 L Free' : '11650L', '50 L Back' : '250L', '100 L Back': '2100L', '200 L Back' : '2200L', '50 L Breast' : '350L', '100 L Breast' : '3100L', '200 L Breast' : '3200L', '50 L Fly' : '450L', '100 L Fly' : '4100L', '200 L Fly' : '4200L', '100 L IM' : '5100L', '200 L IM' : '5200L', '400 L IM' : '5400L'}\n",
    "\n",
    "\n",
    "us_states = {\n",
    "\t'Alabama': 'AL', 'Alaska': 'AK', 'Arizona': 'AZ', 'Arkansas': 'AR', 'California': 'CA', 'Colorado': 'CO', 'Connecticut': 'CT', 'Delaware': 'DE', 'District of Columbia': 'DC', 'Florida': 'FL', 'Georgia': 'GA', 'Hawaii': 'HI', 'Idaho': 'ID',\n",
    "\t'Illinois': 'IL', 'Indiana': 'IN', 'Iowa': 'IA', 'Kansas': 'KS', 'Kentucky': 'KY', 'Louisiana': 'LA', 'Maine': 'ME', 'Maryland': 'MD', 'Massachusetts': 'MA', 'Michigan': 'MI', 'Minnesota': 'MN', 'Mississippi': 'MS', 'Missouri': 'MO',\n",
    "\t'Montana': 'MT', 'Nebraska': 'NE', 'Nevada': 'NV', 'New Hampshire': 'NH', 'New Jersey': 'NJ', 'New Mexico': 'NM', 'New York': 'NY', 'North Carolina': 'NC', 'North Dakota': 'ND', 'Ohio': 'OH', 'Oklahoma': 'OK', 'Oregon': 'OR',\n",
    "\t'Pennsylvania': 'PA', 'Rhode Island': 'RI', 'South Carolina': 'SC', 'South Dakota': 'SD', 'Tennessee': 'TN', 'Texas': 'TX', 'Utah': 'UT', 'Vermont': 'VT', 'Virginia': 'VA', 'Washington': 'WA', 'West Virginia': 'WV','Wisconsin': 'WI',\n",
    "\t'Wyoming': 'WY'\n",
    "}"
   ]
  },
  {
   "cell_type": "code",
   "execution_count": 16,
   "id": "ee59f4b0-d336-405a-9c8f-6b071a16d346",
   "metadata": {},
   "outputs": [
    {
     "ename": "ModuleNotFoundError",
     "evalue": "No module named 'webdriver_manager'",
     "output_type": "error",
     "traceback": [
      "\u001b[0;31m---------------------------------------------------------------------------\u001b[0m",
      "\u001b[0;31mModuleNotFoundError\u001b[0m                       Traceback (most recent call last)",
      "Cell \u001b[0;32mIn[16], line 5\u001b[0m\n\u001b[1;32m      3\u001b[0m \u001b[38;5;28;01mfrom\u001b[39;00m \u001b[38;5;21;01mselenium\u001b[39;00m\u001b[38;5;21;01m.\u001b[39;00m\u001b[38;5;21;01mwebdriver\u001b[39;00m\u001b[38;5;21;01m.\u001b[39;00m\u001b[38;5;21;01mchrome\u001b[39;00m\u001b[38;5;21;01m.\u001b[39;00m\u001b[38;5;21;01mservice\u001b[39;00m \u001b[38;5;28;01mimport\u001b[39;00m Service\n\u001b[1;32m      4\u001b[0m \u001b[38;5;28;01mfrom\u001b[39;00m \u001b[38;5;21;01mselenium\u001b[39;00m\u001b[38;5;21;01m.\u001b[39;00m\u001b[38;5;21;01mwebdriver\u001b[39;00m\u001b[38;5;21;01m.\u001b[39;00m\u001b[38;5;21;01mchrome\u001b[39;00m\u001b[38;5;21;01m.\u001b[39;00m\u001b[38;5;21;01moptions\u001b[39;00m \u001b[38;5;28;01mimport\u001b[39;00m Options\n\u001b[0;32m----> 5\u001b[0m \u001b[38;5;28;01mfrom\u001b[39;00m \u001b[38;5;21;01mwebdriver_manager\u001b[39;00m\u001b[38;5;21;01m.\u001b[39;00m\u001b[38;5;21;01mchrome\u001b[39;00m \u001b[38;5;28;01mimport\u001b[39;00m ChromeDriverManager\n\u001b[1;32m      7\u001b[0m \u001b[38;5;66;03m# Setup headless Chrome browser\u001b[39;00m\n\u001b[1;32m      8\u001b[0m options \u001b[38;5;241m=\u001b[39m Options()\n",
      "\u001b[0;31mModuleNotFoundError\u001b[0m: No module named 'webdriver_manager'"
     ]
    }
   ],
   "source": [
    "from selenium import webdriver\n",
    "from selenium.webdriver.common.by import By\n",
    "from selenium.webdriver.chrome.service import Service\n",
    "from selenium.webdriver.chrome.options import Options\n",
    "from webdriver_manager.chrome import ChromeDriverManager\n",
    "\n",
    "# Setup headless Chrome browser\n",
    "options = Options()\n",
    "options.add_argument('--headless')\n",
    "driver = webdriver.Chrome(service=Service(ChromeDriverManager().install()), options=options)\n",
    "\n",
    "driver.get('https://www.swimcloud.com/country/usa/college/division/1/times/?dont_group=false&event=150&gender=F&page=1&region=division_1&season_id=28&team_id&year')\n",
    "\n",
    "# Wait for the page to load and JavaScript to execute\n",
    "table = driver.find_element(By.XPATH, 'XPATH_TO_TABLE')\n",
    "print(table.text)\n",
    "\n",
    "driver.quit()\n"
   ]
  },
  {
   "cell_type": "code",
   "execution_count": 13,
   "id": "57acb180-0529-4246-8ec6-15f0908fb3bb",
   "metadata": {},
   "outputs": [
    {
     "ename": "ModuleNotFoundError",
     "evalue": "No module named 'zenrows'",
     "output_type": "error",
     "traceback": [
      "\u001b[0;31m---------------------------------------------------------------------------\u001b[0m",
      "\u001b[0;31mModuleNotFoundError\u001b[0m                       Traceback (most recent call last)",
      "Cell \u001b[0;32mIn[13], line 1\u001b[0m\n\u001b[0;32m----> 1\u001b[0m \u001b[38;5;28;01mfrom\u001b[39;00m \u001b[38;5;21;01mzenrows\u001b[39;00m \u001b[38;5;28;01mimport\u001b[39;00m ZenRowsClient\n\u001b[1;32m      3\u001b[0m client \u001b[38;5;241m=\u001b[39m ZenRowsClient(\u001b[38;5;124m\"\u001b[39m\u001b[38;5;124m6cedce8cd36ea79dd85419706bd2f34e599ce26b\u001b[39m\u001b[38;5;124m\"\u001b[39m)\n\u001b[1;32m      4\u001b[0m url \u001b[38;5;241m=\u001b[39m \u001b[38;5;124m\"\u001b[39m\u001b[38;5;124mhttps://www.swimcloud.com/country/usa/college/division/1/times/?dont_group=false&event=150&gender=F&page=1&region=division_1&season_id=28&team_id&year\u001b[39m\u001b[38;5;124m\"\u001b[39m\n",
      "\u001b[0;31mModuleNotFoundError\u001b[0m: No module named 'zenrows'"
     ]
    }
   ],
   "source": []
  },
  {
   "cell_type": "code",
   "execution_count": null,
   "id": "e8452577-a53a-43d6-8a23-026e05afe802",
   "metadata": {},
   "outputs": [],
   "source": []
  }
 ],
 "metadata": {
  "kernelspec": {
   "display_name": "Python 3 (ipykernel)",
   "language": "python",
   "name": "python3"
  },
  "language_info": {
   "codemirror_mode": {
    "name": "ipython",
    "version": 3
   },
   "file_extension": ".py",
   "mimetype": "text/x-python",
   "name": "python",
   "nbconvert_exporter": "python",
   "pygments_lexer": "ipython3",
   "version": "3.11.10"
  }
 },
 "nbformat": 4,
 "nbformat_minor": 5
}
