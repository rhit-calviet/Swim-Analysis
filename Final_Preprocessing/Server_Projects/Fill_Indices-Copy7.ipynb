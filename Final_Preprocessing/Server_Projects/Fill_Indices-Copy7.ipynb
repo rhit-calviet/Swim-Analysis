{
 "cells": [
  {
   "cell_type": "code",
   "execution_count": 1,
   "id": "067069e9-cb24-4920-aaa7-e80dc7824412",
   "metadata": {},
   "outputs": [],
   "source": [
    "import pandas as pd\n",
    "from IPython.display import clear_output\n",
    "import pandas as pd"
   ]
  },
  {
   "cell_type": "code",
   "execution_count": 2,
   "id": "5d12b5a1-b3fe-4b9e-81ec-d1eacbbf27b3",
   "metadata": {},
   "outputs": [],
   "source": [
    "import time\n",
    "import random"
   ]
  },
  {
   "cell_type": "code",
   "execution_count": 3,
   "id": "6f53d375-52aa-40a4-ae93-b5df128b2090",
   "metadata": {},
   "outputs": [],
   "source": [
    "df1 = pd.read_csv('until_8000.csv')\n",
    "df2 = pd.read_csv('8000_onwards.csv')\n",
    "name_info = pd.concat([df1,df2])"
   ]
  },
  {
   "cell_type": "code",
   "execution_count": 4,
   "id": "769abf91-4dfc-47c5-9444-50480569e87f",
   "metadata": {},
   "outputs": [
    {
     "data": {
      "text/plain": [
       "50 Y Free Time     NaN\n",
       "50 S Free Time     NaN\n",
       "50 L Free Time     NaN\n",
       "100 Y Free Time    NaN\n",
       "100 S Free Time    NaN\n",
       "                  ... \n",
       "200 S IM Points    NaN\n",
       "200 L IM Points    NaN\n",
       "400 Y IM Points    NaN\n",
       "400 S IM Points    NaN\n",
       "400 L IM Points    NaN\n",
       "Name: #, Length: 88, dtype: object"
      ]
     },
     "execution_count": 4,
     "metadata": {},
     "output_type": "execute_result"
    }
   ],
   "source": [
    "# name_info = pd.read_parquet('./4more_name_info_dtypes.parquet')\n",
    "name_info = name_info.rename(columns={'Unnamed: 0': 'ID'})\n",
    "name_info = name_info.set_index('ID')\n",
    "name_info.loc['#',:]"
   ]
  },
  {
   "cell_type": "code",
   "execution_count": 5,
   "id": "3f808eb2-5a9d-4f0e-8612-fdf188fce417",
   "metadata": {},
   "outputs": [
    {
     "data": {
      "text/html": [
       "<div>\n",
       "<style scoped>\n",
       "    .dataframe tbody tr th:only-of-type {\n",
       "        vertical-align: middle;\n",
       "    }\n",
       "\n",
       "    .dataframe tbody tr th {\n",
       "        vertical-align: top;\n",
       "    }\n",
       "\n",
       "    .dataframe thead th {\n",
       "        text-align: right;\n",
       "    }\n",
       "</style>\n",
       "<table border=\"1\" class=\"dataframe\">\n",
       "  <thead>\n",
       "    <tr style=\"text-align: right;\">\n",
       "      <th></th>\n",
       "      <th>50 Y Free Time</th>\n",
       "      <th>50 S Free Time</th>\n",
       "      <th>50 L Free Time</th>\n",
       "      <th>100 Y Free Time</th>\n",
       "      <th>100 S Free Time</th>\n",
       "      <th>100 L Free Time</th>\n",
       "      <th>200 Y Free Time</th>\n",
       "      <th>200 S Free Time</th>\n",
       "      <th>200 L Free Time</th>\n",
       "      <th>500 Y Free Time</th>\n",
       "      <th>...</th>\n",
       "      <th>200 S Fly Points</th>\n",
       "      <th>200 L Fly Points</th>\n",
       "      <th>100 Y IM Points</th>\n",
       "      <th>100 S IM Points</th>\n",
       "      <th>200 Y IM Points</th>\n",
       "      <th>200 S IM Points</th>\n",
       "      <th>200 L IM Points</th>\n",
       "      <th>400 Y IM Points</th>\n",
       "      <th>400 S IM Points</th>\n",
       "      <th>400 L IM Points</th>\n",
       "    </tr>\n",
       "    <tr>\n",
       "      <th>ID</th>\n",
       "      <th></th>\n",
       "      <th></th>\n",
       "      <th></th>\n",
       "      <th></th>\n",
       "      <th></th>\n",
       "      <th></th>\n",
       "      <th></th>\n",
       "      <th></th>\n",
       "      <th></th>\n",
       "      <th></th>\n",
       "      <th></th>\n",
       "      <th></th>\n",
       "      <th></th>\n",
       "      <th></th>\n",
       "      <th></th>\n",
       "      <th></th>\n",
       "      <th></th>\n",
       "      <th></th>\n",
       "      <th></th>\n",
       "      <th></th>\n",
       "      <th></th>\n",
       "    </tr>\n",
       "  </thead>\n",
       "  <tbody>\n",
       "    <tr>\n",
       "      <th>515075</th>\n",
       "      <td>NaN</td>\n",
       "      <td>NaN</td>\n",
       "      <td>23.31</td>\n",
       "      <td>NaN</td>\n",
       "      <td>50.21</td>\n",
       "      <td>NaN</td>\n",
       "      <td>NaN</td>\n",
       "      <td>1:50.45</td>\n",
       "      <td>NaN</td>\n",
       "      <td>NaN</td>\n",
       "      <td>...</td>\n",
       "      <td>NaN</td>\n",
       "      <td>NaN</td>\n",
       "      <td>NaN</td>\n",
       "      <td>NaN</td>\n",
       "      <td>NaN</td>\n",
       "      <td>NaN</td>\n",
       "      <td>NaN</td>\n",
       "      <td>NaN</td>\n",
       "      <td>NaN</td>\n",
       "      <td>NaN</td>\n",
       "    </tr>\n",
       "    <tr>\n",
       "      <th>413265</th>\n",
       "      <td>NaN</td>\n",
       "      <td>NaN</td>\n",
       "      <td>23.60</td>\n",
       "      <td>44.36</td>\n",
       "      <td>NaN</td>\n",
       "      <td>NaN</td>\n",
       "      <td>1:37.44</td>\n",
       "      <td>NaN</td>\n",
       "      <td>NaN</td>\n",
       "      <td>4:31.45</td>\n",
       "      <td>...</td>\n",
       "      <td>NaN</td>\n",
       "      <td>NaN</td>\n",
       "      <td>100.0</td>\n",
       "      <td>NaN</td>\n",
       "      <td>18.97</td>\n",
       "      <td>NaN</td>\n",
       "      <td>NaN</td>\n",
       "      <td>100.0</td>\n",
       "      <td>NaN</td>\n",
       "      <td>NaN</td>\n",
       "    </tr>\n",
       "  </tbody>\n",
       "</table>\n",
       "<p>2 rows × 88 columns</p>\n",
       "</div>"
      ],
      "text/plain": [
       "       50 Y Free Time 50 S Free Time 50 L Free Time 100 Y Free Time  \\\n",
       "ID                                                                    \n",
       "515075            NaN            NaN          23.31             NaN   \n",
       "413265            NaN            NaN          23.60           44.36   \n",
       "\n",
       "       100 S Free Time 100 L Free Time 200 Y Free Time 200 S Free Time  \\\n",
       "ID                                                                       \n",
       "515075           50.21             NaN             NaN         1:50.45   \n",
       "413265             NaN             NaN         1:37.44             NaN   \n",
       "\n",
       "       200 L Free Time 500 Y Free Time  ... 200 S Fly Points 200 L Fly Points  \\\n",
       "ID                                      ...                                     \n",
       "515075             NaN             NaN  ...              NaN              NaN   \n",
       "413265             NaN         4:31.45  ...              NaN              NaN   \n",
       "\n",
       "       100 Y IM Points 100 S IM Points 200 Y IM Points 200 S IM Points  \\\n",
       "ID                                                                       \n",
       "515075             NaN             NaN             NaN             NaN   \n",
       "413265           100.0             NaN           18.97             NaN   \n",
       "\n",
       "       200 L IM Points 400 Y IM Points 400 S IM Points 400 L IM Points  \n",
       "ID                                                                      \n",
       "515075             NaN             NaN             NaN             NaN  \n",
       "413265             NaN           100.0             NaN             NaN  \n",
       "\n",
       "[2 rows x 88 columns]"
      ]
     },
     "execution_count": 5,
     "metadata": {},
     "output_type": "execute_result"
    }
   ],
   "source": [
    "name_info = name_info.rename(index={'#': 368904})\n",
    "name_info.head(2)"
   ]
  },
  {
   "cell_type": "code",
   "execution_count": 6,
   "id": "49a102de-102b-439e-82c5-8326dff2357a",
   "metadata": {},
   "outputs": [
    {
     "data": {
      "text/plain": [
       "50 Y Free Time     NaN\n",
       "50 S Free Time     NaN\n",
       "50 L Free Time     NaN\n",
       "100 Y Free Time    NaN\n",
       "100 S Free Time    NaN\n",
       "                  ... \n",
       "200 S IM Points    NaN\n",
       "200 L IM Points    NaN\n",
       "400 Y IM Points    NaN\n",
       "400 S IM Points    NaN\n",
       "400 L IM Points    NaN\n",
       "Name: 368904, Length: 88, dtype: object"
      ]
     },
     "execution_count": 6,
     "metadata": {},
     "output_type": "execute_result"
    }
   ],
   "source": [
    "name_info.loc[368904,:]"
   ]
  },
  {
   "cell_type": "code",
   "execution_count": 7,
   "id": "e7bf6653-3927-459d-ac05-3e91ad91a305",
   "metadata": {},
   "outputs": [
    {
     "data": {
      "text/plain": [
       "299"
      ]
     },
     "execution_count": 7,
     "metadata": {},
     "output_type": "execute_result"
    }
   ],
   "source": [
    "name_info.isna().all(axis=1).sum()"
   ]
  },
  {
   "cell_type": "code",
   "execution_count": 17,
   "id": "f74c26e7-5a12-4897-9918-fd203f4fc6ea",
   "metadata": {},
   "outputs": [
    {
     "name": "stdout",
     "output_type": "stream",
     "text": [
      "Table not found, skipping swimmer...\n",
      "Table not found, skipping swimmer...\n",
      "Table not found, skipping swimmer...\n",
      "Table not found, skipping swimmer...\n",
      "Table not found, skipping swimmer...\n",
      "Table not found, skipping swimmer...\n",
      "Table not found, skipping swimmer...\n",
      "Table not found, skipping swimmer...\n",
      "Table not found, skipping swimmer...\n",
      "Table not found, skipping swimmer...\n",
      "Processed 10 swimmers...\n",
      "Table not found, skipping swimmer...\n",
      "Table not found, skipping swimmer...\n",
      "Table not found, skipping swimmer...\n",
      "Table not found, skipping swimmer...\n",
      "Table not found, skipping swimmer...\n",
      "Table not found, skipping swimmer...\n",
      "Table not found, skipping swimmer...\n",
      "Table not found, skipping swimmer...\n",
      "Table not found, skipping swimmer...\n",
      "Table not found, skipping swimmer...\n",
      "Processed 20 swimmers...\n",
      "Table not found, skipping swimmer...\n",
      "Table not found, skipping swimmer...\n",
      "Table not found, skipping swimmer...\n",
      "Table not found, skipping swimmer...\n",
      "Table not found, skipping swimmer...\n",
      "Table not found, skipping swimmer...\n",
      "Table not found, skipping swimmer...\n",
      "Table not found, skipping swimmer...\n",
      "Table not found, skipping swimmer...\n",
      "Processed 30 swimmers...\n",
      "Table not found, skipping swimmer...\n",
      "Table not found, skipping swimmer...\n",
      "Table not found, skipping swimmer...\n",
      "Table not found, skipping swimmer...\n",
      "Table not found, skipping swimmer...\n",
      "Table not found, skipping swimmer...\n",
      "Table not found, skipping swimmer...\n",
      "Table not found, skipping swimmer...\n",
      "Table not found, skipping swimmer...\n",
      "Table not found, skipping swimmer...\n",
      "Processed 40 swimmers...\n",
      "Table not found, skipping swimmer...\n",
      "Table not found, skipping swimmer...\n",
      "Table not found, skipping swimmer...\n",
      "Table not found, skipping swimmer...\n",
      "Table not found, skipping swimmer...\n",
      "Table not found, skipping swimmer...\n",
      "Table not found, skipping swimmer...\n",
      "Table not found, skipping swimmer...\n",
      "Table not found, skipping swimmer...\n",
      "Table not found, skipping swimmer...\n",
      "Processed 50 swimmers...\n",
      "Table not found, skipping swimmer...\n",
      "Table not found, skipping swimmer...\n",
      "Table not found, skipping swimmer...\n",
      "Table not found, skipping swimmer...\n",
      "Table not found, skipping swimmer...\n",
      "Table not found, skipping swimmer...\n",
      "Table not found, skipping swimmer...\n",
      "Table not found, skipping swimmer...\n",
      "Table not found, skipping swimmer...\n",
      "Table not found, skipping swimmer...\n",
      "Processed 60 swimmers...\n",
      "Table not found, skipping swimmer...\n",
      "Table not found, skipping swimmer...\n",
      "Table not found, skipping swimmer...\n",
      "Table not found, skipping swimmer...\n",
      "Table not found, skipping swimmer...\n",
      "Table not found, skipping swimmer...\n",
      "Table not found, skipping swimmer...\n",
      "Table not found, skipping swimmer...\n",
      "Table not found, skipping swimmer...\n",
      "Table not found, skipping swimmer...\n",
      "Processed 70 swimmers...\n",
      "Table not found, skipping swimmer...\n",
      "Table not found, skipping swimmer...\n",
      "Table not found, skipping swimmer...\n",
      "Table not found, skipping swimmer...\n",
      "Table not found, skipping swimmer...\n",
      "Table not found, skipping swimmer...\n",
      "Table not found, skipping swimmer...\n",
      "Table not found, skipping swimmer...\n",
      "Table not found, skipping swimmer...\n",
      "Table not found, skipping swimmer...\n",
      "Processed 80 swimmers...\n",
      "Table not found, skipping swimmer...\n",
      "Table not found, skipping swimmer...\n",
      "Table not found, skipping swimmer...\n",
      "Table not found, skipping swimmer...\n",
      "Table not found, skipping swimmer...\n",
      "Table not found, skipping swimmer...\n",
      "Table not found, skipping swimmer...\n",
      "Table not found, skipping swimmer...\n",
      "Table not found, skipping swimmer...\n",
      "Table not found, skipping swimmer...\n",
      "Processed 90 swimmers...\n",
      "Table not found, skipping swimmer...\n",
      "Table not found, skipping swimmer...\n",
      "Table not found, skipping swimmer...\n",
      "Table not found, skipping swimmer...\n",
      "Table not found, skipping swimmer...\n",
      "Table not found, skipping swimmer...\n",
      "Table not found, skipping swimmer...\n",
      "Table not found, skipping swimmer...\n",
      "Table not found, skipping swimmer...\n",
      "Table not found, skipping swimmer...\n",
      "Processed 100 swimmers...\n",
      "Table not found, skipping swimmer...\n",
      "Table not found, skipping swimmer...\n",
      "Table not found, skipping swimmer...\n",
      "Table not found, skipping swimmer...\n",
      "Table not found, skipping swimmer...\n",
      "Table not found, skipping swimmer...\n",
      "Table not found, skipping swimmer...\n",
      "Table not found, skipping swimmer...\n",
      "Table not found, skipping swimmer...\n",
      "Table not found, skipping swimmer...\n",
      "Processed 110 swimmers...\n",
      "Table not found, skipping swimmer...\n",
      "Table not found, skipping swimmer...\n",
      "Table not found, skipping swimmer...\n",
      "Table not found, skipping swimmer...\n",
      "Table not found, skipping swimmer...\n",
      "Table not found, skipping swimmer...\n",
      "Table not found, skipping swimmer...\n",
      "Table not found, skipping swimmer...\n",
      "Table not found, skipping swimmer...\n",
      "Table not found, skipping swimmer...\n",
      "Processed 120 swimmers...\n",
      "Table not found, skipping swimmer...\n",
      "Table not found, skipping swimmer...\n",
      "Table not found, skipping swimmer...\n",
      "Table not found, skipping swimmer...\n",
      "Table not found, skipping swimmer...\n",
      "Table not found, skipping swimmer...\n",
      "Table not found, skipping swimmer...\n",
      "Table not found, skipping swimmer...\n",
      "Table not found, skipping swimmer...\n",
      "Table not found, skipping swimmer...\n",
      "Processed 130 swimmers...\n",
      "Table not found, skipping swimmer...\n",
      "Table not found, skipping swimmer...\n",
      "Table not found, skipping swimmer...\n",
      "Table not found, skipping swimmer...\n",
      "Table not found, skipping swimmer...\n",
      "Table not found, skipping swimmer...\n",
      "Table not found, skipping swimmer...\n",
      "Table not found, skipping swimmer...\n",
      "Table not found, skipping swimmer...\n",
      "Table not found, skipping swimmer...\n",
      "Processed 140 swimmers...\n",
      "Table not found, skipping swimmer...\n",
      "Table not found, skipping swimmer...\n",
      "Table not found, skipping swimmer...\n",
      "Table not found, skipping swimmer...\n",
      "Table not found, skipping swimmer...\n",
      "Table not found, skipping swimmer...\n",
      "Table not found, skipping swimmer...\n",
      "Table not found, skipping swimmer...\n",
      "Table not found, skipping swimmer...\n",
      "Table not found, skipping swimmer...\n",
      "Processed 150 swimmers...\n",
      "Done\n"
     ]
    }
   ],
   "source": [
    "import requests\n",
    "from bs4 import BeautifulSoup\n",
    "import pandas as pd\n",
    "import time\n",
    "from IPython.display import clear_output\n",
    "\n",
    "def get_swimmer_events(swimmer_id):\n",
    "    url = f\"https://www.swimcloud.com/swimmer/{swimmer_id}/powerindex/\"\n",
    "    headers = {\n",
    "        'User-Agent': 'Mozilla/5.0 (Windows NT 10.0; Win64; x64) AppleWebKit/537.36 (KHTML, like Gecko) Chrome/81.0.4044.138 Safari/537.36',\n",
    "        'Referer': 'https://google.com/'\n",
    "    }\n",
    "    \n",
    "    while True:\n",
    "        response = requests.get(url, headers=headers)\n",
    "        \n",
    "        if response.status_code != 200:\n",
    "            print(f\"Failed to retrieve data for swimmer_id {swimmer_id}\")\n",
    "            print(swimmer_id)\n",
    "            time.sleep(60)\n",
    "            return None\n",
    "        \n",
    "        soup = BeautifulSoup(response.text, 'html.parser')\n",
    "        table = soup.find('table', class_='c-table-clean')\n",
    "        \n",
    "        if table is None:\n",
    "            print(\"Table not found, skipping swimmer...\")\n",
    "            # time.sleep(7)\n",
    "            return None\n",
    "\n",
    "        rows = table.find('tbody').find_all('tr') if table.find('tbody') else None\n",
    "        if rows is None:\n",
    "            print(\"Rows not found, skipping swimmer...\")\n",
    "            # time.sleep(7)\n",
    "            return None\n",
    "        \n",
    "        break\n",
    "\n",
    "    data = {}\n",
    "    for row in rows:\n",
    "        cols = row.find_all('td')\n",
    "        event = cols[0].text.strip()\n",
    "        time_HS = cols[1].text.strip()\n",
    "        points = cols[3].text.strip()\n",
    "        data[event] = (time_HS, points)\n",
    "    \n",
    "    return data\n",
    "\n",
    "def create_swimmer_dataframe(swimmer_ids):\n",
    "    events = [\n",
    "        \"50 Y Free\", \"50 S Free\", \"50 L Free\", \"100 Y Free\", \"100 S Free\", \"100 L Free\", \"200 Y Free\", \"200 S Free\", \n",
    "        \"200 L Free\", \"500 Y Free\", \"400 S Free\", \"400 L Free\", \"1000 Y Free\", \"800 S Free\", \"800 L Free\", \"1650 Y Free\", \n",
    "        \"1500 S Free\", \"1500 L Free\", \"100 Y Back\", \"100 S Back\", \"100 L Back\", \"200 Y Back\", \"200 S Back\", \"200 L Back\", \n",
    "        \"100 Y Breast\", \"100 S Breast\", \"100 L Breast\", \"200 Y Breast\", \"200 S Breast\", \"200 L Breast\", \"100 Y Fly\", \n",
    "        \"100 S Fly\", \"100 L Fly\", \"200 Y Fly\", \"200 S Fly\", \"200 L Fly\", \"100 Y IM\", \"100 S IM\", \"200 Y IM\", \"200 S IM\", \n",
    "        \"200 L IM\", \"400 Y IM\", \"400 S IM\", \"400 L IM\"\n",
    "    ]\n",
    "    \n",
    "    columns = [f\"{event} Time\" for event in events] + [f\"{event} Points\" for event in events]\n",
    "    result_df = pd.DataFrame(index=swimmer_ids, columns=columns)\n",
    "    \n",
    "    for i, swimmer_id in enumerate(swimmer_ids, 1):\n",
    "        swimmer_data = get_swimmer_events(swimmer_id)\n",
    "        if swimmer_data:\n",
    "            for event in events:\n",
    "                time_col = f\"{event} Time\"\n",
    "                points_col = f\"{event} Points\"\n",
    "                time_HS, points = swimmer_data.get(event, ('', ''))\n",
    "                result_df.at[swimmer_id, time_col] = time_HS\n",
    "                result_df.at[swimmer_id, points_col] = points\n",
    "        \n",
    "        if i % 10 == 0:\n",
    "            print(f\"Processed {i} swimmers...\")\n",
    "\n",
    "        # if i % 100 == 0:  # Save every 100 swimmers\n",
    "            # result_df.to_parquet('progress_snapshot.parquet', engine='pyarrow')\n",
    "        \n",
    "        if i % 200 == 0:\n",
    "            clear_output(wait=True)\n",
    "            time.sleep(10)\n",
    "\n",
    "    return result_df\n",
    "\n",
    "# Load the existing DataFrame\n",
    "# df = pd.read_parquet('./4more_name_info_dtypes.parquet', engine='pyarrow')  # Adjust the file path as needed\n",
    "swimmer_ids = name_info.index[name_info.isna().all(axis=1)].tolist()\n",
    "\n",
    "# Create the new DataFrame\n",
    "new_df = create_swimmer_dataframe(swimmer_ids[:150])\n",
    "print(\"Done\")"
   ]
  },
  {
   "cell_type": "code",
   "execution_count": 20,
   "id": "154676e6-f790-402c-afa1-c1b7be947a5b",
   "metadata": {},
   "outputs": [
    {
     "data": {
      "text/plain": [
       "50 Y Free Time     23.52\n",
       "50 S Free Time          \n",
       "50 L Free Time          \n",
       "100 Y Free Time    50.49\n",
       "100 S Free Time         \n",
       "                   ...  \n",
       "200 S IM Points         \n",
       "200 L IM Points         \n",
       "400 Y IM Points         \n",
       "400 S IM Points         \n",
       "400 L IM Points    90.53\n",
       "Name: 602042, Length: 88, dtype: object"
      ]
     },
     "execution_count": 20,
     "metadata": {},
     "output_type": "execute_result"
    }
   ],
   "source": [
    "new_df.loc[~new_df.isna().all(axis=1)].iloc[0]"
   ]
  },
  {
   "cell_type": "code",
   "execution_count": 21,
   "id": "7db55bb2-5910-4a6a-99e7-d6ba2681367b",
   "metadata": {},
   "outputs": [
    {
     "name": "stdout",
     "output_type": "stream",
     "text": [
      "602042\n"
     ]
    }
   ],
   "source": [
    "new_df.loc[~new_df.isna().all(axis=1)].iloc[0]\n",
    "new_row = new_df.loc[~new_df.isna().all(axis=1)].iloc[0]\n",
    "\n",
    "# Get the index of the row to replace in name_info (assuming it's the same index as the new_row)\n",
    "index_to_replace = new_row.name\n",
    "print(index_to_replace)\n",
    "\n",
    "# Replace the row in name_info with the new_row\n",
    "name_info.loc[index_to_replace] = new_row"
   ]
  },
  {
   "cell_type": "code",
   "execution_count": 22,
   "id": "b5312c1f-0689-4271-85f4-e2189aa0ec50",
   "metadata": {},
   "outputs": [
    {
     "data": {
      "text/plain": [
       "296"
      ]
     },
     "execution_count": 22,
     "metadata": {},
     "output_type": "execute_result"
    }
   ],
   "source": [
    "name_info.isna().all(axis=1).sum()"
   ]
  },
  {
   "cell_type": "code",
   "execution_count": 23,
   "id": "7e0b409d-16d2-4832-a678-c494b7930527",
   "metadata": {},
   "outputs": [
    {
     "data": {
      "text/plain": [
       "(12698, 88)"
      ]
     },
     "execution_count": 23,
     "metadata": {},
     "output_type": "execute_result"
    }
   ],
   "source": [
    "name_info.shape"
   ]
  },
  {
   "cell_type": "code",
   "execution_count": 24,
   "id": "ad7facc4-7ec0-41cb-8969-8e9f27352ce1",
   "metadata": {},
   "outputs": [
    {
     "data": {
      "text/plain": [
       "(12402, 88)"
      ]
     },
     "execution_count": 24,
     "metadata": {},
     "output_type": "execute_result"
    }
   ],
   "source": [
    "name_info = name_info.dropna(how='all')\n",
    "name_info.shape"
   ]
  },
  {
   "cell_type": "code",
   "execution_count": 25,
   "id": "254accf9-055b-4e91-b9e9-768f3a3e9200",
   "metadata": {},
   "outputs": [],
   "source": [
    "name_info.to_csv('HS_times.csv',index=True)"
   ]
  },
  {
   "cell_type": "code",
   "execution_count": null,
   "id": "6d40112c-fa5b-46ad-aca0-ce98771982e9",
   "metadata": {},
   "outputs": [],
   "source": []
  }
 ],
 "metadata": {
  "kernelspec": {
   "display_name": "Python 3 (ipykernel)",
   "language": "python",
   "name": "python3"
  },
  "language_info": {
   "codemirror_mode": {
    "name": "ipython",
    "version": 3
   },
   "file_extension": ".py",
   "mimetype": "text/x-python",
   "name": "python",
   "nbconvert_exporter": "python",
   "pygments_lexer": "ipython3",
   "version": "3.11.10"
  }
 },
 "nbformat": 4,
 "nbformat_minor": 5
}
