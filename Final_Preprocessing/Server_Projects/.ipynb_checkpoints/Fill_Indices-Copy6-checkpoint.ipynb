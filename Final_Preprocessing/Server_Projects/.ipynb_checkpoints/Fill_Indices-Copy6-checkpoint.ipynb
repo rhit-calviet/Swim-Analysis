{
 "cells": [
  {
   "cell_type": "code",
   "execution_count": 1,
   "id": "067069e9-cb24-4920-aaa7-e80dc7824412",
   "metadata": {},
   "outputs": [],
   "source": [
    "import pandas as pd\n",
    "from IPython.display import clear_output\n",
    "import pandas as pd"
   ]
  },
  {
   "cell_type": "code",
   "execution_count": 2,
   "id": "5d12b5a1-b3fe-4b9e-81ec-d1eacbbf27b3",
   "metadata": {},
   "outputs": [],
   "source": [
    "import time\n",
    "import random"
   ]
  },
  {
   "cell_type": "code",
   "execution_count": 3,
   "id": "7eea3d96-f8f8-428c-8fc8-41ad999d6e98",
   "metadata": {},
   "outputs": [
    {
     "data": {
      "text/html": [
       "<div>\n",
       "<style scoped>\n",
       "    .dataframe tbody tr th:only-of-type {\n",
       "        vertical-align: middle;\n",
       "    }\n",
       "\n",
       "    .dataframe tbody tr th {\n",
       "        vertical-align: top;\n",
       "    }\n",
       "\n",
       "    .dataframe thead th {\n",
       "        text-align: right;\n",
       "    }\n",
       "</style>\n",
       "<table border=\"1\" class=\"dataframe\">\n",
       "  <thead>\n",
       "    <tr style=\"text-align: right;\">\n",
       "      <th></th>\n",
       "      <th>Name</th>\n",
       "      <th>School</th>\n",
       "      <th>Power</th>\n",
       "      <th>Link</th>\n",
       "    </tr>\n",
       "  </thead>\n",
       "  <tbody>\n",
       "    <tr>\n",
       "      <th>0</th>\n",
       "      <td>Tiago ASAKAWA</td>\n",
       "      <td>UMBC</td>\n",
       "      <td>15.96</td>\n",
       "      <td>/swimmer/515075</td>\n",
       "    </tr>\n",
       "    <tr>\n",
       "      <th>1</th>\n",
       "      <td>Niklas Weigelt</td>\n",
       "      <td>UMBC</td>\n",
       "      <td>8.38</td>\n",
       "      <td>/swimmer/413265</td>\n",
       "    </tr>\n",
       "  </tbody>\n",
       "</table>\n",
       "</div>"
      ],
      "text/plain": [
       "             Name School  Power             Link\n",
       "0   Tiago ASAKAWA   UMBC  15.96  /swimmer/515075\n",
       "1  Niklas Weigelt   UMBC   8.38  /swimmer/413265"
      ]
     },
     "execution_count": 3,
     "metadata": {},
     "output_type": "execute_result"
    }
   ],
   "source": [
    "name_info = pd.read_parquet('./4more_name_info_dtypes.parquet')\n",
    "name_info.head(2)"
   ]
  },
  {
   "cell_type": "code",
   "execution_count": 4,
   "id": "56a82e18-d2ce-425f-bc9c-d90bcea2a48d",
   "metadata": {},
   "outputs": [
    {
     "data": {
      "text/html": [
       "<div>\n",
       "<style scoped>\n",
       "    .dataframe tbody tr th:only-of-type {\n",
       "        vertical-align: middle;\n",
       "    }\n",
       "\n",
       "    .dataframe tbody tr th {\n",
       "        vertical-align: top;\n",
       "    }\n",
       "\n",
       "    .dataframe thead th {\n",
       "        text-align: right;\n",
       "    }\n",
       "</style>\n",
       "<table border=\"1\" class=\"dataframe\">\n",
       "  <thead>\n",
       "    <tr style=\"text-align: right;\">\n",
       "      <th></th>\n",
       "      <th>Name</th>\n",
       "      <th>School</th>\n",
       "      <th>Power</th>\n",
       "      <th>Link</th>\n",
       "      <th>ID</th>\n",
       "    </tr>\n",
       "  </thead>\n",
       "  <tbody>\n",
       "    <tr>\n",
       "      <th>0</th>\n",
       "      <td>Tiago ASAKAWA</td>\n",
       "      <td>UMBC</td>\n",
       "      <td>15.96</td>\n",
       "      <td>/swimmer/515075</td>\n",
       "      <td>515075</td>\n",
       "    </tr>\n",
       "    <tr>\n",
       "      <th>1</th>\n",
       "      <td>Niklas Weigelt</td>\n",
       "      <td>UMBC</td>\n",
       "      <td>8.38</td>\n",
       "      <td>/swimmer/413265</td>\n",
       "      <td>413265</td>\n",
       "    </tr>\n",
       "  </tbody>\n",
       "</table>\n",
       "</div>"
      ],
      "text/plain": [
       "             Name School  Power             Link      ID\n",
       "0   Tiago ASAKAWA   UMBC  15.96  /swimmer/515075  515075\n",
       "1  Niklas Weigelt   UMBC   8.38  /swimmer/413265  413265"
      ]
     },
     "execution_count": 4,
     "metadata": {},
     "output_type": "execute_result"
    }
   ],
   "source": [
    "name_info['ID'] = name_info['Link'].apply(lambda x: x.split('/')[-1])\n",
    "name_info.head(2)"
   ]
  },
  {
   "cell_type": "code",
   "execution_count": 5,
   "id": "cc8fc83a-6f11-4c78-bc15-b662898d7953",
   "metadata": {},
   "outputs": [
    {
     "data": {
      "text/html": [
       "<div>\n",
       "<style scoped>\n",
       "    .dataframe tbody tr th:only-of-type {\n",
       "        vertical-align: middle;\n",
       "    }\n",
       "\n",
       "    .dataframe tbody tr th {\n",
       "        vertical-align: top;\n",
       "    }\n",
       "\n",
       "    .dataframe thead th {\n",
       "        text-align: right;\n",
       "    }\n",
       "</style>\n",
       "<table border=\"1\" class=\"dataframe\">\n",
       "  <thead>\n",
       "    <tr style=\"text-align: right;\">\n",
       "      <th></th>\n",
       "      <th>Name</th>\n",
       "      <th>School</th>\n",
       "      <th>Power</th>\n",
       "    </tr>\n",
       "    <tr>\n",
       "      <th>ID</th>\n",
       "      <th></th>\n",
       "      <th></th>\n",
       "      <th></th>\n",
       "    </tr>\n",
       "  </thead>\n",
       "  <tbody>\n",
       "    <tr>\n",
       "      <th>515075</th>\n",
       "      <td>Tiago ASAKAWA</td>\n",
       "      <td>UMBC</td>\n",
       "      <td>15.96</td>\n",
       "    </tr>\n",
       "    <tr>\n",
       "      <th>413265</th>\n",
       "      <td>Niklas Weigelt</td>\n",
       "      <td>UMBC</td>\n",
       "      <td>8.38</td>\n",
       "    </tr>\n",
       "  </tbody>\n",
       "</table>\n",
       "</div>"
      ],
      "text/plain": [
       "                  Name School  Power\n",
       "ID                                  \n",
       "515075   Tiago ASAKAWA   UMBC  15.96\n",
       "413265  Niklas Weigelt   UMBC   8.38"
      ]
     },
     "execution_count": 5,
     "metadata": {},
     "output_type": "execute_result"
    }
   ],
   "source": [
    "name_info = name_info.set_index('ID')\n",
    "name_info = name_info.drop('Link',axis=1)\n",
    "name_info.head(2)"
   ]
  },
  {
   "cell_type": "code",
   "execution_count": 6,
   "id": "f74c26e7-5a12-4897-9918-fd203f4fc6ea",
   "metadata": {},
   "outputs": [
    {
     "name": "stdout",
     "output_type": "stream",
     "text": [
      "Processed 10010 swimmers...\n",
      "Processed 10020 swimmers...\n",
      "Processed 10030 swimmers...\n",
      "Processed 10040 swimmers...\n",
      "Processed 10050 swimmers...\n",
      "Table not found, skipping swimmer...\n",
      "Processed 10060 swimmers...\n",
      "Table not found, skipping swimmer...\n",
      "Processed 10070 swimmers...\n",
      "Table not found, skipping swimmer...\n",
      "Processed 10080 swimmers...\n",
      "Processed 10090 swimmers...\n",
      "Processed 10100 swimmers...\n",
      "Processed 10110 swimmers...\n",
      "Processed 10120 swimmers...\n",
      "Processed 10130 swimmers...\n",
      "Table not found, skipping swimmer...\n",
      "Processed 10140 swimmers...\n",
      "Processed 10150 swimmers...\n"
     ]
    },
    {
     "name": "stderr",
     "output_type": "stream",
     "text": [
      "\n",
      "KeyboardInterrupt\n",
      "\n"
     ]
    }
   ],
   "source": [
    "import requests\n",
    "from bs4 import BeautifulSoup\n",
    "import pandas as pd\n",
    "import time\n",
    "from IPython.display import clear_output\n",
    "\n",
    "def get_swimmer_events(swimmer_id):\n",
    "    url = f\"https://www.swimcloud.com/swimmer/{swimmer_id}/powerindex/\"\n",
    "    headers = {\n",
    "        'User-Agent': 'Mozilla/5.0 (Windows NT 10.0; Win64; x64) AppleWebKit/537.36 (KHTML, like Gecko) Chrome/81.0.4044.138 Safari/537.36',\n",
    "        'Referer': 'https://google.com/'\n",
    "    }\n",
    "    \n",
    "    while True:\n",
    "        response = requests.get(url, headers=headers)\n",
    "        \n",
    "        if response.status_code != 200:\n",
    "            print(f\"Failed to retrieve data for swimmer_id {swimmer_id}\")\n",
    "            time.sleep(60)\n",
    "            return None\n",
    "        \n",
    "        soup = BeautifulSoup(response.text, 'html.parser')\n",
    "        table = soup.find('table', class_='c-table-clean')\n",
    "        \n",
    "        if table is None:\n",
    "            print(\"Table not found, skipping swimmer...\")\n",
    "            time.sleep(7)\n",
    "            return None\n",
    "\n",
    "        rows = table.find('tbody').find_all('tr') if table.find('tbody') else None\n",
    "        if rows is None:\n",
    "            print(\"Rows not found, skipping swimmer...\")\n",
    "            time.sleep(7)\n",
    "            return None\n",
    "        \n",
    "        break\n",
    "\n",
    "    data = {}\n",
    "    for row in rows:\n",
    "        cols = row.find_all('td')\n",
    "        event = cols[0].text.strip()\n",
    "        time_HS = cols[1].text.strip()\n",
    "        points = cols[3].text.strip()\n",
    "        data[event] = (time_HS, points)\n",
    "    \n",
    "    return data\n",
    "\n",
    "def create_swimmer_dataframe(swimmer_ids):\n",
    "    events = [\n",
    "        \"50 Y Free\", \"50 S Free\", \"50 L Free\", \"100 Y Free\", \"100 S Free\", \"100 L Free\", \"200 Y Free\", \"200 S Free\", \n",
    "        \"200 L Free\", \"500 Y Free\", \"400 S Free\", \"400 L Free\", \"1000 Y Free\", \"800 S Free\", \"800 L Free\", \"1650 Y Free\", \n",
    "        \"1500 S Free\", \"1500 L Free\", \"100 Y Back\", \"100 S Back\", \"100 L Back\", \"200 Y Back\", \"200 S Back\", \"200 L Back\", \n",
    "        \"100 Y Breast\", \"100 S Breast\", \"100 L Breast\", \"200 Y Breast\", \"200 S Breast\", \"200 L Breast\", \"100 Y Fly\", \n",
    "        \"100 S Fly\", \"100 L Fly\", \"200 Y Fly\", \"200 S Fly\", \"200 L Fly\", \"100 Y IM\", \"100 S IM\", \"200 Y IM\", \"200 S IM\", \n",
    "        \"200 L IM\", \"400 Y IM\", \"400 S IM\", \"400 L IM\"\n",
    "    ]\n",
    "    \n",
    "    columns = [f\"{event} Time\" for event in events] + [f\"{event} Points\" for event in events]\n",
    "    result_df = pd.DataFrame(index=swimmer_ids, columns=columns)\n",
    "    \n",
    "    for i, swimmer_id in enumerate(swimmer_ids, 1):\n",
    "        swimmer_data = get_swimmer_events(swimmer_id)\n",
    "        if swimmer_data:\n",
    "            for event in events:\n",
    "                time_col = f\"{event} Time\"\n",
    "                points_col = f\"{event} Points\"\n",
    "                time_HS, points = swimmer_data.get(event, ('', ''))\n",
    "                result_df.at[swimmer_id, time_col] = time_HS\n",
    "                result_df.at[swimmer_id, points_col] = points\n",
    "        \n",
    "        if i % 10 == 0:\n",
    "            print(f\"Processed {i} swimmers...\")\n",
    "\n",
    "        if i % 100 == 0:  # Save every 100 swimmers\n",
    "            result_df.to_parquet('progress_snapshot.parquet', engine='pyarrow')\n",
    "        \n",
    "        if i % 200 == 0:\n",
    "            clear_output(wait=True)\n",
    "            time.sleep(10)\n",
    "\n",
    "    return result_df\n",
    "\n",
    "# Load the existing DataFrame\n",
    "# df = pd.read_parquet('./4more_name_info_dtypes.parquet', engine='pyarrow')  # Adjust the file path as needed\n",
    "swimmer_ids = name_info.index.tolist()\n",
    "\n",
    "# Create the new DataFrame\n",
    "new_df = create_swimmer_dataframe(swimmer_ids)[8000:]\n",
    "print(\"Done\")"
   ]
  },
  {
   "cell_type": "code",
   "execution_count": null,
   "id": "7db55bb2-5910-4a6a-99e7-d6ba2681367b",
   "metadata": {},
   "outputs": [],
   "source": [
    "new_df"
   ]
  },
  {
   "cell_type": "code",
   "execution_count": null,
   "id": "254accf9-055b-4e91-b9e9-768f3a3e9200",
   "metadata": {},
   "outputs": [],
   "source": []
  }
 ],
 "metadata": {
  "kernelspec": {
   "display_name": "Python 3 (ipykernel)",
   "language": "python",
   "name": "python3"
  },
  "language_info": {
   "codemirror_mode": {
    "name": "ipython",
    "version": 3
   },
   "file_extension": ".py",
   "mimetype": "text/x-python",
   "name": "python",
   "nbconvert_exporter": "python",
   "pygments_lexer": "ipython3",
   "version": "3.11.10"
  }
 },
 "nbformat": 4,
 "nbformat_minor": 5
}
