{
 "cells": [
  {
   "cell_type": "code",
   "execution_count": 1,
   "id": "c789cdf8-1a8b-42fd-a036-80b36d6fcc57",
   "metadata": {},
   "outputs": [],
   "source": [
    "import pandas as pd"
   ]
  },
  {
   "cell_type": "code",
   "execution_count": 2,
   "id": "321d60fe-e9f4-43e2-8747-376baecdccfe",
   "metadata": {},
   "outputs": [
    {
     "data": {
      "text/html": [
       "<div>\n",
       "<style scoped>\n",
       "    .dataframe tbody tr th:only-of-type {\n",
       "        vertical-align: middle;\n",
       "    }\n",
       "\n",
       "    .dataframe tbody tr th {\n",
       "        vertical-align: top;\n",
       "    }\n",
       "\n",
       "    .dataframe thead th {\n",
       "        text-align: right;\n",
       "    }\n",
       "</style>\n",
       "<table border=\"1\" class=\"dataframe\">\n",
       "  <thead>\n",
       "    <tr style=\"text-align: right;\">\n",
       "      <th></th>\n",
       "      <th>Name</th>\n",
       "      <th>School</th>\n",
       "      <th>Power</th>\n",
       "      <th>50 Y Free Time</th>\n",
       "      <th>50 S Free Time</th>\n",
       "      <th>50 L Free Time</th>\n",
       "      <th>100 Y Free Time</th>\n",
       "      <th>100 S Free Time</th>\n",
       "      <th>100 L Free Time</th>\n",
       "      <th>200 Y Free Time</th>\n",
       "      <th>...</th>\n",
       "      <th>200 S Fly Points</th>\n",
       "      <th>200 L Fly Points</th>\n",
       "      <th>100 Y IM Points</th>\n",
       "      <th>100 S IM Points</th>\n",
       "      <th>200 Y IM Points</th>\n",
       "      <th>200 S IM Points</th>\n",
       "      <th>200 L IM Points</th>\n",
       "      <th>400 Y IM Points</th>\n",
       "      <th>400 S IM Points</th>\n",
       "      <th>400 L IM Points</th>\n",
       "    </tr>\n",
       "    <tr>\n",
       "      <th>ID</th>\n",
       "      <th></th>\n",
       "      <th></th>\n",
       "      <th></th>\n",
       "      <th></th>\n",
       "      <th></th>\n",
       "      <th></th>\n",
       "      <th></th>\n",
       "      <th></th>\n",
       "      <th></th>\n",
       "      <th></th>\n",
       "      <th></th>\n",
       "      <th></th>\n",
       "      <th></th>\n",
       "      <th></th>\n",
       "      <th></th>\n",
       "      <th></th>\n",
       "      <th></th>\n",
       "      <th></th>\n",
       "      <th></th>\n",
       "      <th></th>\n",
       "      <th></th>\n",
       "    </tr>\n",
       "  </thead>\n",
       "  <tbody>\n",
       "    <tr>\n",
       "      <th>515075</th>\n",
       "      <td>Tiago ASAKAWA</td>\n",
       "      <td>UMBC</td>\n",
       "      <td>15.96</td>\n",
       "      <td>&lt;NA&gt;</td>\n",
       "      <td>&lt;NA&gt;</td>\n",
       "      <td>23.31</td>\n",
       "      <td>&lt;NA&gt;</td>\n",
       "      <td>50.21</td>\n",
       "      <td>&lt;NA&gt;</td>\n",
       "      <td>&lt;NA&gt;</td>\n",
       "      <td>...</td>\n",
       "      <td>NaN</td>\n",
       "      <td>NaN</td>\n",
       "      <td>NaN</td>\n",
       "      <td>NaN</td>\n",
       "      <td>NaN</td>\n",
       "      <td>NaN</td>\n",
       "      <td>NaN</td>\n",
       "      <td>NaN</td>\n",
       "      <td>NaN</td>\n",
       "      <td>NaN</td>\n",
       "    </tr>\n",
       "    <tr>\n",
       "      <th>413265</th>\n",
       "      <td>Niklas Weigelt</td>\n",
       "      <td>UMBC</td>\n",
       "      <td>8.38</td>\n",
       "      <td>&lt;NA&gt;</td>\n",
       "      <td>&lt;NA&gt;</td>\n",
       "      <td>23.60</td>\n",
       "      <td>44.36</td>\n",
       "      <td>&lt;NA&gt;</td>\n",
       "      <td>&lt;NA&gt;</td>\n",
       "      <td>1:37.44</td>\n",
       "      <td>...</td>\n",
       "      <td>NaN</td>\n",
       "      <td>NaN</td>\n",
       "      <td>100.0</td>\n",
       "      <td>NaN</td>\n",
       "      <td>18.97</td>\n",
       "      <td>NaN</td>\n",
       "      <td>NaN</td>\n",
       "      <td>100.0</td>\n",
       "      <td>NaN</td>\n",
       "      <td>NaN</td>\n",
       "    </tr>\n",
       "  </tbody>\n",
       "</table>\n",
       "<p>2 rows × 91 columns</p>\n",
       "</div>"
      ],
      "text/plain": [
       "                  Name School  Power 50 Y Free Time 50 S Free Time  \\\n",
       "ID                                                                   \n",
       "515075   Tiago ASAKAWA   UMBC  15.96           <NA>           <NA>   \n",
       "413265  Niklas Weigelt   UMBC   8.38           <NA>           <NA>   \n",
       "\n",
       "       50 L Free Time 100 Y Free Time 100 S Free Time 100 L Free Time  \\\n",
       "ID                                                                      \n",
       "515075          23.31            <NA>           50.21            <NA>   \n",
       "413265          23.60           44.36            <NA>            <NA>   \n",
       "\n",
       "       200 Y Free Time  ... 200 S Fly Points 200 L Fly Points 100 Y IM Points  \\\n",
       "ID                      ...                                                     \n",
       "515075            <NA>  ...              NaN              NaN             NaN   \n",
       "413265         1:37.44  ...              NaN              NaN           100.0   \n",
       "\n",
       "       100 S IM Points 200 Y IM Points 200 S IM Points 200 L IM Points  \\\n",
       "ID                                                                       \n",
       "515075             NaN             NaN             NaN             NaN   \n",
       "413265             NaN           18.97             NaN             NaN   \n",
       "\n",
       "       400 Y IM Points 400 S IM Points 400 L IM Points  \n",
       "ID                                                      \n",
       "515075             NaN             NaN             NaN  \n",
       "413265           100.0             NaN             NaN  \n",
       "\n",
       "[2 rows x 91 columns]"
      ]
     },
     "execution_count": 2,
     "metadata": {},
     "output_type": "execute_result"
    }
   ],
   "source": [
    "hs = pd.read_parquet('cleaned_HS.parquet')\n",
    "hs.head(2)"
   ]
  },
  {
   "cell_type": "code",
   "execution_count": 3,
   "id": "d281c3ae-43a2-4a61-ba75-2970a23e34ed",
   "metadata": {},
   "outputs": [
    {
     "data": {
      "text/html": [
       "<div>\n",
       "<style scoped>\n",
       "    .dataframe tbody tr th:only-of-type {\n",
       "        vertical-align: middle;\n",
       "    }\n",
       "\n",
       "    .dataframe tbody tr th {\n",
       "        vertical-align: top;\n",
       "    }\n",
       "\n",
       "    .dataframe thead th {\n",
       "        text-align: right;\n",
       "    }\n",
       "</style>\n",
       "<table border=\"1\" class=\"dataframe\">\n",
       "  <thead>\n",
       "    <tr style=\"text-align: right;\">\n",
       "      <th></th>\n",
       "      <th>Event</th>\n",
       "      <th>Conf_Rank</th>\n",
       "      <th>Time</th>\n",
       "      <th>Name</th>\n",
       "      <th>School</th>\n",
       "      <th>Standard</th>\n",
       "      <th>Date</th>\n",
       "      <th>Gender</th>\n",
       "      <th>Division</th>\n",
       "      <th>Season</th>\n",
       "      <th>SeasonYear</th>\n",
       "      <th>Time_Adj</th>\n",
       "      <th>Time_Sec</th>\n",
       "      <th>Points</th>\n",
       "      <th>Div_Rank</th>\n",
       "      <th>NCAA_Rank</th>\n",
       "      <th>Power</th>\n",
       "    </tr>\n",
       "  </thead>\n",
       "  <tbody>\n",
       "    <tr>\n",
       "      <th>0</th>\n",
       "      <td>50 Freestyle SCY Male</td>\n",
       "      <td>2</td>\n",
       "      <td>20.20</td>\n",
       "      <td>Tiago ASAKAWA</td>\n",
       "      <td>UMBC</td>\n",
       "      <td>NS</td>\n",
       "      <td>2020-02-14</td>\n",
       "      <td>M</td>\n",
       "      <td>I</td>\n",
       "      <td>19_20</td>\n",
       "      <td>2020</td>\n",
       "      <td>0 days 00:00:20.200000</td>\n",
       "      <td>20.20</td>\n",
       "      <td>664.818090</td>\n",
       "      <td>252.0</td>\n",
       "      <td>291.0</td>\n",
       "      <td>15.96</td>\n",
       "    </tr>\n",
       "    <tr>\n",
       "      <th>1</th>\n",
       "      <td>50 Freestyle SCY Male</td>\n",
       "      <td>4</td>\n",
       "      <td>20.72</td>\n",
       "      <td>Niklas Weigelt</td>\n",
       "      <td>UMBC</td>\n",
       "      <td>NS</td>\n",
       "      <td>2020-02-14</td>\n",
       "      <td>M</td>\n",
       "      <td>I</td>\n",
       "      <td>19_20</td>\n",
       "      <td>2020</td>\n",
       "      <td>0 days 00:00:20.720000</td>\n",
       "      <td>20.72</td>\n",
       "      <td>616.009888</td>\n",
       "      <td>542.0</td>\n",
       "      <td>690.0</td>\n",
       "      <td>8.38</td>\n",
       "    </tr>\n",
       "  </tbody>\n",
       "</table>\n",
       "</div>"
      ],
      "text/plain": [
       "                   Event  Conf_Rank   Time            Name School Standard  \\\n",
       "0  50 Freestyle SCY Male          2  20.20   Tiago ASAKAWA   UMBC       NS   \n",
       "1  50 Freestyle SCY Male          4  20.72  Niklas Weigelt   UMBC       NS   \n",
       "\n",
       "        Date Gender Division Season  SeasonYear               Time_Adj  \\\n",
       "0 2020-02-14      M        I  19_20        2020 0 days 00:00:20.200000   \n",
       "1 2020-02-14      M        I  19_20        2020 0 days 00:00:20.720000   \n",
       "\n",
       "   Time_Sec      Points  Div_Rank  NCAA_Rank  Power  \n",
       "0     20.20  664.818090     252.0      291.0  15.96  \n",
       "1     20.72  616.009888     542.0      690.0   8.38  "
      ]
     },
     "execution_count": 3,
     "metadata": {},
     "output_type": "execute_result"
    }
   ],
   "source": [
    "col = pd.read_parquet('4YR_cleaned_USAS.parquet')\n",
    "col.head(2)"
   ]
  },
  {
   "cell_type": "code",
   "execution_count": 4,
   "id": "9584ed51-faac-4874-9e25-819429aaba9c",
   "metadata": {},
   "outputs": [
    {
     "data": {
      "text/plain": [
       "(11242, 91)"
      ]
     },
     "execution_count": 4,
     "metadata": {},
     "output_type": "execute_result"
    }
   ],
   "source": [
    "hs.shape"
   ]
  },
  {
   "cell_type": "code",
   "execution_count": 5,
   "id": "51ae2128-c2c9-4165-91fe-0f05ac108dca",
   "metadata": {},
   "outputs": [
    {
     "data": {
      "text/plain": [
       "(299511, 17)"
      ]
     },
     "execution_count": 5,
     "metadata": {},
     "output_type": "execute_result"
    }
   ],
   "source": [
    "col.shape"
   ]
  },
  {
   "cell_type": "code",
   "execution_count": 6,
   "id": "a4ac899a-e461-488b-a855-ab252925813a",
   "metadata": {},
   "outputs": [
    {
     "data": {
      "text/plain": [
       "11242"
      ]
     },
     "execution_count": 6,
     "metadata": {},
     "output_type": "execute_result"
    }
   ],
   "source": [
    "hs.Name.nunique()"
   ]
  },
  {
   "cell_type": "code",
   "execution_count": 7,
   "id": "c6972f89-9ba6-4368-8b34-2997a6defdb8",
   "metadata": {},
   "outputs": [
    {
     "data": {
      "text/plain": [
       "14556"
      ]
     },
     "execution_count": 7,
     "metadata": {},
     "output_type": "execute_result"
    }
   ],
   "source": [
    "col.Name.nunique()"
   ]
  },
  {
   "cell_type": "code",
   "execution_count": 8,
   "id": "4941faea-0660-457a-88cf-c4ed50fad1c6",
   "metadata": {},
   "outputs": [],
   "source": [
    "unique_names_hs = hs['Name'].unique().tolist()\n",
    "unique_names_col = col['Name'].unique().tolist()"
   ]
  },
  {
   "cell_type": "code",
   "execution_count": 9,
   "id": "e1bdf425-79ec-44c2-8061-f4fe02420982",
   "metadata": {},
   "outputs": [
    {
     "name": "stdout",
     "output_type": "stream",
     "text": [
      "0\n"
     ]
    }
   ],
   "source": [
    "unique_names_hs_lower = [name.lower() for name in unique_names_hs]\n",
    "unique_names_col_lower = [name.lower() for name in unique_names_col]\n",
    "\n",
    "count = 0\n",
    "for name in unique_names_hs_lower:\n",
    "    found = False\n",
    "    for name2 in unique_names_col_lower:\n",
    "        if (name == name2):\n",
    "            found = True\n",
    "    if (found == False):\n",
    "        count = count + 1\n",
    "print(count)"
   ]
  },
  {
   "cell_type": "code",
   "execution_count": 10,
   "id": "f93ddec5-3e70-4bc5-84ee-7de50ad9511d",
   "metadata": {},
   "outputs": [],
   "source": [
    "col_filtered = col[col['Name'].str.lower().isin(unique_names_hs_lower)]"
   ]
  },
  {
   "cell_type": "code",
   "execution_count": 11,
   "id": "c5ca38a7-35ba-47ae-a387-c4dc517fe107",
   "metadata": {},
   "outputs": [
    {
     "data": {
      "text/plain": [
       "(231748, 17)"
      ]
     },
     "execution_count": 11,
     "metadata": {},
     "output_type": "execute_result"
    }
   ],
   "source": [
    "col_filtered.shape"
   ]
  },
  {
   "cell_type": "code",
   "execution_count": 17,
   "id": "7bb3ccf5-432d-4cf4-8470-0bd59e8911e3",
   "metadata": {},
   "outputs": [
    {
     "data": {
      "text/html": [
       "<div>\n",
       "<style scoped>\n",
       "    .dataframe tbody tr th:only-of-type {\n",
       "        vertical-align: middle;\n",
       "    }\n",
       "\n",
       "    .dataframe tbody tr th {\n",
       "        vertical-align: top;\n",
       "    }\n",
       "\n",
       "    .dataframe thead th {\n",
       "        text-align: right;\n",
       "    }\n",
       "</style>\n",
       "<table border=\"1\" class=\"dataframe\">\n",
       "  <thead>\n",
       "    <tr style=\"text-align: right;\">\n",
       "      <th></th>\n",
       "      <th>Event</th>\n",
       "      <th>Conf_Rank</th>\n",
       "      <th>Time</th>\n",
       "      <th>Name</th>\n",
       "      <th>School</th>\n",
       "      <th>Standard</th>\n",
       "      <th>Date</th>\n",
       "      <th>Gender</th>\n",
       "      <th>Division</th>\n",
       "      <th>Season</th>\n",
       "      <th>SeasonYear</th>\n",
       "      <th>Time_Adj</th>\n",
       "      <th>Time_Sec</th>\n",
       "      <th>Points</th>\n",
       "      <th>Div_Rank</th>\n",
       "      <th>NCAA_Rank</th>\n",
       "      <th>Power</th>\n",
       "      <th>ID</th>\n",
       "    </tr>\n",
       "  </thead>\n",
       "  <tbody>\n",
       "    <tr>\n",
       "      <th>0</th>\n",
       "      <td>50 Freestyle SCY Male</td>\n",
       "      <td>2</td>\n",
       "      <td>20.20</td>\n",
       "      <td>Tiago ASAKAWA</td>\n",
       "      <td>UMBC</td>\n",
       "      <td>NS</td>\n",
       "      <td>2020-02-14</td>\n",
       "      <td>M</td>\n",
       "      <td>I</td>\n",
       "      <td>19_20</td>\n",
       "      <td>2020</td>\n",
       "      <td>0 days 00:00:20.200000</td>\n",
       "      <td>20.20</td>\n",
       "      <td>664.818090</td>\n",
       "      <td>252.0</td>\n",
       "      <td>291.0</td>\n",
       "      <td>15.96</td>\n",
       "      <td>515075</td>\n",
       "    </tr>\n",
       "    <tr>\n",
       "      <th>1</th>\n",
       "      <td>50 Freestyle SCY Male</td>\n",
       "      <td>4</td>\n",
       "      <td>20.72</td>\n",
       "      <td>Niklas Weigelt</td>\n",
       "      <td>UMBC</td>\n",
       "      <td>NS</td>\n",
       "      <td>2020-02-14</td>\n",
       "      <td>M</td>\n",
       "      <td>I</td>\n",
       "      <td>19_20</td>\n",
       "      <td>2020</td>\n",
       "      <td>0 days 00:00:20.720000</td>\n",
       "      <td>20.72</td>\n",
       "      <td>616.009888</td>\n",
       "      <td>542.0</td>\n",
       "      <td>690.0</td>\n",
       "      <td>8.38</td>\n",
       "      <td>413265</td>\n",
       "    </tr>\n",
       "  </tbody>\n",
       "</table>\n",
       "</div>"
      ],
      "text/plain": [
       "                   Event  Conf_Rank   Time            Name School Standard  \\\n",
       "0  50 Freestyle SCY Male          2  20.20   Tiago ASAKAWA   UMBC       NS   \n",
       "1  50 Freestyle SCY Male          4  20.72  Niklas Weigelt   UMBC       NS   \n",
       "\n",
       "        Date Gender Division Season  SeasonYear               Time_Adj  \\\n",
       "0 2020-02-14      M        I  19_20        2020 0 days 00:00:20.200000   \n",
       "1 2020-02-14      M        I  19_20        2020 0 days 00:00:20.720000   \n",
       "\n",
       "   Time_Sec      Points  Div_Rank  NCAA_Rank  Power      ID  \n",
       "0     20.20  664.818090     252.0      291.0  15.96  515075  \n",
       "1     20.72  616.009888     542.0      690.0   8.38  413265  "
      ]
     },
     "execution_count": 17,
     "metadata": {},
     "output_type": "execute_result"
    }
   ],
   "source": [
    "# Reset the index of hs to get 'ID' as a column instead of the index\n",
    "hs_reset = hs.reset_index()\n",
    "\n",
    "# Create a mapping of 'Name' to 'ID' from the reset 'hs' DataFrame\n",
    "name_to_id_mapping = hs_reset.set_index('Name')['ID'].to_dict()\n",
    "\n",
    "# Filter rows in 'col' based on the condition\n",
    "col_filtered = col[col['Name'].str.lower().isin(unique_names_hs_lower)].copy()\n",
    "\n",
    "# Add the 'ID' column to col_filtered using .loc to avoid the SettingWithCopyWarning\n",
    "col_filtered.loc[:, 'ID'] = col_filtered['Name'].map(name_to_id_mapping)\n",
    "\n",
    "col_filtered.ID = col_filtered.ID.astype('int')\n",
    "col_filtered.ID = col_filtered.ID.astype('category')\n",
    "col_filtered.head(2)"
   ]
  },
  {
   "cell_type": "code",
   "execution_count": 36,
   "id": "a0ff2936-d7ce-4cf3-ad2e-0489481d2ab1",
   "metadata": {},
   "outputs": [
    {
     "data": {
      "text/html": [
       "<div>\n",
       "<style scoped>\n",
       "    .dataframe tbody tr th:only-of-type {\n",
       "        vertical-align: middle;\n",
       "    }\n",
       "\n",
       "    .dataframe tbody tr th {\n",
       "        vertical-align: top;\n",
       "    }\n",
       "\n",
       "    .dataframe thead th {\n",
       "        text-align: right;\n",
       "    }\n",
       "</style>\n",
       "<table border=\"1\" class=\"dataframe\">\n",
       "  <thead>\n",
       "    <tr style=\"text-align: right;\">\n",
       "      <th></th>\n",
       "      <th>Name</th>\n",
       "      <th>School</th>\n",
       "      <th>Power</th>\n",
       "      <th>50 Y Free Time</th>\n",
       "      <th>50 S Free Time</th>\n",
       "      <th>50 L Free Time</th>\n",
       "      <th>100 Y Free Time</th>\n",
       "      <th>100 S Free Time</th>\n",
       "      <th>100 L Free Time</th>\n",
       "      <th>200 Y Free Time</th>\n",
       "      <th>...</th>\n",
       "      <th>200 L Fly Points</th>\n",
       "      <th>100 Y IM Points</th>\n",
       "      <th>100 S IM Points</th>\n",
       "      <th>200 Y IM Points</th>\n",
       "      <th>200 S IM Points</th>\n",
       "      <th>200 L IM Points</th>\n",
       "      <th>400 Y IM Points</th>\n",
       "      <th>400 S IM Points</th>\n",
       "      <th>400 L IM Points</th>\n",
       "      <th>Gender</th>\n",
       "    </tr>\n",
       "    <tr>\n",
       "      <th>ID</th>\n",
       "      <th></th>\n",
       "      <th></th>\n",
       "      <th></th>\n",
       "      <th></th>\n",
       "      <th></th>\n",
       "      <th></th>\n",
       "      <th></th>\n",
       "      <th></th>\n",
       "      <th></th>\n",
       "      <th></th>\n",
       "      <th></th>\n",
       "      <th></th>\n",
       "      <th></th>\n",
       "      <th></th>\n",
       "      <th></th>\n",
       "      <th></th>\n",
       "      <th></th>\n",
       "      <th></th>\n",
       "      <th></th>\n",
       "      <th></th>\n",
       "      <th></th>\n",
       "    </tr>\n",
       "  </thead>\n",
       "  <tbody>\n",
       "    <tr>\n",
       "      <th>1309404</th>\n",
       "      <td>Brianna Brunk</td>\n",
       "      <td>Millikin University</td>\n",
       "      <td>78.84</td>\n",
       "      <td>29.25</td>\n",
       "      <td>&lt;NA&gt;</td>\n",
       "      <td>&lt;NA&gt;</td>\n",
       "      <td>1:02.23</td>\n",
       "      <td>&lt;NA&gt;</td>\n",
       "      <td>&lt;NA&gt;</td>\n",
       "      <td>2:07.22</td>\n",
       "      <td>...</td>\n",
       "      <td>NaN</td>\n",
       "      <td>100.0</td>\n",
       "      <td>NaN</td>\n",
       "      <td>100.0</td>\n",
       "      <td>NaN</td>\n",
       "      <td>NaN</td>\n",
       "      <td>NaN</td>\n",
       "      <td>NaN</td>\n",
       "      <td>NaN</td>\n",
       "      <td>F</td>\n",
       "    </tr>\n",
       "  </tbody>\n",
       "</table>\n",
       "<p>1 rows × 92 columns</p>\n",
       "</div>"
      ],
      "text/plain": [
       "                  Name               School  Power 50 Y Free Time  \\\n",
       "ID                                                                  \n",
       "1309404  Brianna Brunk  Millikin University  78.84          29.25   \n",
       "\n",
       "        50 S Free Time 50 L Free Time 100 Y Free Time 100 S Free Time  \\\n",
       "ID                                                                      \n",
       "1309404           <NA>           <NA>         1:02.23            <NA>   \n",
       "\n",
       "        100 L Free Time 200 Y Free Time  ... 200 L Fly Points 100 Y IM Points  \\\n",
       "ID                                       ...                                    \n",
       "1309404            <NA>         2:07.22  ...              NaN           100.0   \n",
       "\n",
       "        100 S IM Points 200 Y IM Points 200 S IM Points 200 L IM Points  \\\n",
       "ID                                                                        \n",
       "1309404             NaN           100.0             NaN             NaN   \n",
       "\n",
       "        400 Y IM Points 400 S IM Points 400 L IM Points Gender  \n",
       "ID                                                              \n",
       "1309404             NaN             NaN             NaN      F  \n",
       "\n",
       "[1 rows x 92 columns]"
      ]
     },
     "execution_count": 36,
     "metadata": {},
     "output_type": "execute_result"
    }
   ],
   "source": [
    "name_to_gender_mapping = col_filtered.set_index('Name')['School'].apply(lambda x: 'M' if 'M' in x else 'F').to_dict()\n",
    "\n",
    "# Add the 'Gender' column to hs based on the 'Name' and the mapping\n",
    "hs['Gender'] = hs['Name'].map(name_to_gender_mapping)\n",
    "\n",
    "hs[hs.Name=='Brianna Brunk']"
   ]
  },
  {
   "cell_type": "code",
   "execution_count": 38,
   "id": "79be8d4b-2982-49e7-9107-c9218ad2048c",
   "metadata": {},
   "outputs": [],
   "source": [
    "hs.to_parquet('HS_1_20.parquet',index=True)\n",
    "col_filtered.to_parquet('Col_1_20.parquet',index=True)"
   ]
  },
  {
   "cell_type": "code",
   "execution_count": null,
   "id": "9d4328c0-05a4-491b-a8a4-dfff24ff5a96",
   "metadata": {},
   "outputs": [],
   "source": []
  }
 ],
 "metadata": {
  "kernelspec": {
   "display_name": "Python 3 (ipykernel)",
   "language": "python",
   "name": "python3"
  },
  "language_info": {
   "codemirror_mode": {
    "name": "ipython",
    "version": 3
   },
   "file_extension": ".py",
   "mimetype": "text/x-python",
   "name": "python",
   "nbconvert_exporter": "python",
   "pygments_lexer": "ipython3",
   "version": "3.11.10"
  }
 },
 "nbformat": 4,
 "nbformat_minor": 5
}
