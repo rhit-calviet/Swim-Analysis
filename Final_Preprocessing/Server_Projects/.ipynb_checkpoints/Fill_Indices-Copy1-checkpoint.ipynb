{
 "cells": [
  {
   "cell_type": "code",
   "execution_count": null,
   "id": "067069e9-cb24-4920-aaa7-e80dc7824412",
   "metadata": {},
   "outputs": [],
   "source": [
    "import pandas as pd\n",
    "from IPython.display import clear_output"
   ]
  },
  {
   "cell_type": "code",
   "execution_count": null,
   "id": "5d12b5a1-b3fe-4b9e-81ec-d1eacbbf27b3",
   "metadata": {},
   "outputs": [],
   "source": [
    "import time\n",
    "import random"
   ]
  },
  {
   "cell_type": "code",
   "execution_count": null,
   "id": "7eea3d96-f8f8-428c-8fc8-41ad999d6e98",
   "metadata": {},
   "outputs": [],
   "source": [
    "df = pd.read_parquet('./4YR_cleaned_USAS.parquet')\n",
    "df.head(2)"
   ]
  },
  {
   "cell_type": "code",
   "execution_count": null,
   "id": "09a4707a-afb5-443c-b814-f1bd91aac105",
   "metadata": {},
   "outputs": [],
   "source": [
    "df = df.drop('Power',axis=1)\n",
    "df.head(2)"
   ]
  },
  {
   "cell_type": "code",
   "execution_count": null,
   "id": "3f1dc959-b2d3-4acf-89c9-7f01304a6d4f",
   "metadata": {},
   "outputs": [],
   "source": [
    "name_info = df[['Name', 'School']].drop_duplicates()\n",
    "name_info.shape\n",
    "# Add 'Power' column with all values set to -1\n",
    "name_info['Power'] = -1.0\n",
    "# Add 'Link' column with all values set to an empty string\n",
    "name_info['Link'] = ''\n",
    "name_info['Hometown'] = ''\n",
    "# Check the result\n",
    "name_info.head()"
   ]
  },
  {
   "cell_type": "code",
   "execution_count": null,
   "id": "ae51dace-b3a9-4342-8133-754597f87ab4",
   "metadata": {},
   "outputs": [],
   "source": [
    "import requests\n",
    "import csv\n",
    "from bs4 import BeautifulSoup as bs\n",
    "import pandas as pd\n",
    "import time as _time\n",
    "from selenium import webdriver\n",
    "from selenium.webdriver.common.by import By\n",
    "from selenium.webdriver.support.ui import WebDriverWait\n",
    "from selenium.webdriver.support import expected_conditions as EC\n",
    "from selenium.webdriver.support.ui import Select\n",
    "from selenium.webdriver.chrome.options import Options\n",
    "from selenium.common.exceptions import TimeoutException\n",
    "from selenium.common.exceptions import NoSuchElementException\n",
    "from selenium.common.exceptions import StaleElementReferenceException\n",
    "from selenium.webdriver.common.action_chains import ActionChains\n",
    "import re\n",
    "\n",
    "def getpi(swimmer_name):\n",
    "    swimmer_name_url = 'https://swimcloud.com/recruiting/rankings/?name='+swimmer_name.replace(' ','+')\n",
    "    name_url = requests.get(swimmer_name_url, headers = {'User-Agent': 'Mozilla/5.0 (Windows NT 10.0; Win64; x64) AppleWebKit/537.36 (KHTML, like Gecko) Chrome/81.0.4044.138 Safari/537.36', 'Referer' : 'https://google.com/'})\n",
    "    name_url.encoding = 'utf-8'\n",
    "    name_soup = bs(name_url.text, 'html.parser')\n",
    "    # print(name_soup)\n",
    "    # print(name_soup)\n",
    "    # print(name_url.text)\n",
    "    names=[]\n",
    "    links=[]\n",
    "    idxs=[]\n",
    "    teams=[]\n",
    "    hometowns=[]\n",
    "    if (name_soup.find('tbody') == None):\n",
    "        # print('No tbody')\n",
    "        return None\n",
    "    swimmer_list = name_soup.find('tbody').find_all('tr')\n",
    "    i=0\n",
    "    for swimmer in swimmer_list:\n",
    "        if len(name_soup.find_all('td', {'class' : 'u-text-end'})) == 0:\n",
    "            # print('No idx found')\n",
    "            break\n",
    "        name = swimmer.find(class_='u-text-semi')\n",
    "        name_str = str(name)\n",
    "        start = name_str.find('>') + 1\n",
    "        end = name_str.find('</a>')\n",
    "        # Extract the text between '>' and '<'\n",
    "        name_raw = name_str[start:end]\n",
    "        if (name_raw.lower() == swimmer_name.lower()):\n",
    "            names.append(name_raw)\n",
    "            swimmer_link = name['href'] if name else ''\n",
    "            links.append(swimmer_link)\n",
    "            # if (swimmer_name == 'Reese Samuel'):\n",
    "            #     print(i)\n",
    "            #     print(name_soup.find_all('td', {'class' : 'u-text-end'})[i])\n",
    "            # idxs.append(float(name_soup.find_all('td', {'class' : 'u-text-end'})[i].text.strip()))\n",
    "            team_td = swimmer.find_all('td', class_='u-text-center hidden-xs')[0]\n",
    "            # Find the <img> tag within the <td>\n",
    "            img_tag = team_td.find('img')\n",
    "            if img_tag == None:\n",
    "                teams.append('')\n",
    "            else:\n",
    "                # Extract the 'alt' attribute value, which contains the team name\n",
    "                team_name = img_tag['alt'][:-5]\n",
    "                teams.append(team_name)\n",
    "    \n",
    "    \n",
    "            # swimmer_name_url = 'https://swimcloud.com'+swimmer_link\n",
    "            # name_url = requests.get(swimmer_name_url, headers = {'User-Agent': 'Mozilla/5.0 (Windows NT 10.0; Win64; x64) AppleWebKit/537.36 (KHTML, like Gecko) Chrome/81.0.4044.138 Safari/537.36', 'Referer' : 'https://google.com/'})\n",
    "            # name_url.encoding = 'utf-8'\n",
    "            # name_soup2 = bs(name_url.text, 'html.parser')\n",
    "            # if (name_soup2.find('ul', class_='o-list-inline o-list-inline--dotted') == None):\n",
    "            #     return None\n",
    "            # ul = name_soup2.find('ul', class_='o-list-inline o-list-inline--dotted')\n",
    "            # location_li = ul.find_all('li')[0]\n",
    "            \n",
    "            # # Extract and print the location text\n",
    "            # location = location_li.text.strip()\n",
    "            # hometowns.append(location)\n",
    "        i = i + 1\n",
    "    # print(names)\n",
    "    # print(links)\n",
    "    # print(hometowns)\n",
    "    return [names,links,idxs,teams,hometowns]\n"
   ]
  },
  {
   "cell_type": "code",
   "execution_count": null,
   "id": "c9da0ec9-ce07-4d19-a277-c2f9d603e684",
   "metadata": {},
   "outputs": [],
   "source": [
    "all_names = df.Name.unique()\n",
    "j = 0\n",
    "modified = 0\n",
    "\n",
    "for j in range(len(all_names)):\n",
    "    name = all_names[j]\n",
    "    # print('about to parse ' + name)\n",
    "    if (j > -1):\n",
    "        lists = getpi(name)\n",
    "        if (lists == None):\n",
    "            print('No tbody')\n",
    "            time.sleep(15)\n",
    "            j = j - 1\n",
    "        else:\n",
    "            if len(lists[0]) == 1:\n",
    "                # name_info.loc[(name_info.Name == name), 'Power'] = lists[2][0]\n",
    "                name_info.loc[(name_info.Name == name), 'Link'] = lists[1][0]\n",
    "                # name_info.loc[(name_info.Name == name), 'Hometown'] = lists[4][0]\n",
    "                # print(\" Power \" + str(lists[2][0]))\n",
    "                print('Single')\n",
    "                modified += 1\n",
    "            elif len(lists[0]) > 1:\n",
    "                print(name)\n",
    "                x_old = name_info[name_info.Name == name]['School'].value_counts()\n",
    "                x_old = x_old[x_old > 0]\n",
    "                \n",
    "                for school in x_old.index:\n",
    "                    k = 0\n",
    "                    match = False\n",
    "                    for school2 in lists[3]:\n",
    "                        if (school in school2 or school2 in school and school2 != ''):\n",
    "                            # name_info.loc[(name_info.Name == name) & (name_info.School == school), 'Power'] = lists[2][k]\n",
    "                            name_info.loc[(name_info.Name == name) & (name_info.School == school), 'Link'] = lists[1][k]\n",
    "                            # name_info.loc[(name_info.Name == name) & (name_info.School == school), 'Hometown'] = lists[4][k]\n",
    "                            modified += 1\n",
    "                            match = True\n",
    "                            # print('Name ' + str(name) + \" School \" + str(school) + \" Power \" + str(lists[2][k]))\n",
    "                            print('Match')\n",
    "                    if not match:\n",
    "                        print('No Match')\n",
    "                        name_info.loc[(name_info.Name == name) & (name_info.School == school), 'Link'] = 'NoMatch'\n",
    "\n",
    "                        k += 1\n",
    "            else:\n",
    "                print('Empty')\n",
    "                # df.loc[(df.Name == name), 'Power'] = -1\n",
    "\n",
    "    j = j + 1\n",
    "    # time.sleep(random.uniform(0, 1))\n",
    "    if (j % 50 == 0):\n",
    "        clear_output() \n",
    "    if (j % 10 == 0):\n",
    "        print(j)\n",
    "        print(modified)"
   ]
  },
  {
   "cell_type": "code",
   "execution_count": null,
   "id": "ab931a3c-6ffe-4448-a146-f68bb34e0974",
   "metadata": {},
   "outputs": [],
   "source": [
    "all_names[160:181]"
   ]
  },
  {
   "cell_type": "code",
   "execution_count": null,
   "id": "cd5c8704-3f1a-4fd4-b4cf-77f9f1924517",
   "metadata": {},
   "outputs": [],
   "source": [
    "for name in all_names[160:181]:\n",
    "    print(name)\n",
    "    getpi(name)"
   ]
  },
  {
   "cell_type": "code",
   "execution_count": null,
   "id": "2c46a8ed-fc87-4aaa-bade-d6d27f227cfa",
   "metadata": {},
   "outputs": [],
   "source": [
    "my_dict['Ethan Moon']"
   ]
  },
  {
   "cell_type": "code",
   "execution_count": null,
   "id": "4bb8a191-beac-45b3-b1ad-919f177716be",
   "metadata": {},
   "outputs": [],
   "source": [
    "df.Power = df.Name.map(my_dict)"
   ]
  },
  {
   "cell_type": "code",
   "execution_count": null,
   "id": "55c1fa69-4e50-470d-b11a-e4c8bc7d8683",
   "metadata": {},
   "outputs": [],
   "source": [
    "df.Power.value_counts()"
   ]
  },
  {
   "cell_type": "code",
   "execution_count": null,
   "id": "b4e65f16-88a4-42a3-b338-669ccc6cd91a",
   "metadata": {},
   "outputs": [],
   "source": []
  }
 ],
 "metadata": {
  "kernelspec": {
   "display_name": "Python 3 (ipykernel)",
   "language": "python",
   "name": "python3"
  },
  "language_info": {
   "codemirror_mode": {
    "name": "ipython",
    "version": 3
   },
   "file_extension": ".py",
   "mimetype": "text/x-python",
   "name": "python",
   "nbconvert_exporter": "python",
   "pygments_lexer": "ipython3",
   "version": "3.11.10"
  }
 },
 "nbformat": 4,
 "nbformat_minor": 5
}
