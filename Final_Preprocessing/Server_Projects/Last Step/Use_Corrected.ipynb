{
 "cells": [
  {
   "cell_type": "code",
   "execution_count": 16,
   "id": "89c34351-68d4-4e4c-8ea1-36be2971d2f1",
   "metadata": {},
   "outputs": [],
   "source": [
    "import pandas as pd\n",
    "\n",
    "df = pd.read_csv('corrected_matches.csv')\n",
    "df1 = pd.read_csv('1_21_25_Manual_Dups.csv')"
   ]
  },
  {
   "cell_type": "code",
   "execution_count": 17,
   "id": "836be6b3-b241-4134-be53-99389c6ca33a",
   "metadata": {},
   "outputs": [
    {
     "data": {
      "text/plain": [
       "(659, 3)"
      ]
     },
     "execution_count": 17,
     "metadata": {},
     "output_type": "execute_result"
    }
   ],
   "source": [
    "df.shape"
   ]
  },
  {
   "cell_type": "code",
   "execution_count": 23,
   "id": "075a9674-038f-4a12-bd3f-e55afeecaf1f",
   "metadata": {},
   "outputs": [
    {
     "data": {
      "text/plain": [
       "(189, 3)"
      ]
     },
     "execution_count": 23,
     "metadata": {},
     "output_type": "execute_result"
    }
   ],
   "source": [
    "df1 = df1.drop_duplicates()\n",
    "df1.shape"
   ]
  },
  {
   "cell_type": "code",
   "execution_count": 19,
   "id": "25c6e86b-0c33-4bb3-bb86-5151c64290b5",
   "metadata": {},
   "outputs": [],
   "source": [
    "m = df.merge(df1,on=['Name','School'],how='inner')"
   ]
  },
  {
   "cell_type": "code",
   "execution_count": 20,
   "id": "85237822-8757-4dd7-81cc-93e4ebf3b824",
   "metadata": {},
   "outputs": [
    {
     "data": {
      "text/plain": [
       "(179, 4)"
      ]
     },
     "execution_count": 20,
     "metadata": {},
     "output_type": "execute_result"
    }
   ],
   "source": [
    "m.shape"
   ]
  },
  {
   "cell_type": "code",
   "execution_count": 21,
   "id": "f331a39c-c6de-4f54-bebb-41cc4cf7d5a4",
   "metadata": {},
   "outputs": [
    {
     "data": {
      "text/html": [
       "<div>\n",
       "<style scoped>\n",
       "    .dataframe tbody tr th:only-of-type {\n",
       "        vertical-align: middle;\n",
       "    }\n",
       "\n",
       "    .dataframe tbody tr th {\n",
       "        vertical-align: top;\n",
       "    }\n",
       "\n",
       "    .dataframe thead th {\n",
       "        text-align: right;\n",
       "    }\n",
       "</style>\n",
       "<table border=\"1\" class=\"dataframe\">\n",
       "  <thead>\n",
       "    <tr style=\"text-align: right;\">\n",
       "      <th></th>\n",
       "      <th>ID</th>\n",
       "      <th>Name</th>\n",
       "      <th>School</th>\n",
       "    </tr>\n",
       "  </thead>\n",
       "  <tbody>\n",
       "    <tr>\n",
       "      <th>0</th>\n",
       "      <td>1653662</td>\n",
       "      <td>Kyle Johnson</td>\n",
       "      <td>Mary Washington</td>\n",
       "    </tr>\n",
       "    <tr>\n",
       "      <th>1</th>\n",
       "      <td>403694</td>\n",
       "      <td>Lauren Gray</td>\n",
       "      <td>Incarnate Word</td>\n",
       "    </tr>\n",
       "    <tr>\n",
       "      <th>2</th>\n",
       "      <td>289498</td>\n",
       "      <td>Ali Harrison</td>\n",
       "      <td>University of California-Berkeley</td>\n",
       "    </tr>\n",
       "    <tr>\n",
       "      <th>3</th>\n",
       "      <td>289498</td>\n",
       "      <td>Ali Harrison</td>\n",
       "      <td>Duke University</td>\n",
       "    </tr>\n",
       "    <tr>\n",
       "      <th>4</th>\n",
       "      <td>388400</td>\n",
       "      <td>Megan Morris</td>\n",
       "      <td>Texas Christian University</td>\n",
       "    </tr>\n",
       "    <tr>\n",
       "      <th>5</th>\n",
       "      <td>522063</td>\n",
       "      <td>Alex Watson</td>\n",
       "      <td>Maine</td>\n",
       "    </tr>\n",
       "    <tr>\n",
       "      <th>6</th>\n",
       "      <td>1152013</td>\n",
       "      <td>Alex Watson</td>\n",
       "      <td>Johns Hopkins</td>\n",
       "    </tr>\n",
       "    <tr>\n",
       "      <th>7</th>\n",
       "      <td>491898</td>\n",
       "      <td>Andrew Martin</td>\n",
       "      <td>Xavier University</td>\n",
       "    </tr>\n",
       "    <tr>\n",
       "      <th>8</th>\n",
       "      <td>404009</td>\n",
       "      <td>Sam Russell</td>\n",
       "      <td>Rochester Institute of Technology</td>\n",
       "    </tr>\n",
       "    <tr>\n",
       "      <th>9</th>\n",
       "      <td>480528</td>\n",
       "      <td>Sam Russell</td>\n",
       "      <td>Bellarmine</td>\n",
       "    </tr>\n",
       "  </tbody>\n",
       "</table>\n",
       "</div>"
      ],
      "text/plain": [
       "        ID           Name                             School\n",
       "0  1653662   Kyle Johnson                    Mary Washington\n",
       "1   403694    Lauren Gray                     Incarnate Word\n",
       "2   289498   Ali Harrison  University of California-Berkeley\n",
       "3   289498   Ali Harrison                    Duke University\n",
       "4   388400   Megan Morris         Texas Christian University\n",
       "5   522063    Alex Watson                              Maine\n",
       "6  1152013    Alex Watson                      Johns Hopkins\n",
       "7   491898  Andrew Martin                  Xavier University\n",
       "8   404009    Sam Russell  Rochester Institute of Technology\n",
       "9   480528    Sam Russell                         Bellarmine"
      ]
     },
     "execution_count": 21,
     "metadata": {},
     "output_type": "execute_result"
    }
   ],
   "source": [
    "m.head()\n",
    "# Keep ID_x\n",
    "m = m.drop('ID_y',axis=1)\n",
    "m = m.rename(columns={'ID_x': 'ID'})\n",
    "m.head(10)"
   ]
  },
  {
   "cell_type": "code",
   "execution_count": 22,
   "id": "3786690d-2482-49d2-8e9b-860c31b6740d",
   "metadata": {},
   "outputs": [
    {
     "data": {
      "text/plain": [
       "(179, 3)"
      ]
     },
     "execution_count": 22,
     "metadata": {},
     "output_type": "execute_result"
    }
   ],
   "source": [
    "m.shape"
   ]
  },
  {
   "cell_type": "code",
   "execution_count": 14,
   "id": "0b827237-8c51-4579-b1ea-e89743fc2619",
   "metadata": {},
   "outputs": [
    {
     "name": "stdout",
     "output_type": "stream",
     "text": [
      "          ID           Name                           School     _merge\n",
      "8     241007   Caroline Lee  Georgia Institute of Technology  left_only\n",
      "9     262846      Alex King           University of Michigan  left_only\n",
      "10    268549   Joshua Brown             Salisbury University  left_only\n",
      "11    271699   Landon Clark                Xavier University  left_only\n",
      "12    271724  Jake Williams         West Virginia University  left_only\n",
      "..       ...            ...                              ...        ...\n",
      "357  2304891   Matthew Cole                 Hartwick College  left_only\n",
      "360  2663727  Mia Destefani              Keene State College  left_only\n",
      "361  2663727  Mia Destefani                    Southern Conn  left_only\n",
      "362  2709114    Emily Jones            University of Alabama  left_only\n",
      "363  2906510  Summer Martin     Bridgewater State University  left_only\n",
      "\n",
      "[179 rows x 4 columns]\n"
     ]
    }
   ],
   "source": [
    "# Perform a merge with the indicator parameter\n",
    "merged_df = m.merge(df1, on=['ID', 'Name', 'School'], how='outer', indicator=True)\n",
    "\n",
    "# Filter rows that are only in df (left_only)\n",
    "rows_not_in_inner_merge = merged_df[merged_df['_merge'] == 'left_only']\n",
    "\n",
    "# Display the result\n",
    "print(rows_not_in_inner_merge)"
   ]
  },
  {
   "cell_type": "code",
   "execution_count": 24,
   "id": "5bb967d1-e68d-43d5-b06e-08c7238de6be",
   "metadata": {},
   "outputs": [],
   "source": [
    "m1 = m.drop('ID',axis=1)\n",
    "m2 = df1.drop('ID',axis=1)"
   ]
  },
  {
   "cell_type": "code",
   "execution_count": 25,
   "id": "0624b268-e21e-4972-9a10-ce571e33d47d",
   "metadata": {},
   "outputs": [],
   "source": [
    "m1['Name_School'] = m1['Name'] + ' - ' + m1['School']"
   ]
  },
  {
   "cell_type": "code",
   "execution_count": 26,
   "id": "727f37e9-0f11-477e-a8c3-17671e0ce890",
   "metadata": {},
   "outputs": [],
   "source": [
    "m2['Name_School'] = m2['Name'] + ' - ' + m2['School']"
   ]
  },
  {
   "cell_type": "code",
   "execution_count": 31,
   "id": "49f4bf5d-d4ae-48ca-8152-b91c235b95e9",
   "metadata": {},
   "outputs": [],
   "source": [
    "array1 = m1.Name_School.values\n",
    "array2 = m2.Name_School.values"
   ]
  },
  {
   "cell_type": "code",
   "execution_count": 33,
   "id": "a714a870-353e-43de-8a7e-ad9e13b956c4",
   "metadata": {},
   "outputs": [],
   "source": [
    "import numpy as np\n",
    "difference = np.setdiff1d(array1, array2)\n"
   ]
  },
  {
   "cell_type": "code",
   "execution_count": 35,
   "id": "6bd41abd-5a6b-48d3-960a-bed40e293d1c",
   "metadata": {},
   "outputs": [
    {
     "name": "stdout",
     "output_type": "stream",
     "text": [
      "Jacob Berkheimer - Missouri State Aquatics\n",
      "Corbett Wilson - Missouri State Aquatics\n",
      "Jason Allen - Missouri State Aquatics\n",
      "Nathan Moore - University of Texas\n",
      "Haley Angelo - Missouri State Aquatics\n",
      "Rebecca Schmidt - Augustana College\n",
      "Caleb Whittington - Missouri State Aquatics\n",
      "Quinn McCurry - Missouri State Aquatics\n",
      "Kevin Chen - Missouri State Aquatics\n",
      "Jason Lee - Connecticut College\n",
      "Andrew Johnson - Missouri State Aquatics\n"
     ]
    }
   ],
   "source": [
    "for combo in array2:\n",
    "    if (combo not in array1):\n",
    "        print(combo)"
   ]
  },
  {
   "cell_type": "code",
   "execution_count": 36,
   "id": "39f3f37d-4594-49ee-8591-35b09d777c62",
   "metadata": {},
   "outputs": [],
   "source": [
    "m4 = pd.read_csv('extra_10.csv')\n",
    "m = pd.concat([m,m4])"
   ]
  },
  {
   "cell_type": "code",
   "execution_count": 39,
   "id": "58d3bcff-496f-4bf1-a44e-a46ce6a96648",
   "metadata": {},
   "outputs": [
    {
     "data": {
      "text/plain": [
       "(189, 3)"
      ]
     },
     "execution_count": 39,
     "metadata": {},
     "output_type": "execute_result"
    }
   ],
   "source": [
    "m.shape"
   ]
  },
  {
   "cell_type": "code",
   "execution_count": 38,
   "id": "4382a0ce-7472-474c-83e6-8e34bc171867",
   "metadata": {},
   "outputs": [],
   "source": [
    "m = m.drop_duplicates()"
   ]
  },
  {
   "cell_type": "code",
   "execution_count": 40,
   "id": "da808d49-05b9-49af-bee2-6e26bc13a22e",
   "metadata": {},
   "outputs": [],
   "source": [
    "m.to_csv('1_21_25_correcteddups.csv',index=False)"
   ]
  },
  {
   "cell_type": "code",
   "execution_count": null,
   "id": "472b9e53-4373-4a60-940f-20be439e43ed",
   "metadata": {},
   "outputs": [],
   "source": []
  }
 ],
 "metadata": {
  "kernelspec": {
   "display_name": "Python 3 (ipykernel)",
   "language": "python",
   "name": "python3"
  },
  "language_info": {
   "codemirror_mode": {
    "name": "ipython",
    "version": 3
   },
   "file_extension": ".py",
   "mimetype": "text/x-python",
   "name": "python",
   "nbconvert_exporter": "python",
   "pygments_lexer": "ipython3",
   "version": "3.11.10"
  }
 },
 "nbformat": 4,
 "nbformat_minor": 5
}
