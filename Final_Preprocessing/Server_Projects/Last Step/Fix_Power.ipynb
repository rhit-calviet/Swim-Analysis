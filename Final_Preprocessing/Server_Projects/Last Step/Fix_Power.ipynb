{
 "cells": [
  {
   "cell_type": "code",
   "execution_count": 1,
   "id": "68b0d709-994d-450a-93ab-d0cc5fd299c3",
   "metadata": {},
   "outputs": [],
   "source": [
    "import pandas as pd\n",
    "\n",
    "df = pd.read_parquet('1_21_25_2ndUpdatedSchoolNames.parquet')"
   ]
  },
  {
   "cell_type": "code",
   "execution_count": 2,
   "id": "03fac011-39ab-45f8-975f-d36cfb56dff2",
   "metadata": {},
   "outputs": [
    {
     "data": {
      "text/plain": [
       "(358104, 20)"
      ]
     },
     "execution_count": 2,
     "metadata": {},
     "output_type": "execute_result"
    }
   ],
   "source": [
    "df.shape"
   ]
  },
  {
   "cell_type": "code",
   "execution_count": 3,
   "id": "5c7e3e4a-40fe-44cb-bd44-c4a72699d729",
   "metadata": {},
   "outputs": [],
   "source": [
    "df.loc[df['Name'] == 'Filip Duric', ['ID', 'Power_Tot']] = [839394, 23.63]\n",
    "df = df[~((df['Name'] == 'Rachel Flaherty') & (df['School'] == 'Sacred Heart University'))]\n",
    "df = df[~((df['Name'] == 'Jason Allen') & (df['School'] == 'Missouri State University'))]\n",
    "df = df[~((df['Name'] == 'Andrew Johnson') & (df['School'] == 'Missouri State University'))]"
   ]
  },
  {
   "cell_type": "code",
   "execution_count": 4,
   "id": "de5766dd-c21c-4324-89ce-7fb0f5beb5c3",
   "metadata": {},
   "outputs": [],
   "source": [
    "\n",
    "df2 = pd.read_csv('1_21_25_correcteddups.csv')\n",
    "\n",
    "# Step 2: For each row in df2, check for matches in df\n",
    "for index2, row2 in df2.iterrows():\n",
    "    # Step 3: For each row in df, match the 'Name' and 'School' columns\n",
    "    mask = (df['Name'] == row2['Name']) & (df['School'] == row2['School'])\n",
    "    \n",
    "    # Step 4: Update the 'ID' in df if a match is found\n",
    "    df.loc[mask, 'ID'] = row2['ID']"
   ]
  },
  {
   "cell_type": "code",
   "execution_count": 5,
   "id": "a1b304ef-8424-4a30-8f0e-63cbf578f628",
   "metadata": {},
   "outputs": [],
   "source": [
    "import requests\n",
    "from bs4 import BeautifulSoup as bs\n",
    "import pandas as pd\n",
    "import time\n",
    "from IPython.display import clear_output\n",
    "def getPowerIndex(swimmer_ID):\n",
    "\tswimmer_url = 'https://swimcloud.com/swimmer/' + str(swimmer_ID)\n",
    "\n",
    "\turl = requests.get(swimmer_url, headers = {'User-Agent': 'Mozilla/5.0 (Windows NT 10.0; Win64; x64) AppleWebKit/537.36 (KHTML, like Gecko) Chrome/81.0.4044.138 Safari/537.36', 'Referer' : 'https://google.com/'})\n",
    "\turl.encoding = 'utf-8'\n",
    "\t\n",
    "\tif url.status_code == 404:\n",
    "\t\traise ValueError(f\"The swimmer {swimmer_ID} was not found\")\n",
    "\n",
    "\tsoup = bs(url.text, 'html.parser')\n",
    "\t\n",
    "\n",
    "\tdata_array = soup.find_all('li', {'class' : 'c-list-bar__item'}) # returns the container items containing headers for recruiting stats\n",
    "\tfor d in data_array:\n",
    "\t\tif d.find(class_='c-list-bar__subheader').get('title') == 'Power index':\n",
    "\t\t\t\treturn float(d.find(class_='c-list-bar__description').text.strip())\n",
    "\tif soup.find('h1', {'class' : 'c-toolbar__title'}).text.strip() == None:\n",
    "\t\tprint(\"ERROR PROCESSING\")\n",
    "\t\ttime.sleep(30)\n",
    "\t\treturn -1.0\n",
    "\n",
    "\tswimmer_name = soup.find('h1', {'class' : 'c-toolbar__title'}).text.strip()\n",
    "\n",
    "\tswimmer_name_url = 'https://swimcloud.com/recruiting/rankings/?name=' + swimmer_name.replace(' ', '+')\n",
    "\n",
    "\tname_url = requests.get(swimmer_name_url, headers = {'User-Agent': 'Mozilla/5.0 (Windows NT 10.0; Win64; x64) AppleWebKit/537.36 (KHTML, like Gecko) Chrome/81.0.4044.138 Safari/537.36', 'Referer' : 'https://google.com/'})\n",
    "\n",
    "\tname_url.encoding = 'utf-8'\n",
    "\n",
    "\tname_soup = bs(name_url.text, 'html.parser')\n",
    "\tif name_soup.find('tbody').find_all('tr') == None:\n",
    "\t\ttime.sleep(30)\n",
    "\t\treturn -1.0\n",
    "\n",
    "\tswimmer_list = name_soup.find('tbody').find_all('tr')\n",
    "\ti=0\n",
    "\t\n",
    "\tfor swimmer in swimmer_list:\n",
    "\t\t#check if this is the correct swimmer by looking to see if the link matches their id\n",
    "\t\tname = swimmer.find(class_='u-text-semi')\n",
    "\t\tswimmer_link = name['href'] if name else ''\n",
    "\t\tif(swimmer_link == \"/swimmer/\" + str(swimmer_ID)):\n",
    "\t\t\t#a power index was found for the specified swimmer_ID!\n",
    "\t\t\tidx = float(name_soup.find_all('td', {'class' : 'u-text-end'})[i].text.strip())\n",
    "\t\t\tprint( idx )\n",
    "\t\t\treturn idx\n",
    "\t\ti = i + 1\n",
    "\n",
    "\treturn -1 #if no swimmer is found with the correct swimmer ID #, return -1"
   ]
  },
  {
   "cell_type": "code",
   "execution_count": 6,
   "id": "e6444a20-520f-4995-b3c3-a96534ae42ce",
   "metadata": {},
   "outputs": [],
   "source": [
    "arr1 = df2.ID.values"
   ]
  },
  {
   "cell_type": "code",
   "execution_count": 7,
   "id": "d6e5bdd0-19a6-49f8-a041-ecc6c5f52d6a",
   "metadata": {},
   "outputs": [],
   "source": [
    "df = df[~df['ID'].isin(df2['ID'])]"
   ]
  },
  {
   "cell_type": "code",
   "execution_count": 8,
   "id": "3223022b-acd8-4a77-af02-137defb5eb38",
   "metadata": {},
   "outputs": [
    {
     "data": {
      "text/plain": [
       "(354960, 20)"
      ]
     },
     "execution_count": 8,
     "metadata": {},
     "output_type": "execute_result"
    }
   ],
   "source": [
    "df.shape"
   ]
  },
  {
   "cell_type": "code",
   "execution_count": 9,
   "id": "bcdc3916-813b-4ba9-9dac-b958b51cd828",
   "metadata": {},
   "outputs": [
    {
     "data": {
      "text/plain": [
       "-1"
      ]
     },
     "execution_count": 9,
     "metadata": {},
     "output_type": "execute_result"
    }
   ],
   "source": [
    "getPowerIndex(1826414)"
   ]
  },
  {
   "cell_type": "code",
   "execution_count": 10,
   "id": "5b7ce3fd-e358-4b24-9203-1674007de7c4",
   "metadata": {},
   "outputs": [
    {
     "ename": "NameError",
     "evalue": "name 'arr2' is not defined",
     "output_type": "error",
     "traceback": [
      "\u001b[0;31m---------------------------------------------------------------------------\u001b[0m",
      "\u001b[0;31mNameError\u001b[0m                                 Traceback (most recent call last)",
      "Cell \u001b[0;32mIn[10], line 4\u001b[0m\n\u001b[1;32m      2\u001b[0m index \u001b[38;5;241m=\u001b[39m np\u001b[38;5;241m.\u001b[39mwhere(arr1 \u001b[38;5;241m==\u001b[39m \u001b[38;5;241m1826414\u001b[39m)[\u001b[38;5;241m0\u001b[39m]\n\u001b[1;32m      3\u001b[0m index\n\u001b[0;32m----> 4\u001b[0m \u001b[43marr2\u001b[49m[\u001b[38;5;241m101\u001b[39m]\n",
      "\u001b[0;31mNameError\u001b[0m: name 'arr2' is not defined"
     ]
    }
   ],
   "source": [
    "import numpy as np\n",
    "index = np.where(arr1 == 1826414)[0]\n",
    "index\n",
    "arr2[101]"
   ]
  },
  {
   "cell_type": "code",
   "execution_count": null,
   "id": "9e612be3-e9db-4fed-8d18-ac0985ae95c4",
   "metadata": {},
   "outputs": [],
   "source": [
    "df[df.Name=='Nicholas Edwards']"
   ]
  },
  {
   "cell_type": "code",
   "execution_count": 11,
   "id": "850595e1-d7e4-47b2-9139-65c4225434de",
   "metadata": {},
   "outputs": [],
   "source": [
    "df.to_parquet('CLEANED_SWIM_DATA.parquet')"
   ]
  },
  {
   "cell_type": "code",
   "execution_count": null,
   "id": "87552086-2253-423c-abc6-fd30b137e30d",
   "metadata": {},
   "outputs": [],
   "source": []
  }
 ],
 "metadata": {
  "kernelspec": {
   "display_name": "Python 3 (ipykernel)",
   "language": "python",
   "name": "python3"
  },
  "language_info": {
   "codemirror_mode": {
    "name": "ipython",
    "version": 3
   },
   "file_extension": ".py",
   "mimetype": "text/x-python",
   "name": "python",
   "nbconvert_exporter": "python",
   "pygments_lexer": "ipython3",
   "version": "3.11.10"
  }
 },
 "nbformat": 4,
 "nbformat_minor": 5
}
