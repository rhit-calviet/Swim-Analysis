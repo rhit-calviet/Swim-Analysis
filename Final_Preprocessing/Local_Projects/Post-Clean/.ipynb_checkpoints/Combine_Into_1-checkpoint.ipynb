{
 "cells": [
  {
   "cell_type": "code",
   "execution_count": 1,
   "id": "1ce896a7-71d1-4b26-8c46-4355e64af539",
   "metadata": {},
   "outputs": [],
   "source": [
    "import pandas as pd"
   ]
  },
  {
   "cell_type": "code",
   "execution_count": 2,
   "id": "31a8273e-65da-4083-bd90-1eba982d0205",
   "metadata": {},
   "outputs": [],
   "source": [
    "hs = pd.read_parquet('corrected_HS_1_20.parquet')\n",
    "col = pd.read_parquet('corrected_Col_1_20.parquet')"
   ]
  },
  {
   "cell_type": "code",
   "execution_count": 3,
   "id": "8b0e6641-9ad6-4a93-bf3d-f2722560547a",
   "metadata": {},
   "outputs": [
    {
     "data": {
      "text/html": [
       "<div>\n",
       "<style scoped>\n",
       "    .dataframe tbody tr th:only-of-type {\n",
       "        vertical-align: middle;\n",
       "    }\n",
       "\n",
       "    .dataframe tbody tr th {\n",
       "        vertical-align: top;\n",
       "    }\n",
       "\n",
       "    .dataframe thead th {\n",
       "        text-align: right;\n",
       "    }\n",
       "</style>\n",
       "<table border=\"1\" class=\"dataframe\">\n",
       "  <thead>\n",
       "    <tr style=\"text-align: right;\">\n",
       "      <th></th>\n",
       "      <th>ID</th>\n",
       "      <th>Name</th>\n",
       "      <th>School</th>\n",
       "      <th>Power</th>\n",
       "      <th>50 Y Free Time</th>\n",
       "      <th>50 S Free Time</th>\n",
       "      <th>50 L Free Time</th>\n",
       "      <th>100 Y Free Time</th>\n",
       "      <th>100 S Free Time</th>\n",
       "      <th>100 L Free Time</th>\n",
       "      <th>...</th>\n",
       "      <th>200 L Fly Points</th>\n",
       "      <th>100 Y IM Points</th>\n",
       "      <th>100 S IM Points</th>\n",
       "      <th>200 Y IM Points</th>\n",
       "      <th>200 S IM Points</th>\n",
       "      <th>200 L IM Points</th>\n",
       "      <th>400 Y IM Points</th>\n",
       "      <th>400 S IM Points</th>\n",
       "      <th>400 L IM Points</th>\n",
       "      <th>Gender</th>\n",
       "    </tr>\n",
       "  </thead>\n",
       "  <tbody>\n",
       "    <tr>\n",
       "      <th>0</th>\n",
       "      <td>515075</td>\n",
       "      <td>Tiago ASAKAWA</td>\n",
       "      <td>UMBC</td>\n",
       "      <td>15.96</td>\n",
       "      <td>&lt;NA&gt;</td>\n",
       "      <td>&lt;NA&gt;</td>\n",
       "      <td>23.31</td>\n",
       "      <td>&lt;NA&gt;</td>\n",
       "      <td>50.21</td>\n",
       "      <td>&lt;NA&gt;</td>\n",
       "      <td>...</td>\n",
       "      <td>NaN</td>\n",
       "      <td>NaN</td>\n",
       "      <td>NaN</td>\n",
       "      <td>NaN</td>\n",
       "      <td>NaN</td>\n",
       "      <td>NaN</td>\n",
       "      <td>NaN</td>\n",
       "      <td>NaN</td>\n",
       "      <td>NaN</td>\n",
       "      <td>M</td>\n",
       "    </tr>\n",
       "  </tbody>\n",
       "</table>\n",
       "<p>1 rows × 93 columns</p>\n",
       "</div>"
      ],
      "text/plain": [
       "       ID           Name School  Power 50 Y Free Time 50 S Free Time  \\\n",
       "0  515075  Tiago ASAKAWA   UMBC  15.96           <NA>           <NA>   \n",
       "\n",
       "  50 L Free Time 100 Y Free Time 100 S Free Time 100 L Free Time  ...  \\\n",
       "0          23.31            <NA>           50.21            <NA>  ...   \n",
       "\n",
       "  200 L Fly Points 100 Y IM Points 100 S IM Points 200 Y IM Points  \\\n",
       "0              NaN             NaN             NaN             NaN   \n",
       "\n",
       "  200 S IM Points 200 L IM Points 400 Y IM Points 400 S IM Points  \\\n",
       "0             NaN             NaN             NaN             NaN   \n",
       "\n",
       "  400 L IM Points Gender  \n",
       "0             NaN      M  \n",
       "\n",
       "[1 rows x 93 columns]"
      ]
     },
     "execution_count": 3,
     "metadata": {},
     "output_type": "execute_result"
    }
   ],
   "source": [
    "hs.head(1)"
   ]
  },
  {
   "cell_type": "code",
   "execution_count": 4,
   "id": "7a99f293-9269-46e6-924e-a41bba35abeb",
   "metadata": {},
   "outputs": [
    {
     "data": {
      "text/html": [
       "<div>\n",
       "<style scoped>\n",
       "    .dataframe tbody tr th:only-of-type {\n",
       "        vertical-align: middle;\n",
       "    }\n",
       "\n",
       "    .dataframe tbody tr th {\n",
       "        vertical-align: top;\n",
       "    }\n",
       "\n",
       "    .dataframe thead th {\n",
       "        text-align: right;\n",
       "    }\n",
       "</style>\n",
       "<table border=\"1\" class=\"dataframe\">\n",
       "  <thead>\n",
       "    <tr style=\"text-align: right;\">\n",
       "      <th></th>\n",
       "      <th>Event</th>\n",
       "      <th>Conf_Rank</th>\n",
       "      <th>Time</th>\n",
       "      <th>Name</th>\n",
       "      <th>School</th>\n",
       "      <th>Standard</th>\n",
       "      <th>Date</th>\n",
       "      <th>Gender</th>\n",
       "      <th>Division</th>\n",
       "      <th>Season</th>\n",
       "      <th>SeasonYear</th>\n",
       "      <th>Time_Adj</th>\n",
       "      <th>Time_Sec</th>\n",
       "      <th>Points</th>\n",
       "      <th>Div_Rank</th>\n",
       "      <th>NCAA_Rank</th>\n",
       "      <th>Power</th>\n",
       "      <th>Name_School</th>\n",
       "      <th>ID</th>\n",
       "    </tr>\n",
       "  </thead>\n",
       "  <tbody>\n",
       "    <tr>\n",
       "      <th>0</th>\n",
       "      <td>50 Freestyle SCY Male</td>\n",
       "      <td>2</td>\n",
       "      <td>20.20</td>\n",
       "      <td>Tiago ASAKAWA</td>\n",
       "      <td>UMBC</td>\n",
       "      <td>NS</td>\n",
       "      <td>2020-02-14</td>\n",
       "      <td>M</td>\n",
       "      <td>I</td>\n",
       "      <td>19_20</td>\n",
       "      <td>2020</td>\n",
       "      <td>0 days 00:00:20.200000</td>\n",
       "      <td>20.2</td>\n",
       "      <td>664.81809</td>\n",
       "      <td>252.0</td>\n",
       "      <td>291.0</td>\n",
       "      <td>15.96</td>\n",
       "      <td>Tiago ASAKAWA - UMBC</td>\n",
       "      <td>515075</td>\n",
       "    </tr>\n",
       "  </tbody>\n",
       "</table>\n",
       "</div>"
      ],
      "text/plain": [
       "                   Event  Conf_Rank   Time           Name School Standard  \\\n",
       "0  50 Freestyle SCY Male          2  20.20  Tiago ASAKAWA   UMBC       NS   \n",
       "\n",
       "        Date Gender Division Season  SeasonYear               Time_Adj  \\\n",
       "0 2020-02-14      M        I  19_20        2020 0 days 00:00:20.200000   \n",
       "\n",
       "   Time_Sec     Points  Div_Rank  NCAA_Rank  Power           Name_School  \\\n",
       "0      20.2  664.81809     252.0      291.0  15.96  Tiago ASAKAWA - UMBC   \n",
       "\n",
       "       ID  \n",
       "0  515075  "
      ]
     },
     "execution_count": 4,
     "metadata": {},
     "output_type": "execute_result"
    }
   ],
   "source": [
    "col.head(1)"
   ]
  },
  {
   "cell_type": "code",
   "execution_count": 5,
   "id": "d06de1b0-882a-4364-9026-44337cfb5377",
   "metadata": {},
   "outputs": [
    {
     "data": {
      "text/html": [
       "<div>\n",
       "<style scoped>\n",
       "    .dataframe tbody tr th:only-of-type {\n",
       "        vertical-align: middle;\n",
       "    }\n",
       "\n",
       "    .dataframe tbody tr th {\n",
       "        vertical-align: top;\n",
       "    }\n",
       "\n",
       "    .dataframe thead th {\n",
       "        text-align: right;\n",
       "    }\n",
       "</style>\n",
       "<table border=\"1\" class=\"dataframe\">\n",
       "  <thead>\n",
       "    <tr style=\"text-align: right;\">\n",
       "      <th></th>\n",
       "      <th>Event</th>\n",
       "      <th>Time</th>\n",
       "    </tr>\n",
       "  </thead>\n",
       "  <tbody>\n",
       "    <tr>\n",
       "      <th>34</th>\n",
       "      <td>200 Individual Medley SCY Female</td>\n",
       "      <td>108.37</td>\n",
       "    </tr>\n",
       "    <tr>\n",
       "      <th>35</th>\n",
       "      <td>400 Individual Medley SCY Female</td>\n",
       "      <td>234.60</td>\n",
       "    </tr>\n",
       "  </tbody>\n",
       "</table>\n",
       "</div>"
      ],
      "text/plain": [
       "                               Event    Time\n",
       "34  200 Individual Medley SCY Female  108.37\n",
       "35  400 Individual Medley SCY Female  234.60"
      ]
     },
     "execution_count": 5,
     "metadata": {},
     "output_type": "execute_result"
    }
   ],
   "source": [
    "records = pd.read_csv('combined_events.csv')\n",
    "records.tail(2)"
   ]
  },
  {
   "cell_type": "code",
   "execution_count": 6,
   "id": "15672311-fe3c-4daf-8d23-ee9f53eb7cae",
   "metadata": {},
   "outputs": [
    {
     "name": "stdout",
     "output_type": "stream",
     "text": [
      "                  Event    Time\n",
      "0      50 Free LCM Male   20.91\n",
      "1     100 Free LCM Male   46.40\n",
      "2     200 Free LCM Male  102.00\n",
      "3     400 Free LCM Male  220.07\n",
      "4     800 Free LCM Male  452.12\n",
      "5    1500 Free LCM Male  870.67\n",
      "6      50 Back LCM Male   23.55\n",
      "7     100 Back LCM Male   51.60\n",
      "8     200 Back LCM Male  111.92\n",
      "9    50 Breast LCM Male   25.95\n",
      "10  100 Breast LCM Male   56.88\n",
      "11  200 Breast LCM Male  125.48\n",
      "12      50 Fly LCM Male   22.27\n",
      "13     100 Fly LCM Male   49.45\n",
      "14     200 Fly LCM Male  110.34\n",
      "15      200 IM LCM Male  114.00\n",
      "16      400 IM LCM Male  242.50\n"
     ]
    }
   ],
   "source": [
    "import pandas as pd\n",
    "\n",
    "# Data for the events and times\n",
    "data = {\n",
    "    \"Event\": [\n",
    "        \"50 Free\", \"100 Free\", \"200 Free\", \"400 Free\", \"800 Free\", \"1500 Free\",\n",
    "        \"50 Back\", \"100 Back\", \"200 Back\", \"50 Breast\", \"100 Breast\", \"200 Breast\",\n",
    "        \"50 Fly\", \"100 Fly\", \"200 Fly\", \"200 IM\", \"400 IM\"\n",
    "    ],\n",
    "    \"Time\": [\n",
    "        \"20.91\", \"46.40\", \"1:42.00\", \"3:40.07\", \"7:32.12\", \"14:30.67\",\n",
    "        \"23.55\", \"51.60\", \"1:51.92\", \"25.95\", \"56.88\", \"2:05.48\",\n",
    "        \"22.27\", \"49.45\", \"1:50.34\", \"1:54.00\", \"4:02.50\"\n",
    "    ]\n",
    "}\n",
    "\n",
    "# Function to convert time strings to seconds\n",
    "def time_to_seconds(time_str):\n",
    "    if ':' in time_str:\n",
    "        minutes, seconds = time_str.split(':')\n",
    "        total_seconds = int(minutes) * 60 + float(seconds)\n",
    "    else:\n",
    "        total_seconds = float(time_str)\n",
    "    return total_seconds\n",
    "\n",
    "# Apply the conversion to the Time column\n",
    "data[\"Time\"] = [time_to_seconds(time) for time in data[\"Time\"]]\n",
    "\n",
    "# Convert to a DataFrame\n",
    "df = pd.DataFrame(data)\n",
    "\n",
    "# Add \"LCM Male\" to the Event column\n",
    "df[\"Event\"] = df[\"Event\"] + \" LCM Male\"\n",
    "\n",
    "# Display the DataFrame\n",
    "print(df)\n"
   ]
  },
  {
   "cell_type": "code",
   "execution_count": 7,
   "id": "0a8448a7-48cf-49e8-99d9-998bd8dce5a7",
   "metadata": {},
   "outputs": [
    {
     "name": "stdout",
     "output_type": "stream",
     "text": [
      "                    Event    Time\n",
      "0      50 Free LCM Female   23.61\n",
      "1     100 Free LCM Female   51.71\n",
      "2     200 Free LCM Female  112.23\n",
      "3     400 Free LCM Female  235.38\n",
      "4     800 Free LCM Female  484.79\n",
      "5    1500 Free LCM Female  920.48\n",
      "6      50 Back LCM Female   26.86\n",
      "7     100 Back LCM Female   57.13\n",
      "8     200 Back LCM Female  123.14\n",
      "9    50 Breast LCM Female   29.16\n",
      "10  100 Breast LCM Female   64.13\n",
      "11  200 Breast LCM Female  137.55\n",
      "12      50 Fly LCM Female   24.43\n",
      "13     100 Fly LCM Female   55.18\n",
      "14     200 Fly LCM Female  121.81\n",
      "15      200 IM LCM Female  126.12\n",
      "16      400 IM LCM Female  264.38\n"
     ]
    }
   ],
   "source": [
    "import pandas as pd\n",
    "\n",
    "# Data for women's events and times\n",
    "data_women = {\n",
    "    \"Event\": [\n",
    "        \"50 Free\", \"100 Free\", \"200 Free\", \"400 Free\", \"800 Free\", \"1500 Free\",\n",
    "        \"50 Back\", \"100 Back\", \"200 Back\", \"50 Breast\", \"100 Breast\", \"200 Breast\",\n",
    "        \"50 Fly\", \"100 Fly\", \"200 Fly\", \"200 IM\", \"400 IM\"\n",
    "    ],\n",
    "    \"Time\": [\n",
    "        \"23.61\", \"51.71\", \"1:52.23\", \"3:55.38\", \"8:04.79\", \"15:20.48\",\n",
    "        \"26.86\", \"57.13\", \"2:03.14\", \"29.16\", \"1:04.13\", \"2:17.55\",\n",
    "        \"24.43\", \"55.18\", \"2:01.81\", \"2:06.12\", \"4:24.38\"\n",
    "    ]\n",
    "}\n",
    "\n",
    "# Function to convert time strings to seconds\n",
    "def time_to_seconds(time_str):\n",
    "    if ':' in time_str:\n",
    "        minutes, seconds = time_str.split(':')\n",
    "        total_seconds = int(minutes) * 60 + float(seconds)\n",
    "    else:\n",
    "        total_seconds = float(time_str)\n",
    "    return total_seconds\n",
    "\n",
    "# Apply the conversion to the Time column for women's records\n",
    "data_women[\"Time\"] = [time_to_seconds(time) for time in data_women[\"Time\"]]\n",
    "\n",
    "# Convert to a DataFrame for women's records\n",
    "df_women = pd.DataFrame(data_women)\n",
    "\n",
    "# Add \"LCM Female\" to the Event column\n",
    "df_women[\"Event\"] = df_women[\"Event\"] + \" LCM Female\"\n",
    "\n",
    "# Display the DataFrame\n",
    "print(df_women)\n"
   ]
  },
  {
   "cell_type": "code",
   "execution_count": 8,
   "id": "9c8b352b-c7ef-41da-9d5b-5021f4580979",
   "metadata": {},
   "outputs": [
    {
     "name": "stdout",
     "output_type": "stream",
     "text": [
      "                    Event    Time\n",
      "0      50 Free SCM Female   22.83\n",
      "1     100 Free SCM Female   50.25\n",
      "2     200 Free SCM Female  110.31\n",
      "3     400 Free SCM Female  230.25\n",
      "4     800 Free SCM Female  477.42\n",
      "5    1500 Free SCM Female  908.24\n",
      "6      50 Back SCM Female   25.23\n",
      "7     100 Back SCM Female   54.02\n",
      "8     200 Back SCM Female  118.04\n",
      "9    50 Breast SCM Female   28.37\n",
      "10  100 Breast SCM Female   62.36\n",
      "11  200 Breast SCM Female  132.50\n",
      "12      50 Fly SCM Female   23.94\n",
      "13     100 Fly SCM Female   52.71\n",
      "14     200 Fly SCM Female  119.32\n",
      "15      100 IM SCM Female   55.11\n",
      "16      200 IM SCM Female  121.63\n",
      "17      400 IM SCM Female  255.48\n"
     ]
    }
   ],
   "source": [
    "import pandas as pd\n",
    "\n",
    "# Data for the events and times\n",
    "data = {\n",
    "    \"Event\": [\n",
    "        \"50 Free\", \"100 Free\", \"200 Free\", \"400 Free\", \"800 Free\", \"1500 Free\",\n",
    "        \"50 Back\", \"100 Back\", \"200 Back\", \"50 Breast\", \"100 Breast\", \"200 Breast\",\n",
    "        \"50 Fly\", \"100 Fly\", \"200 Fly\", \"100 IM\", \"200 IM\", \"400 IM\"\n",
    "    ],\n",
    "    \"Time\": [\n",
    "        \"22.83\", \"50.25\", \"1:50.31\", \"3:50.25\", \"7:57.42\", \"15:08.24\",\n",
    "        \"25.23\", \"54.02\", \"1:58.04\", \"28.37\", \"1:02.36\", \"2:12.50\",\n",
    "        \"23.94\", \"52.71\", \"1:59.32\", \"55.11\", \"2:01.63\", \"4:15.48\"\n",
    "    ]\n",
    "}\n",
    "\n",
    "# Function to convert time strings to seconds\n",
    "def time_to_seconds(time_str):\n",
    "    if ':' in time_str:\n",
    "        minutes, seconds = time_str.split(':')\n",
    "        total_seconds = int(minutes) * 60 + float(seconds)\n",
    "    else:\n",
    "        total_seconds = float(time_str)\n",
    "    return total_seconds\n",
    "\n",
    "# Apply the conversion to the Time column\n",
    "data[\"Time\"] = [time_to_seconds(time) for time in data[\"Time\"]]\n",
    "\n",
    "# Convert to a DataFrame\n",
    "df1 = pd.DataFrame(data)\n",
    "\n",
    "# Add \"SCM Female\" to the Event column\n",
    "df1[\"Event\"] = df1[\"Event\"] + \" SCM Female\"\n",
    "\n",
    "# Display the DataFrame\n",
    "print(df1)\n"
   ]
  },
  {
   "cell_type": "code",
   "execution_count": 9,
   "id": "0c9b071e-0f6a-4024-8fa2-d3f9af546f0b",
   "metadata": {},
   "outputs": [
    {
     "name": "stdout",
     "output_type": "stream",
     "text": [
      "                  Event    Time\n",
      "0      50 Free SCM Male   19.90\n",
      "1     100 Free SCM Male   44.84\n",
      "2     200 Free SCM Male   98.61\n",
      "3     400 Free SCM Male  212.25\n",
      "4     800 Free SCM Male  440.46\n",
      "5    1500 Free SCM Male  846.88\n",
      "6      50 Back SCM Male   22.11\n",
      "7     100 Back SCM Male   48.33\n",
      "8     200 Back SCM Male  105.63\n",
      "9    50 Breast SCM Male   24.95\n",
      "10  100 Breast SCM Male   55.28\n",
      "11  200 Breast SCM Male  120.16\n",
      "12      50 Fly SCM Male   21.32\n",
      "13     100 Fly SCM Male   47.71\n",
      "14     200 Fly SCM Male  106.85\n",
      "15      100 IM SCM Male   49.28\n",
      "16      200 IM SCM Male  108.88\n",
      "17      400 IM SCM Male  234.81\n"
     ]
    }
   ],
   "source": [
    "import pandas as pd\n",
    "\n",
    "# Data for the events and times\n",
    "data = {\n",
    "    \"Event\": [\n",
    "        \"50 Free\", \"100 Free\", \"200 Free\", \"400 Free\", \"800 Free\", \"1500 Free\",\n",
    "        \"50 Back\", \"100 Back\", \"200 Back\", \"50 Breast\", \"100 Breast\", \"200 Breast\",\n",
    "        \"50 Fly\", \"100 Fly\", \"200 Fly\", \"100 IM\", \"200 IM\", \"400 IM\"\n",
    "    ],\n",
    "    \"Time\": [\n",
    "        \"19.90\", \"44.84\", \"1:38.61\", \"3:32.25\", \"7:20.46\", \"14:06.88\",\n",
    "        \"22.11\", \"48.33\", \"1:45.63\", \"24.95\", \"55.28\", \"2:00.16\",\n",
    "        \"21.32\", \"47.71\", \"1:46.85\", \"49.28\", \"1:48.88\", \"3:54.81\"\n",
    "    ]\n",
    "}\n",
    "\n",
    "# Function to convert time strings to seconds\n",
    "def time_to_seconds(time_str):\n",
    "    if ':' in time_str:\n",
    "        minutes, seconds = time_str.split(':')\n",
    "        total_seconds = int(minutes) * 60 + float(seconds)\n",
    "    else:\n",
    "        total_seconds = float(time_str)\n",
    "    return total_seconds\n",
    "\n",
    "# Apply the conversion to the Time column\n",
    "data[\"Time\"] = [time_to_seconds(time) for time in data[\"Time\"]]\n",
    "\n",
    "# Convert to a DataFrame\n",
    "df2 = pd.DataFrame(data)\n",
    "\n",
    "# Add \"SCM Male\" to the Event column\n",
    "df2[\"Event\"] = df2[\"Event\"] + \" SCM Male\"\n",
    "\n",
    "# Display the DataFrame\n",
    "print(df2)\n"
   ]
  },
  {
   "cell_type": "code",
   "execution_count": 10,
   "id": "1bf62135-6b0f-4d69-bca7-90353369fdf0",
   "metadata": {},
   "outputs": [
    {
     "data": {
      "text/plain": [
       "(106, 2)"
      ]
     },
     "execution_count": 10,
     "metadata": {},
     "output_type": "execute_result"
    }
   ],
   "source": [
    "all_records = pd.concat([records, df, df_women, df2, df1],axis=0)\n",
    "all_records.shape"
   ]
  },
  {
   "cell_type": "code",
   "execution_count": 11,
   "id": "60965b61-a249-4802-9f4a-2b9a3996ddee",
   "metadata": {},
   "outputs": [
    {
     "data": {
      "text/plain": [
       "Event     object\n",
       "Time     float64\n",
       "dtype: object"
      ]
     },
     "execution_count": 11,
     "metadata": {},
     "output_type": "execute_result"
    }
   ],
   "source": [
    "all_records.dtypes"
   ]
  },
  {
   "cell_type": "code",
   "execution_count": 12,
   "id": "efbec608-a695-40e4-a4d0-f17f432975c2",
   "metadata": {},
   "outputs": [],
   "source": [
    "all_records.Event = all_records.Event.astype('string')"
   ]
  },
  {
   "cell_type": "code",
   "execution_count": 13,
   "id": "c7ab1f0c-0762-4466-8f59-80227c02c615",
   "metadata": {},
   "outputs": [
    {
     "data": {
      "text/plain": [
       "0"
      ]
     },
     "execution_count": 13,
     "metadata": {},
     "output_type": "execute_result"
    }
   ],
   "source": [
    "all_records.isna().sum().sum()"
   ]
  },
  {
   "cell_type": "code",
   "execution_count": 14,
   "id": "a047728b-a6d0-4fcb-8a90-6c3f23900181",
   "metadata": {},
   "outputs": [],
   "source": [
    "all_records.set_index('Event',inplace=True)"
   ]
  },
  {
   "cell_type": "code",
   "execution_count": 15,
   "id": "746d9167-06d8-413a-88d2-724804998250",
   "metadata": {},
   "outputs": [
    {
     "data": {
      "text/html": [
       "<div>\n",
       "<style scoped>\n",
       "    .dataframe tbody tr th:only-of-type {\n",
       "        vertical-align: middle;\n",
       "    }\n",
       "\n",
       "    .dataframe tbody tr th {\n",
       "        vertical-align: top;\n",
       "    }\n",
       "\n",
       "    .dataframe thead th {\n",
       "        text-align: right;\n",
       "    }\n",
       "</style>\n",
       "<table border=\"1\" class=\"dataframe\">\n",
       "  <thead>\n",
       "    <tr style=\"text-align: right;\">\n",
       "      <th></th>\n",
       "      <th>Time</th>\n",
       "    </tr>\n",
       "    <tr>\n",
       "      <th>Event</th>\n",
       "      <th></th>\n",
       "    </tr>\n",
       "  </thead>\n",
       "  <tbody>\n",
       "    <tr>\n",
       "      <th>50 Freestyle SCY Male</th>\n",
       "      <td>17.63</td>\n",
       "    </tr>\n",
       "    <tr>\n",
       "      <th>100 Freestyle SCY Male</th>\n",
       "      <td>39.90</td>\n",
       "    </tr>\n",
       "    <tr>\n",
       "      <th>200 Freestyle SCY Male</th>\n",
       "      <td>88.81</td>\n",
       "    </tr>\n",
       "    <tr>\n",
       "      <th>500 Freestyle SCY Male</th>\n",
       "      <td>242.31</td>\n",
       "    </tr>\n",
       "    <tr>\n",
       "      <th>1000 Freestyle SCY Male</th>\n",
       "      <td>513.93</td>\n",
       "    </tr>\n",
       "    <tr>\n",
       "      <th>...</th>\n",
       "      <td>...</td>\n",
       "    </tr>\n",
       "    <tr>\n",
       "      <th>100 Fly SCM Female</th>\n",
       "      <td>52.71</td>\n",
       "    </tr>\n",
       "    <tr>\n",
       "      <th>200 Fly SCM Female</th>\n",
       "      <td>119.32</td>\n",
       "    </tr>\n",
       "    <tr>\n",
       "      <th>100 IM SCM Female</th>\n",
       "      <td>55.11</td>\n",
       "    </tr>\n",
       "    <tr>\n",
       "      <th>200 IM SCM Female</th>\n",
       "      <td>121.63</td>\n",
       "    </tr>\n",
       "    <tr>\n",
       "      <th>400 IM SCM Female</th>\n",
       "      <td>255.48</td>\n",
       "    </tr>\n",
       "  </tbody>\n",
       "</table>\n",
       "<p>106 rows × 1 columns</p>\n",
       "</div>"
      ],
      "text/plain": [
       "                           Time\n",
       "Event                          \n",
       "50 Freestyle SCY Male     17.63\n",
       "100 Freestyle SCY Male    39.90\n",
       "200 Freestyle SCY Male    88.81\n",
       "500 Freestyle SCY Male   242.31\n",
       "1000 Freestyle SCY Male  513.93\n",
       "...                         ...\n",
       "100 Fly SCM Female        52.71\n",
       "200 Fly SCM Female       119.32\n",
       "100 IM SCM Female         55.11\n",
       "200 IM SCM Female        121.63\n",
       "400 IM SCM Female        255.48\n",
       "\n",
       "[106 rows x 1 columns]"
      ]
     },
     "execution_count": 15,
     "metadata": {},
     "output_type": "execute_result"
    }
   ],
   "source": [
    "all_records"
   ]
  },
  {
   "cell_type": "code",
   "execution_count": 16,
   "id": "8c7d462f-e001-4fdd-b37f-d501371d638e",
   "metadata": {},
   "outputs": [],
   "source": [
    "all_records.to_csv('all_records.csv',index=True)"
   ]
  },
  {
   "cell_type": "code",
   "execution_count": null,
   "id": "70a0c860-b8a5-4619-b272-d0df09e7762e",
   "metadata": {},
   "outputs": [],
   "source": []
  }
 ],
 "metadata": {
  "kernelspec": {
   "display_name": "Python 3 (ipykernel)",
   "language": "python",
   "name": "python3"
  },
  "language_info": {
   "codemirror_mode": {
    "name": "ipython",
    "version": 3
   },
   "file_extension": ".py",
   "mimetype": "text/x-python",
   "name": "python",
   "nbconvert_exporter": "python",
   "pygments_lexer": "ipython3",
   "version": "3.11.10"
  }
 },
 "nbformat": 4,
 "nbformat_minor": 5
}
