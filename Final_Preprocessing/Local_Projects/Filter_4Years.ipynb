{
 "cells": [
  {
   "cell_type": "code",
   "execution_count": 1,
   "id": "1edced56-5208-42ee-9524-b7b064b70b1b",
   "metadata": {},
   "outputs": [],
   "source": [
    "import pandas as pd"
   ]
  },
  {
   "cell_type": "code",
   "execution_count": 2,
   "id": "6c2a9d18-172d-4e5b-a1d4-67fb2f8b137a",
   "metadata": {},
   "outputs": [
    {
     "data": {
      "text/html": [
       "<div>\n",
       "<style scoped>\n",
       "    .dataframe tbody tr th:only-of-type {\n",
       "        vertical-align: middle;\n",
       "    }\n",
       "\n",
       "    .dataframe tbody tr th {\n",
       "        vertical-align: top;\n",
       "    }\n",
       "\n",
       "    .dataframe thead th {\n",
       "        text-align: right;\n",
       "    }\n",
       "</style>\n",
       "<table border=\"1\" class=\"dataframe\">\n",
       "  <thead>\n",
       "    <tr style=\"text-align: right;\">\n",
       "      <th></th>\n",
       "      <th>Event</th>\n",
       "      <th>Conf_Rank</th>\n",
       "      <th>Time</th>\n",
       "      <th>Name</th>\n",
       "      <th>School</th>\n",
       "      <th>Standard</th>\n",
       "      <th>Date</th>\n",
       "      <th>Gender</th>\n",
       "      <th>Division</th>\n",
       "      <th>Season</th>\n",
       "      <th>SeasonYear</th>\n",
       "      <th>Time_Adj</th>\n",
       "      <th>Time_Sec</th>\n",
       "      <th>Points</th>\n",
       "      <th>Div_Rank</th>\n",
       "      <th>NCAA_Rank</th>\n",
       "      <th>Power</th>\n",
       "    </tr>\n",
       "  </thead>\n",
       "  <tbody>\n",
       "    <tr>\n",
       "      <th>0</th>\n",
       "      <td>50 Freestyle SCY Male</td>\n",
       "      <td>1</td>\n",
       "      <td>19.71</td>\n",
       "      <td>Ilia Rattsev</td>\n",
       "      <td>UMBC</td>\n",
       "      <td>NS</td>\n",
       "      <td>2020-02-28</td>\n",
       "      <td>M</td>\n",
       "      <td>I</td>\n",
       "      <td>19_20</td>\n",
       "      <td>2020</td>\n",
       "      <td>0 days 00:00:19.710000</td>\n",
       "      <td>19.71</td>\n",
       "      <td>715.644049</td>\n",
       "      <td>92.0</td>\n",
       "      <td>94.0</td>\n",
       "      <td>-1.00</td>\n",
       "    </tr>\n",
       "    <tr>\n",
       "      <th>1</th>\n",
       "      <td>50 Freestyle SCY Male</td>\n",
       "      <td>2</td>\n",
       "      <td>20.20</td>\n",
       "      <td>Tiago ASAKAWA</td>\n",
       "      <td>UMBC</td>\n",
       "      <td>NS</td>\n",
       "      <td>2020-02-14</td>\n",
       "      <td>M</td>\n",
       "      <td>I</td>\n",
       "      <td>19_20</td>\n",
       "      <td>2020</td>\n",
       "      <td>0 days 00:00:20.200000</td>\n",
       "      <td>20.20</td>\n",
       "      <td>664.818090</td>\n",
       "      <td>252.0</td>\n",
       "      <td>291.0</td>\n",
       "      <td>15.96</td>\n",
       "    </tr>\n",
       "  </tbody>\n",
       "</table>\n",
       "</div>"
      ],
      "text/plain": [
       "                   Event  Conf_Rank   Time           Name School Standard  \\\n",
       "0  50 Freestyle SCY Male          1  19.71   Ilia Rattsev   UMBC       NS   \n",
       "1  50 Freestyle SCY Male          2  20.20  Tiago ASAKAWA   UMBC       NS   \n",
       "\n",
       "        Date Gender Division Season  SeasonYear               Time_Adj  \\\n",
       "0 2020-02-28      M        I  19_20        2020 0 days 00:00:19.710000   \n",
       "1 2020-02-14      M        I  19_20        2020 0 days 00:00:20.200000   \n",
       "\n",
       "   Time_Sec      Points  Div_Rank  NCAA_Rank  Power  \n",
       "0     19.71  715.644049      92.0       94.0  -1.00  \n",
       "1     20.20  664.818090     252.0      291.0  15.96  "
      ]
     },
     "execution_count": 2,
     "metadata": {},
     "output_type": "execute_result"
    }
   ],
   "source": [
    "df = pd.read_parquet('cleaned_USAS.parquet')\n",
    "df.head(2)"
   ]
  },
  {
   "cell_type": "code",
   "execution_count": 3,
   "id": "b3bf8054-be9d-4077-a31e-ebdab517431f",
   "metadata": {},
   "outputs": [
    {
     "data": {
      "text/plain": [
       "(539783, 17)"
      ]
     },
     "execution_count": 3,
     "metadata": {},
     "output_type": "execute_result"
    }
   ],
   "source": [
    "df.shape"
   ]
  },
  {
   "cell_type": "code",
   "execution_count": 4,
   "id": "f5cadb01-8a4d-489a-a90e-03c13e83e216",
   "metadata": {},
   "outputs": [
    {
     "data": {
      "text/plain": [
       "(299511, 17)"
      ]
     },
     "execution_count": 4,
     "metadata": {},
     "output_type": "execute_result"
    }
   ],
   "source": [
    "filtered_df = df.groupby('Name',observed=False).filter(lambda x: x['SeasonYear'].nunique() >= 3)\n",
    "filtered_df.shape"
   ]
  },
  {
   "cell_type": "code",
   "execution_count": 5,
   "id": "e612ee3b-0b1a-409e-a7b9-ae8069802480",
   "metadata": {},
   "outputs": [
    {
     "data": {
      "text/plain": [
       "44430"
      ]
     },
     "execution_count": 5,
     "metadata": {},
     "output_type": "execute_result"
    }
   ],
   "source": [
    "df.Name.nunique()"
   ]
  },
  {
   "cell_type": "code",
   "execution_count": 6,
   "id": "dc5a4aa5-00fe-443f-aa36-f26e53f83735",
   "metadata": {},
   "outputs": [
    {
     "data": {
      "text/plain": [
       "14556"
      ]
     },
     "execution_count": 6,
     "metadata": {},
     "output_type": "execute_result"
    }
   ],
   "source": [
    "filtered_df.Name.nunique()"
   ]
  },
  {
   "cell_type": "code",
   "execution_count": 7,
   "id": "268e2f5c-b524-46d5-9451-b38754e32b83",
   "metadata": {},
   "outputs": [
    {
     "data": {
      "text/html": [
       "<div>\n",
       "<style scoped>\n",
       "    .dataframe tbody tr th:only-of-type {\n",
       "        vertical-align: middle;\n",
       "    }\n",
       "\n",
       "    .dataframe tbody tr th {\n",
       "        vertical-align: top;\n",
       "    }\n",
       "\n",
       "    .dataframe thead th {\n",
       "        text-align: right;\n",
       "    }\n",
       "</style>\n",
       "<table border=\"1\" class=\"dataframe\">\n",
       "  <thead>\n",
       "    <tr style=\"text-align: right;\">\n",
       "      <th></th>\n",
       "      <th>Event</th>\n",
       "      <th>Conf_Rank</th>\n",
       "      <th>Time</th>\n",
       "      <th>Name</th>\n",
       "      <th>School</th>\n",
       "      <th>Standard</th>\n",
       "      <th>Date</th>\n",
       "      <th>Gender</th>\n",
       "      <th>Division</th>\n",
       "      <th>Season</th>\n",
       "      <th>SeasonYear</th>\n",
       "      <th>Time_Adj</th>\n",
       "      <th>Time_Sec</th>\n",
       "      <th>Points</th>\n",
       "      <th>Div_Rank</th>\n",
       "      <th>NCAA_Rank</th>\n",
       "      <th>Power</th>\n",
       "    </tr>\n",
       "  </thead>\n",
       "  <tbody>\n",
       "    <tr>\n",
       "      <th>1</th>\n",
       "      <td>50 Freestyle SCY Male</td>\n",
       "      <td>2</td>\n",
       "      <td>20.20</td>\n",
       "      <td>Tiago ASAKAWA</td>\n",
       "      <td>UMBC</td>\n",
       "      <td>NS</td>\n",
       "      <td>2020-02-14</td>\n",
       "      <td>M</td>\n",
       "      <td>I</td>\n",
       "      <td>19_20</td>\n",
       "      <td>2020</td>\n",
       "      <td>0 days 00:00:20.200000</td>\n",
       "      <td>20.20</td>\n",
       "      <td>664.818090</td>\n",
       "      <td>252.0</td>\n",
       "      <td>291.0</td>\n",
       "      <td>15.96</td>\n",
       "    </tr>\n",
       "    <tr>\n",
       "      <th>3</th>\n",
       "      <td>50 Freestyle SCY Male</td>\n",
       "      <td>4</td>\n",
       "      <td>20.72</td>\n",
       "      <td>Niklas Weigelt</td>\n",
       "      <td>UMBC</td>\n",
       "      <td>NS</td>\n",
       "      <td>2020-02-14</td>\n",
       "      <td>M</td>\n",
       "      <td>I</td>\n",
       "      <td>19_20</td>\n",
       "      <td>2020</td>\n",
       "      <td>0 days 00:00:20.720000</td>\n",
       "      <td>20.72</td>\n",
       "      <td>616.009888</td>\n",
       "      <td>542.0</td>\n",
       "      <td>690.0</td>\n",
       "      <td>8.38</td>\n",
       "    </tr>\n",
       "    <tr>\n",
       "      <th>4</th>\n",
       "      <td>50 Freestyle SCY Male</td>\n",
       "      <td>5</td>\n",
       "      <td>20.79</td>\n",
       "      <td>Ben Beldner</td>\n",
       "      <td>Binghamton</td>\n",
       "      <td>NS</td>\n",
       "      <td>2020-03-12</td>\n",
       "      <td>M</td>\n",
       "      <td>I</td>\n",
       "      <td>19_20</td>\n",
       "      <td>2020</td>\n",
       "      <td>0 days 00:00:20.790000</td>\n",
       "      <td>20.79</td>\n",
       "      <td>609.808493</td>\n",
       "      <td>595.0</td>\n",
       "      <td>769.0</td>\n",
       "      <td>22.71</td>\n",
       "    </tr>\n",
       "    <tr>\n",
       "      <th>5</th>\n",
       "      <td>50 Freestyle SCY Male</td>\n",
       "      <td>6</td>\n",
       "      <td>20.90</td>\n",
       "      <td>Justin Meyn</td>\n",
       "      <td>Binghamton</td>\n",
       "      <td>NS</td>\n",
       "      <td>2020-02-14</td>\n",
       "      <td>M</td>\n",
       "      <td>I</td>\n",
       "      <td>19_20</td>\n",
       "      <td>2020</td>\n",
       "      <td>0 days 00:00:20.900000</td>\n",
       "      <td>20.90</td>\n",
       "      <td>600.230526</td>\n",
       "      <td>670.0</td>\n",
       "      <td>892.0</td>\n",
       "      <td>10.06</td>\n",
       "    </tr>\n",
       "    <tr>\n",
       "      <th>6</th>\n",
       "      <td>50 Freestyle SCY Male</td>\n",
       "      <td>7</td>\n",
       "      <td>20.95</td>\n",
       "      <td>Joshua Franco</td>\n",
       "      <td>NJIT</td>\n",
       "      <td>NS</td>\n",
       "      <td>2020-03-12</td>\n",
       "      <td>M</td>\n",
       "      <td>I</td>\n",
       "      <td>19_20</td>\n",
       "      <td>2020</td>\n",
       "      <td>0 days 00:00:20.950000</td>\n",
       "      <td>20.95</td>\n",
       "      <td>595.943181</td>\n",
       "      <td>703.0</td>\n",
       "      <td>949.0</td>\n",
       "      <td>-1.00</td>\n",
       "    </tr>\n",
       "  </tbody>\n",
       "</table>\n",
       "</div>"
      ],
      "text/plain": [
       "                   Event  Conf_Rank   Time            Name      School  \\\n",
       "1  50 Freestyle SCY Male          2  20.20   Tiago ASAKAWA        UMBC   \n",
       "3  50 Freestyle SCY Male          4  20.72  Niklas Weigelt        UMBC   \n",
       "4  50 Freestyle SCY Male          5  20.79     Ben Beldner  Binghamton   \n",
       "5  50 Freestyle SCY Male          6  20.90     Justin Meyn  Binghamton   \n",
       "6  50 Freestyle SCY Male          7  20.95   Joshua Franco        NJIT   \n",
       "\n",
       "  Standard       Date Gender Division Season  SeasonYear  \\\n",
       "1       NS 2020-02-14      M        I  19_20        2020   \n",
       "3       NS 2020-02-14      M        I  19_20        2020   \n",
       "4       NS 2020-03-12      M        I  19_20        2020   \n",
       "5       NS 2020-02-14      M        I  19_20        2020   \n",
       "6       NS 2020-03-12      M        I  19_20        2020   \n",
       "\n",
       "                Time_Adj  Time_Sec      Points  Div_Rank  NCAA_Rank  Power  \n",
       "1 0 days 00:00:20.200000     20.20  664.818090     252.0      291.0  15.96  \n",
       "3 0 days 00:00:20.720000     20.72  616.009888     542.0      690.0   8.38  \n",
       "4 0 days 00:00:20.790000     20.79  609.808493     595.0      769.0  22.71  \n",
       "5 0 days 00:00:20.900000     20.90  600.230526     670.0      892.0  10.06  \n",
       "6 0 days 00:00:20.950000     20.95  595.943181     703.0      949.0  -1.00  "
      ]
     },
     "execution_count": 7,
     "metadata": {},
     "output_type": "execute_result"
    }
   ],
   "source": [
    "filtered_df.head()"
   ]
  },
  {
   "cell_type": "code",
   "execution_count": 8,
   "id": "2406dbc7-f672-41ce-b401-63f998419e91",
   "metadata": {},
   "outputs": [],
   "source": [
    "filtered_df.to_parquet('4YR_cleaned_USAS.parquet', index=False) "
   ]
  },
  {
   "cell_type": "code",
   "execution_count": null,
   "id": "94299caa-8c56-45c1-a7c5-54294e0f1270",
   "metadata": {},
   "outputs": [],
   "source": []
  }
 ],
 "metadata": {
  "kernelspec": {
   "display_name": "Python 3 (ipykernel)",
   "language": "python",
   "name": "python3"
  },
  "language_info": {
   "codemirror_mode": {
    "name": "ipython",
    "version": 3
   },
   "file_extension": ".py",
   "mimetype": "text/x-python",
   "name": "python",
   "nbconvert_exporter": "python",
   "pygments_lexer": "ipython3",
   "version": "3.12.3"
  }
 },
 "nbformat": 4,
 "nbformat_minor": 5
}
