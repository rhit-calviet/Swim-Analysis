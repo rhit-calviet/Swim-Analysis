{
 "cells": [
  {
   "cell_type": "code",
   "execution_count": 45,
   "id": "86709982-07b1-41e8-8c2f-6423d9e4c49b",
   "metadata": {},
   "outputs": [],
   "source": [
    "import requests\n",
    "import csv\n",
    "from bs4 import BeautifulSoup as bs\n",
    "import pandas as pd\n",
    "import time as _time\n",
    "from selenium import webdriver\n",
    "from selenium.webdriver.common.by import By\n",
    "from selenium.webdriver.support.ui import WebDriverWait\n",
    "from selenium.webdriver.support import expected_conditions as EC\n",
    "from selenium.webdriver.support.ui import Select\n",
    "from selenium.webdriver.chrome.options import Options\n",
    "from selenium.common.exceptions import TimeoutException\n",
    "from selenium.common.exceptions import NoSuchElementException\n",
    "from selenium.common.exceptions import StaleElementReferenceException\n",
    "from selenium.webdriver.common.action_chains import ActionChains\n",
    "import re"
   ]
  },
  {
   "cell_type": "code",
   "execution_count": 111,
   "id": "dfb74311-6a5e-4ead-b406-26ab85e81349",
   "metadata": {},
   "outputs": [],
   "source": [
    "def getpi(swimmer_name):\n",
    "    swimmer_name_url = 'https://swimcloud.com/recruiting/rankings/?name='+swimmer_name.replace(' ','+')\n",
    "    name_url = requests.get(swimmer_name_url, headers = {'User-Agent': 'Mozilla/5.0 (Windows NT 10.0; Win64; x64) AppleWebKit/537.36 (KHTML, like Gecko) Chrome/81.0.4044.138 Safari/537.36', 'Referer' : 'https://google.com/'})\n",
    "    name_url.encoding = 'utf-8'\n",
    "    name_soup = bs(name_url.text, 'html.parser')\n",
    "    # print(name_soup)\n",
    "    # print(name_soup)\n",
    "    # print(name_url.text)\n",
    "    names=[]\n",
    "    links=[]\n",
    "    idxs=[]\n",
    "    teams=[]\n",
    "    swimmer_list = name_soup.find('tbody').find_all('tr')\n",
    "    i=0\n",
    "    for swimmer in swimmer_list:\n",
    "        if len(name_soup.find_all('td', {'class' : 'u-text-end'})):\n",
    "            print('No idx found')\n",
    "            break\n",
    "        name = swimmer.find(class_='u-text-semi')\n",
    "        names.append(name)\n",
    "        swimmer_link = name['href'] if name else ''\n",
    "        links.append(swimmer_link)\n",
    "        idxs.append(float(name_soup.find_all('td', {'class' : 'u-text-end'})[i].text.strip()))\n",
    "        team_td = swimmer.find_all('td', class_='u-text-center hidden-xs')[0]\n",
    "        # Find the <img> tag within the <td>\n",
    "        img_tag = team_td.find('img')\n",
    "        if img_tag == None:\n",
    "            teams.append('')\n",
    "        else:\n",
    "            # Extract the 'alt' attribute value, which contains the team name\n",
    "            team_name = img_tag['alt'][:-5]\n",
    "            teams.append(team_name)\n",
    "        i = i + 1\n",
    "\n",
    "    return [[names,links,idxs,teams]]\n",
    "    # if (len(names)==0):\n",
    "    #     return -1\n",
    "    # elif (len(names)==1):\n",
    "    #     return idxs[0]\n",
    "    # else:\n",
    "    #     print(names)\n",
    "    #     print(idxs)\n",
    "    #     print(teams)\n",
    "    #     return -1\n",
    "        # for i in range(len(names)):\n",
    "        #     swimmer_name_url = 'https://swimcloud.com'+links[i]\n",
    "        #     print('url:' + swimmer_name_url)\n",
    "        #     name_url = requests.get(swimmer_name_url, headers = {'User-Agent': 'Mozilla/5.0 (Windows NT 10.0; Win64; x64) AppleWebKit/537.36 (KHTML, like Gecko) Chrome/81.0.4044.138 Safari/537.36', 'Referer' : 'https://google.com/'})\n",
    "        #     name_url.encoding = 'utf-8'\n",
    "        #     name_soup = bs(name_url.text, 'html.parser')\n",
    "        #     ul = name_soup.find('ul', class_='o-list-inline o-list-inline--dotted')\n",
    "        #     location_li = ul.find_all('li')[0]\n",
    "            \n",
    "        #     # Extract and print the location text\n",
    "        #     location = location_li.text.strip()\n",
    "        #     print(location)  # This should print \"Kokomo, IN\"\n"
   ]
  },
  {
   "cell_type": "code",
   "execution_count": 112,
   "id": "556d89aa-0f84-457e-b53e-42ef099c9016",
   "metadata": {},
   "outputs": [],
   "source": [
    "def read_pg():\n",
    "    swimmer_name_url = 'https://www.swimcloud.com/swimmer/418728/'\n",
    "    name_url = requests.get(swimmer_name_url, headers = {'User-Agent': 'Mozilla/5.0 (Windows NT 10.0; Win64; x64) AppleWebKit/537.36 (KHTML, like Gecko) Chrome/81.0.4044.138 Safari/537.36', 'Referer' : 'https://google.com/'})\n",
    "    name_url.encoding = 'utf-8'\n",
    "    name_soup = bs(name_url.text, 'html.parser')\n",
    "    print(name_soup)\n",
    "    # print(name_url.text)\n",
    "    "
   ]
  },
  {
   "cell_type": "code",
   "execution_count": 113,
   "id": "ef06a77b-1802-4ccb-a0f4-2b4b9168a341",
   "metadata": {},
   "outputs": [
    {
     "name": "stdout",
     "output_type": "stream",
     "text": [
      "No idx found\n"
     ]
    },
    {
     "data": {
      "text/plain": [
       "-1"
      ]
     },
     "execution_count": 113,
     "metadata": {},
     "output_type": "execute_result"
    }
   ],
   "source": [
    "x=getpi('Daniel Brown')\n",
    "x"
   ]
  },
  {
   "cell_type": "code",
   "execution_count": null,
   "id": "9f2de2d2-628d-470b-a751-a1ea593a5298",
   "metadata": {},
   "outputs": [],
   "source": []
  }
 ],
 "metadata": {
  "kernelspec": {
   "display_name": "Python 3 (ipykernel)",
   "language": "python",
   "name": "python3"
  },
  "language_info": {
   "codemirror_mode": {
    "name": "ipython",
    "version": 3
   },
   "file_extension": ".py",
   "mimetype": "text/x-python",
   "name": "python",
   "nbconvert_exporter": "python",
   "pygments_lexer": "ipython3",
   "version": "3.12.3"
  }
 },
 "nbformat": 4,
 "nbformat_minor": 5
}
